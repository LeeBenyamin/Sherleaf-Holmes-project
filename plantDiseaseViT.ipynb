{
 "cells": [
  {
   "cell_type": "markdown",
   "source": [
    "In this Python notebook we will try to use vision transformer as another method to implement our classification plants & diseases task.\n",
    "This code is based on the ideas that presented on the paper - \"An Image Is Worth 16x16 Words\""
   ],
   "metadata": {
    "collapsed": false
   },
   "id": "985f9dd13880275c"
  },
  {
   "cell_type": "markdown",
   "source": [
    "part 1 - useful imports and functions:"
   ],
   "metadata": {
    "collapsed": false
   },
   "id": "87cafde374b12555"
  },
  {
   "cell_type": "code",
   "outputs": [
    {
     "name": "stdout",
     "output_type": "stream",
     "text": [
      "Collecting torchsummary\r\n",
      "  Downloading torchsummary-1.5.1-py3-none-any.whl.metadata (296 bytes)\r\n",
      "Downloading torchsummary-1.5.1-py3-none-any.whl (2.8 kB)\r\n",
      "Installing collected packages: torchsummary\r\n",
      "Successfully installed torchsummary-1.5.1\r\n",
      "Note: you may need to restart the kernel to use updated packages.\n"
     ]
    }
   ],
   "source": [
    "pip install torchsummary"
   ],
   "metadata": {
    "collapsed": false,
    "ExecuteTime": {
     "end_time": "2024-03-22T10:01:22.976417Z",
     "start_time": "2024-03-22T10:01:21.084043Z"
    }
   },
   "id": "ba85455cebdf4e58",
   "execution_count": 206
  },
  {
   "cell_type": "code",
   "outputs": [],
   "source": [
    "import os\n",
    "import numpy as np\n",
    "import pandas as pd\n",
    "import torch\n",
    "import torch.nn as nn\n",
    "from torch.utils.data import TensorDataset, DataLoader\n",
    "import torchvision\n",
    "import matplotlib.pyplot as plt\n",
    "import time\n",
    "from torchvision import datasets, transforms\n",
    "import random\n",
    "from tqdm import tqdm\n",
    "from torchsummary import summary"
   ],
   "metadata": {
    "collapsed": false,
    "ExecuteTime": {
     "end_time": "2024-03-23T14:18:16.297191Z",
     "start_time": "2024-03-23T14:18:14.454888Z"
    }
   },
   "id": "40774387c55d31e2",
   "execution_count": 1
  },
  {
   "cell_type": "code",
   "outputs": [
    {
     "name": "stdout",
     "output_type": "stream",
     "text": [
      "using MPS\n"
     ]
    }
   ],
   "source": [
    "def divide_to_patches(image, patch_size=16, grid_w=14, grid_h=14):\n",
    "    image_width, image_height = image.shape[1], image.shape[2]\n",
    "    num_of_patches = (image_width // patch_size) * (image_height // patch_size)\n",
    "    patches_list = []\n",
    "    patches = np.zeros((num_of_patches, 3, patch_size, patch_size))\n",
    "    for i in range(grid_h):\n",
    "        for j in range(grid_w):\n",
    "            patches_list.append(image[0:3, i*patch_size : (i+1)*patch_size, j*patch_size : (j+1)*patch_size])\n",
    "    for i in range(len(patches_list)):\n",
    "        patches[i] = patches_list[i]\n",
    "    return torch.Tensor(patches)\n",
    "\n",
    "def flatten_patch_to_sequence(patch):\n",
    "    flattened_tensor = patch.view(196, -1)\n",
    "    return flattened_tensor\n",
    "\n",
    "def show_image_patches(patches: torch.Tensor, grid_width=14, grid_height=14):\n",
    "    num_images = patches.shape[0]\n",
    "    fig, axes = plt.subplots(grid_width, grid_height, figsize=(10, 10))\n",
    "    for i in range(num_images):\n",
    "        part_of_image = patches[i].clamp(0, 1).numpy()\n",
    "        ax = axes[i // grid_width, i % grid_height]\n",
    "        ax.imshow(part_of_image.transpose(1, 2, 0)) \n",
    "        ax.axis('off')\n",
    "    plt.tight_layout()\n",
    "    plt.show()\n",
    "\n",
    "def show_sequenced_patch(patches: torch.Tensor, grid_width=14, grid_height=14):\n",
    "    num_images = patches.shape[0]\n",
    "    fig, axes = plt.subplots(1, grid_width * grid_height, figsize=(30, 1))\n",
    "    for i in range(num_images):\n",
    "        part_of_image = patches[i].clamp(0, 1).numpy()\n",
    "        ax = axes[i]\n",
    "        ax.imshow(part_of_image.transpose(1, 2, 0)) \n",
    "        ax.axis('off')\n",
    "    plt.show()\n",
    "\n",
    "def calculate_accuracy(model, dataloader, device):\n",
    "    model.eval() # put in evaluation mode,  turn off Dropout, BatchNorm uses learned statistics\n",
    "    total_correct = 0\n",
    "    total_images = 0\n",
    "    confusion_matrix = np.zeros([38, 38], int)\n",
    "    with torch.no_grad():\n",
    "        for data in dataloader:\n",
    "            images, labels = data\n",
    "            images = images.to(device)\n",
    "            labels = labels.to(device)\n",
    "            outputs = model(images)\n",
    "            _, predicted = torch.max(outputs.data, 1)\n",
    "            total_images += labels.size(0)\n",
    "            total_correct += (predicted == labels).sum().item()\n",
    "            for i, l in enumerate(labels):\n",
    "                confusion_matrix[l.item(), predicted[i].item()] += 1\n",
    "\n",
    "    model_accuracy = total_correct / total_images * 100\n",
    "    return model_accuracy, confusion_matrix\n",
    "\n",
    "device = torch.device(\"cuda:0\" if torch.cuda.is_available() else \"cpu\")\n",
    "if torch.backends.mps.is_built():\n",
    "    print(\"using MPS\")\n",
    "    device = torch.device(\"mps\")\n"
   ],
   "metadata": {
    "collapsed": false,
    "ExecuteTime": {
     "end_time": "2024-03-23T14:18:20.542277Z",
     "start_time": "2024-03-23T14:18:20.534952Z"
    }
   },
   "id": "d92de55f4d067f0",
   "execution_count": 2
  },
  {
   "cell_type": "markdown",
   "source": [
    "part 2 - loading the dataset:"
   ],
   "metadata": {
    "collapsed": false
   },
   "id": "e2ec2ca056bcd573"
  },
  {
   "cell_type": "code",
   "outputs": [
    {
     "name": "stdout",
     "output_type": "stream",
     "text": [
      "train dataset has 34755 samples\n",
      "validation dataset has 4345 samples\n",
      "test dataset has 4344 samples\n"
     ]
    }
   ],
   "source": [
    "local_root_dir = 'Dataset/PlantVillage'\n",
    "\n",
    "dataset_transform = transforms.Compose([\n",
    "    transforms.Resize((224,224)),\n",
    "    transforms.ToTensor(),\n",
    "])\n",
    "\n",
    "classes = [\"Apple, Scab\", \"Apple, Black rot\", \"Apple, Cedar rust\", \"Apple, Healthy\", \"Blueberry, Healthy\",\n",
    "           \"Cherry, Healthy\", \"Cherry, Powdery mildew\", \"Corn, Cercospora spot\", \"Corn, Common rust\",\n",
    "           \"Corn, Healthy\", \"Corn Northern Leaf Blight\", \"Grape, Black rot\", \"Grape, Esca\", \"Grape, Healthy\",\n",
    "           \"Grape, Leaf blight (Isariposis)\", \"Orange, Haunglongbing\", \"Peach, Bacterial spot\",\n",
    "           \"Peach, Healthy\", \"Pepper, Bacterial spot\", \"Pepper, Healthy\", \"Potato, Early Blight\",\n",
    "           \"Potato, Healthy\", \"Potato, Late Blight\", \"Raspberry, Healthy\", \"Soybean, Healthy\",\n",
    "           \"Squash, Powdery mildew\", \"Strawberry, Healthy\", \"Strawberry, Leaf Scorch\", \"Tomato, Bacterial spot\",\n",
    "           \"Tomato, Early Blight\", \"Tomato, Healthy\", \"Tomato, Late Blight\", \"Tomato, Leaf Mold\",\n",
    "           \"Tomato, Septoria leaf spot\", \"Tomato, Spider mites\", \"Tomato, Target spot\", \"Tomato, Moasic virus\",\n",
    "           \"Tomato, Yellow leaf curl virus\"]\n",
    "\n",
    "dataset = datasets.ImageFolder(root=local_root_dir + '/train',transform=dataset_transform)\n",
    "dataset_size = len(dataset)\n",
    "train_size = int(0.8 * dataset_size)\n",
    "test_size = int(0.1 * dataset_size)\n",
    "valid_size = dataset_size - train_size - test_size\n",
    "train_set, valid_set, test_set = torch.utils.data.random_split(dataset, [train_size, valid_size, test_size])\n",
    "print(f\"train dataset has {train_size} samples\\nvalidation dataset has {valid_size} samples\\ntest dataset has {test_size} samples\")\n"
   ],
   "metadata": {
    "collapsed": false,
    "ExecuteTime": {
     "end_time": "2024-03-23T14:18:26.451439Z",
     "start_time": "2024-03-23T14:18:26.107310Z"
    }
   },
   "id": "b64daf735a76731f",
   "execution_count": 3
  },
  {
   "cell_type": "markdown",
   "source": [
    "part 3 - preparing the data for the encoder:\n",
    "\n",
    "According to the paper it is required to split the input images to patches. We will use the same size as suggested - 16x16 patches.\n",
    "The images are with size of (224,224), therefore each image will have $\\frac{224}{16}$ $\\cdot$ $\\frac{224}{16}$ = $14$$\\cdot$$14$ = $196$ patches.\n",
    "After we patched the image, we need to make it looks more like a sequence, so we will flatten the tensor (image) to 196$\\times$768 tensor, where 196 represents the number of patches and 768 represents the flattened tensor of each patch: $\\underbrace{\\text{16}}_{\\Large\\text(1)}$ $\\times$ $\\underbrace{\\text{16}}_{\\Large\\text(2)}$ $\\times$ $\\underbrace{\\text{3}}_{\\Large\\text(3)}$\n",
    "$(1)  \\text{Patch width}$\n",
    "$(2)  \\text{Patch height}$\n",
    "$(3)  \\text{Patch channels}$\n",
    "From here we understand that the embedding dimension would be 768. TODO - make sure this claim"
   ],
   "metadata": {
    "collapsed": false
   },
   "id": "e8a8a8713edea16b"
  },
  {
   "cell_type": "code",
   "outputs": [
    {
     "name": "stdout",
     "output_type": "stream",
     "text": [
      "choosing random picture from the train set...\n",
      "shape of the image divided to patches: torch.Size([196, 3, 16, 16])\n"
     ]
    },
    {
     "data": {
      "text/plain": "<Figure size 1000x1000 with 196 Axes>",
      "image/png": "[encoded data removed]"
     },
     "metadata": {},
     "output_type": "display_data"
    },
    {
     "name": "stdout",
     "output_type": "stream",
     "text": [
      "shape of the sequenced patch: torch.Size([196, 768])\n"
     ]
    },
    {
     "data": {
      "text/plain": "<Figure size 3000x100 with 196 Axes>",
      "image/png": "[encoded data removed]"
     },
     "metadata": {},
     "output_type": "display_data"
    }
   ],
   "source": [
    "print('choosing random picture from the train set...')\n",
    "random_picture_idx = random.randint(0, len(train_set) - 1)\n",
    "picture_position = 0\n",
    "output_patched_image = divide_to_patches(train_set[random_picture_idx][picture_position])\n",
    "print(f'shape of the image divided to patches: {output_patched_image.shape}')\n",
    "show_image_patches(output_patched_image)\n",
    "sequenced_patch = flatten_patch_to_sequence(output_patched_image)\n",
    "print(f'shape of the sequenced patch: {sequenced_patch.shape}')\n",
    "show_sequenced_patch(output_patched_image)"
   ],
   "metadata": {
    "collapsed": false,
    "ExecuteTime": {
     "end_time": "2024-03-23T14:18:32.436350Z",
     "start_time": "2024-03-23T14:18:29.060933Z"
    }
   },
   "id": "625101205861776",
   "execution_count": 4
  },
  {
   "cell_type": "markdown",
   "source": [
    "part 4 - Linear project each flatten patch before we pass it to the encoder. After the projection we concat each projected flattened patch with its positional embedding."
   ],
   "metadata": {
    "collapsed": false
   },
   "id": "58f59be3def3339a"
  },
  {
   "cell_type": "code",
   "outputs": [],
   "source": [
    "class VITModel(nn.Module):\n",
    "    def __init__(self, patch_size=16, embedding_dim=768):\n",
    "        super(VITModel, self).__init__()\n",
    "        \n",
    "        \n",
    "        "
   ],
   "metadata": {
    "collapsed": false
   },
   "id": "a45ba44ecbee97"
  },
  {
   "cell_type": "code",
   "outputs": [
    {
     "name": "stdout",
     "output_type": "stream",
     "text": [
      "tensor([-10.1819,  18.2073, -11.8525,  12.7313, -11.6652, -15.9576,   0.7098,\n",
      "         -3.7006,  52.9842, -23.0760,  -6.1752,  33.7921,  -6.3741,  10.2470,\n",
      "          0.5967,   9.3893, -19.9806, -16.4327,  20.0941, -18.8625,  17.1333,\n",
      "         -3.0427,   0.2611, -16.2851, -22.7870,   7.9465, -32.0925, -13.6393,\n",
      "        -12.3629, -17.6368,  -5.8480,  17.0096,  22.1710,   0.2499,  -6.9905,\n",
      "        -20.0691,  -3.8688,   7.9625, -35.1298, -14.1572,  -9.2585,  24.9611,\n",
      "         10.0500,  10.9924,   2.4778,  -3.7081, -31.2351,  10.4868,  15.5925,\n",
      "          9.7324,   6.4339,  -7.8404,  -4.7593,   3.5100,  18.6139, -36.3332,\n",
      "        -10.3967, -34.2254,   0.8547,  -4.5869,  -2.7342, -16.8319,  38.4445,\n",
      "         -5.7875, -33.8474,  54.3959,   1.4884, -22.4076,   1.5184, -39.0114,\n",
      "         -3.6221,  30.8719, -29.7699,   2.6601,  -5.1564, -26.5847,  -0.7949,\n",
      "         20.1905,   9.0457, -17.0340, -23.7188, -16.7896,  -5.1450,   1.4231,\n",
      "          2.2636,  -1.4982,   8.3845,  -4.9323,  -3.6128, -19.5819, -12.0710,\n",
      "        -22.9604,  11.0343,   6.2480,   1.5120,  17.8855,  -7.6634, -11.4061,\n",
      "          1.3291,   7.8834, -17.4216, -11.0123, -12.4296,  12.3773,   4.2089,\n",
      "        -13.7968,  -1.0545,  17.5939,  30.3779,  -1.4347,  -3.8018,  -4.1267,\n",
      "         28.0895,  32.8822,  14.4528,  12.5429,  -1.5366,   5.5722,  10.1373,\n",
      "          4.8388,   6.7399, -43.3354, -32.3164,  25.6902,  34.2705,  16.3784,\n",
      "         11.7142, -17.3149,  32.8695,   7.3567, -21.5899, -11.5487, -16.3738,\n",
      "        -29.9502, -18.6364,   5.3158,   6.5864,  -8.6955,  29.3569,  -1.4675,\n",
      "         -7.4640,  -6.0131,  21.5571,  -1.9180, -35.8155,  13.4168, -20.2979,\n",
      "          8.3599,  15.6341, -17.7264,  33.4131,   6.7617, -25.7380,   4.0090,\n",
      "         -9.4547,  16.0703, -11.2852,  10.0309,  16.4883, -15.1792,  35.7546,\n",
      "         -2.2213, -13.3144, -26.8613,  30.9625,   8.4486,  12.2675,   0.1048,\n",
      "         -3.1367,  25.2480,   3.1053,  28.2216,  12.1427,  -9.6763,  -2.3966,\n",
      "          0.2836, -15.4924,  -1.5100,   1.6586,  31.8299,   4.0736,  -0.9138,\n",
      "        -36.4178,  22.4206, -25.6990,   7.8792,  -8.4945,  -2.5031,  -7.1766,\n",
      "         39.9857,   2.2309,   2.2220, -25.3031, -30.1427,  -6.2324, -20.9582,\n",
      "         33.1343,  30.2431,   1.3659,   3.8670, -25.3733,   3.8263,   0.8530,\n",
      "         26.1176,  28.6827, -22.1632, -13.9330,   3.7338,  -4.9152,  -1.0309,\n",
      "        -13.4005, -10.8471,  12.7821,  -7.2052,  -6.3933,   8.9472,  16.5994,\n",
      "          5.2476,  -7.3541,   4.3572,   2.6969, -32.0382,  -5.0630,  12.8388,\n",
      "        -11.5270, -18.4365, -32.3108,  29.1028, -21.5085,  10.9907, -20.0296,\n",
      "         -6.0109, -12.2574,   4.4611,  13.2786, -26.3124,  -7.8305,   4.9811,\n",
      "         -8.4230,  -6.8542,  -1.9527, -18.1496, -13.5693, -22.2423,  -1.3470,\n",
      "         -0.9086,  32.1667,  40.4658,  17.1227,   9.1413,   3.8318, -11.1545,\n",
      "        -47.3096,  10.1927, -18.7600,  -9.0123,   7.5489,   2.4565, -25.5205,\n",
      "          7.1797,  31.6396,   8.9683, -15.5851,  14.8046, -20.8228,  14.9528,\n",
      "          3.2021,  10.0584,  -7.3439,   6.0257,  -1.1823,  32.8504,  53.1875,\n",
      "         -0.7150, -20.8862,  18.9015,  15.0016,   8.0626,   4.5323, -19.9387,\n",
      "          4.4012, -12.4343,  19.3005,  -9.9533,  19.6372, -17.5328,   1.8940,\n",
      "         -8.4748,   8.2882, -23.0766,  -8.1291, -14.1120, -18.8415,   9.1373,\n",
      "        -23.4906,  27.3875, -12.4011,  29.1349, -16.5340, -26.5784,  -8.0285,\n",
      "         20.2042,  -9.1792, -21.2351, -15.5740,  25.0087,   4.1551, -19.4712,\n",
      "        -22.2796,   5.0554,  -1.6185,  33.2581, -19.0710,   5.0692,  15.2636,\n",
      "          5.0551, -13.0095,   0.8949,  10.7355,  25.7968,   2.8780,  12.6544,\n",
      "         -3.9529,   1.2223,   8.7344,  12.1766,  15.7123,  20.2367,  18.0428,\n",
      "        -32.7003,  18.1342, -11.8178,  25.0454,  11.9068,   7.7156,  14.7677,\n",
      "          8.4939, -26.0848,  19.6104,   1.2565,  -4.9073,  12.3947,   3.9622,\n",
      "        -16.3436, -28.2988, -22.4908,  17.4563, -19.9536,  18.2997, -17.9172,\n",
      "         15.6211,  -1.1885,  -1.7763,  25.8250,  12.7415,  -0.6018, -17.6453,\n",
      "         17.2196, -24.7621,  12.2624, -38.4347,  14.8914,   8.4335,   9.8523,\n",
      "        -15.6434,   0.8501,  -7.9181,  16.1681,  -5.7449,  18.9525, -29.7567,\n",
      "          9.0678,  25.7285,  14.1136,  -6.1341, -12.6545,  -0.4380,  29.6942,\n",
      "         20.2220, -23.8355, -10.4238, -35.3896,  -6.2026, -11.3046, -43.8478,\n",
      "         19.4466,  -9.9568, -13.5770,  14.3479, -19.9624, -14.6107,  34.3590,\n",
      "         11.6391,   2.7823,   5.0430, -16.5785,  -4.3121,  21.6357,   7.4500,\n",
      "          5.8890,   6.2596,  13.1212,  22.1810,   4.8738, -46.1778, -12.5281,\n",
      "        -19.8508,   1.8664,  14.4596, -15.0753,   5.7322,   8.4882, -18.8269,\n",
      "         -3.7975,   4.3876,  12.2317,  20.4363,   1.7496,   5.6589,  -4.7535,\n",
      "         22.3553, -25.7195, -30.4284, -19.3127, -10.9003,  -8.5750, -21.6497,\n",
      "         -5.4132,   5.3022,   2.1479,   4.2604,   4.2871,  -5.3244,  15.1953,\n",
      "         -1.8014,  18.7104, -22.7968,  17.5605,  23.2509,  24.3014,   9.6991,\n",
      "        -25.2843,  -7.8801,   3.0447,  14.1743, -10.2959,   7.2030,  14.5034,\n",
      "          5.8694,  -2.9533,  -6.9051,  11.9993,   3.5104,  20.2900,  -4.1458,\n",
      "         10.8720,  -1.6608,  16.5727, -50.3806, -16.4705,  -8.4790,  -8.8599,\n",
      "        -10.8393,   3.4371,   8.8064,   2.4649,  22.1208, -24.4682, -15.6635,\n",
      "          1.1428,  -8.8646,   6.2005, -25.6123,  26.7224, -22.5669,  -7.0080,\n",
      "         -8.8602,   3.3676,  22.5434, -15.4489,   6.8094,  24.2642,   3.2566,\n",
      "          4.7693, -12.6153, -19.3463,   0.6160,   6.8087,  13.0680,  12.7069,\n",
      "          9.0004, -20.1262,   3.8620,  -5.2525, -19.6962,  -0.6798,  31.3158,\n",
      "        -29.2007, -12.0978, -23.4753, -16.8257,   6.3286,  16.8276,  -7.2135,\n",
      "        -38.2652,  -6.5760,   7.6829,  10.6369,  15.1224,   6.7237, -12.7221,\n",
      "        -18.3826,  10.8117,  -6.0650, -17.3479,   2.3884, -15.8115,   5.2504,\n",
      "         27.1332,   3.3977,  -0.3702,  -5.5423,   5.1135, -10.5647, -30.6331,\n",
      "         24.5598,  10.8570,   9.9463,  23.6455,   1.3438,  12.3613, -22.3252,\n",
      "         34.2736,  -4.4161, -20.7573, -21.7688,  -1.6274, -22.1465,  13.3568,\n",
      "          0.0808,  13.8472,  -2.2401, -15.8661,   8.2315, -29.7938, -24.3767,\n",
      "         10.2211,  -3.7222,  -7.6113,  19.2476,  11.7616,  16.0211,  -3.5799,\n",
      "         -9.6208,  -5.9423,  -6.7944,   7.3007,   6.7381,  -1.5500,  17.0247,\n",
      "         -9.9446,  18.5705,  -3.6939,  -0.3410,  13.5301,  -6.0747,  24.2649,\n",
      "         12.2655,  20.2232,   4.9698,  11.1034, -19.1004,  -6.4445, -55.9256,\n",
      "          3.9628,   0.4274, -12.3068,  20.8488,   4.7009,  40.7210,  20.5609,\n",
      "         11.4269,  -0.7696,  17.0600, -10.7278,  -7.7510,  35.5673,  -2.9359,\n",
      "        -18.7321, -11.3025,  -5.0115,   6.5375, -18.4629,   5.9372,   9.9336,\n",
      "         28.2203, -15.9426,  -4.8122, -27.4621, -23.8242, -11.1100,  -6.3928,\n",
      "         -9.2471, -11.8913,  13.8151,  -1.1200,   1.2910, -10.5296, -22.9236,\n",
      "         13.1356, -39.1539,  -9.4634, -40.1886,  16.7565,  10.9811,  -0.4630,\n",
      "        -29.1784,  -9.1388,  -4.4692,  24.8430,   0.7003,  12.5504, -33.5501,\n",
      "          6.8539,  10.5101,  -3.9717,  12.5403,   3.8202,  -0.4651,  16.4474,\n",
      "        -11.0626,  -8.0674,  -4.8716,  20.0155,   4.4610, -28.4915,  11.4571,\n",
      "          2.6958,   4.9786,  -1.8076,   6.5889, -26.9586,  -8.7369, -29.1513,\n",
      "         11.4377,   2.3145,  -3.5587,  -0.6024, -22.9447,  -3.4183,  29.2570,\n",
      "          3.1094,   3.9534,  33.8465, -21.4352,   0.7581,   6.9406,  -2.7492,\n",
      "         -9.9315,   2.6343,   5.7525, -12.4012,   6.6402, -19.6364, -11.3206,\n",
      "        -24.7870,  -3.1062,  -4.5045,  16.2193,   1.7746,  21.5349,  15.6809,\n",
      "        -19.2495, -11.1573,  -5.8811,  -8.9982, -10.7339,  -2.3131, -13.9720,\n",
      "         -5.3872,   6.4139,  12.7367, -13.8581, -31.0589,  55.2305,   4.1441,\n",
      "         -0.7671,  -2.0711, -17.4009,  -4.8414,   0.9738, -20.3155,  15.1145,\n",
      "          8.5001,  19.6933,  14.4296,  -5.3730,   8.7864,   1.7227, -11.1428,\n",
      "         -3.4067, -19.4167, -22.8881,  11.9870,  10.9563, -10.7253, -10.5777,\n",
      "         25.4383, -11.8188,  -1.2742,  20.7424,   6.5395,   2.2982,  16.0592,\n",
      "         -7.2302,  -4.6711, -21.4790, -18.2174, -16.9832,  13.3535,   5.4687,\n",
      "          0.3932, -18.1042,  39.0723,   9.9006,  18.8480,  12.0887, -15.1664,\n",
      "         -2.8945,   7.9648, -26.2435,  -8.0170,  16.8157,  -5.8132,  16.7951,\n",
      "         14.8531, -19.2817, -24.2024,  -7.5587,  -2.3200, -10.2528, -25.0146,\n",
      "         -6.1995, -13.9831, -13.4350,   6.8479, -16.2239,   8.5610, -25.6564,\n",
      "         -0.6717, -24.8780, -21.2529,   9.0954,  38.7371, -18.2743, -27.7560,\n",
      "          4.2789, -15.7250,  19.5465,  -1.7760, -19.0514,  -2.1199, -11.1460,\n",
      "        -10.0214,   7.9035,  -8.3075,  36.9977, -12.2789])\n"
     ]
    }
   ],
   "source": [
    "from torch import Module\n",
    "number_of_patches = 196\n",
    "E_matrix = torch.randn((768, 768))\n",
    "embedded_patch = []\n",
    "#for i in range(number_of_patches):\n",
    "#    embedded_patch.append((sequenced_patch[i] @ E_matrix, i))\n",
    "embedded_patch = sequenced_patch[0] @ E_matrix\n",
    "print(embedded_patch)\n",
    "embedded_patch_2 = nn.Module.linear(embedded_patch)\n"
   ],
   "metadata": {
    "collapsed": false,
    "ExecuteTime": {
     "end_time": "2024-03-22T05:19:01.028403Z",
     "start_time": "2024-03-22T05:19:01.012929Z"
    }
   },
   "id": "c6c77e896eb8ed3d",
   "execution_count": 184
  },
  {
   "cell_type": "markdown",
   "source": [
    "After explaining the process of the ViT we will use pre-trained model of ViT and use transfer learning for our task - plants classification and their health status"
   ],
   "metadata": {
    "collapsed": false
   },
   "id": "560409797ea0f3ab"
  },
  {
   "cell_type": "code",
   "outputs": [
    {
     "name": "stdout",
     "output_type": "stream",
     "text": [
      "mps\n"
     ]
    }
   ],
   "source": [
    "# get the weights of pre-trained model. DEFAULT = IMAGENET1K_V1\n",
    "ViT_pre_trained_weights = torchvision.models.ViT_B_16_Weights.DEFAULT\n",
    "\n",
    "# define ViT pre-trained model with DEFAULT weights.\n",
    "print(device)\n",
    "ViT_pre_trained_model = torchvision.models.vit_b_16(weights=ViT_pre_trained_weights).to(device)\n",
    "\n",
    "# freezing the base params\n",
    "for param in ViT_pre_trained_model.parameters():\n",
    "    param.requires_grad = False\n",
    "\n",
    "# changing the mlp layer to match for the new task - plants classification\n",
    "ViT_pre_trained_model.heads = nn.Linear(in_features=768, out_features=len(classes), bias=True)\n",
    "\n",
    "\n",
    "\n",
    "#summary(ViT_pre_trained_model, input_size=(32, 224, 224))\n",
    "#summary(model=ViT_pre_trained_model, \n",
    "#        input_size=(3, 224, 224) # (batch_size, color_channels, height, width)\n",
    "        # col_names=[\"input_size\"], # uncomment for smaller output\n",
    "        \n",
    "        \n",
    "        \n",
    "#)"
   ],
   "metadata": {
    "collapsed": false,
    "ExecuteTime": {
     "end_time": "2024-03-22T17:29:07.838206Z",
     "start_time": "2024-03-22T17:29:05.716332Z"
    }
   },
   "id": "fa7bedf033b5ba79",
   "execution_count": 96
  },
  {
   "cell_type": "code",
   "outputs": [
    {
     "name": "stdout",
     "output_type": "stream",
     "text": [
      "train dataset has 34755 samples\n",
      "validation dataset has 4345 samples\n",
      "test dataset has 4344 samples\n"
     ]
    }
   ],
   "source": [
    "# loading dataset:\n",
    "ViT_pre_trained_weights = torchvision.models.ViT_B_16_Weights.DEFAULT\n",
    "ViT_transform = ViT_pre_trained_weights.transforms()\n",
    "new_transform = transforms.Compose([\n",
    "    ViT_transform,\n",
    "    transforms.ToTensor(),\n",
    "    ])\n",
    "dataset = datasets.ImageFolder(root=local_root_dir + '/train',transform=ViT_transform)\n",
    "\n",
    "dataset_size = len(dataset)\n",
    "train_size = int(0.8 * dataset_size)\n",
    "test_size = int(0.1 * dataset_size)\n",
    "valid_size = dataset_size - train_size - test_size\n",
    "train_set, valid_set, test_set = torch.utils.data.random_split(dataset, [train_size, valid_size, test_size])\n",
    "\n",
    "print(f\"train dataset has {train_size} samples\\nvalidation dataset has {valid_size} samples\\ntest dataset has {test_size} samples\")\n",
    "\n",
    "train_dataloader = torch.utils.data.DataLoader(train_set, batch_size=32, shuffle=True, num_workers=2)\n",
    "valid_dataloader = torch.utils.data.DataLoader(valid_size, batch_size=32, shuffle=False, num_workers=2)\n",
    "test_dataloader = torch.utils.data.DataLoader(test_set, batch_size=32, shuffle=False, num_workers=2)"
   ],
   "metadata": {
    "collapsed": false,
    "ExecuteTime": {
     "end_time": "2024-03-23T14:19:17.544110Z",
     "start_time": "2024-03-23T14:19:17.466167Z"
    }
   },
   "id": "a7df43ac906f628a",
   "execution_count": 6
  },
  {
   "cell_type": "code",
   "outputs": [],
   "source": [
    "def train_model_for_test(model, trainloader, epochs, learning_rate, model_loss, model_name_to_save, korina=False):\n",
    "    #model = plantDiseaseCNN(p).to(device)\n",
    "    print(device)\n",
    "    optimizer = torch.optim.Adam(model.parameters(), lr=learning_rate)\n",
    "    criterion = nn.CrossEntropyLoss()\n",
    "    model.to(device)\n",
    "    for epoch in tqdm(range(1, epochs + 1)):\n",
    "        model.train()  # put in training mode, turn on Dropout, BatchNorm uses batch's statistics\n",
    "        running_loss = 0.0\n",
    "        epoch_time = time.time()\n",
    "        for i, data in enumerate(trainloader, 0):\n",
    "            # get the inputs\n",
    "            \n",
    "            inputs, labels = data\n",
    "            inputs, labels = inputs.to(device), labels.to(device)\n",
    "            outputs = model(inputs)  # forward pass\n",
    "            \n",
    "            loss = criterion(outputs, labels)  # calculate the loss\n",
    "            \n",
    "            optimizer.zero_grad()  # zero the parameter gradients\n",
    "            loss.backward()  # backpropagation\n",
    "            optimizer.step()  # update parameters\n",
    "\n",
    "            # print statistics\n",
    "            running_loss += loss.data.item()\n",
    "\n",
    "        # Normalizing the loss by the total number of train batches\n",
    "        running_loss /= len(trainloader)\n",
    "        model_loss.append(running_loss)\n",
    "\n",
    "        # Calculate training/test set accuracy of the existing model\n",
    "        train_accuracy, _ = calculate_accuracy(model, trainloader, device)\n",
    "\n",
    "        log = \"Epoch: {} | Loss: {:.4f} | Training accuracy: {:.3f}% | \".format(epoch, running_loss, train_accuracy)\n",
    "        epoch_time = time.time() - epoch_time\n",
    "        log += \"Epoch Time: {:.2f} secs\".format(epoch_time)\n",
    "        print(log)\n",
    "\n",
    "        # save model\n",
    "        if epoch % 10 == 0:\n",
    "            print('==> Saving model ...')\n",
    "            state = {\n",
    "                'net': model.state_dict(),\n",
    "                'epoch': epoch,\n",
    "            }\n",
    "            if not os.path.isdir('checkpoints'):\n",
    "                os.mkdir('checkpoints')\n",
    "            torch.save(state, f'./checkpoints/{model_name_to_save}.pth')\n",
    "\n",
    "    print('==> Finished Training ...')\n",
    "    #return model"
   ],
   "metadata": {
    "collapsed": false,
    "ExecuteTime": {
     "end_time": "2024-03-23T14:19:21.489438Z",
     "start_time": "2024-03-23T14:19:21.483948Z"
    }
   },
   "id": "79b331ff62bcc773",
   "execution_count": 7
  },
  {
   "cell_type": "code",
   "outputs": [],
   "source": [
    "def feature_extract_or_fine_tuning(model, feature_extract=True):\n",
    "    params_to_update = model.parameters()\n",
    "    print(\"Params to learn:\")\n",
    "    if feature_extract:\n",
    "        params_to_update = [] # override the initial list definition above\n",
    "        for name,param in model.named_parameters():\n",
    "            if param.requires_grad == True:\n",
    "                params_to_update.append(param)\n",
    "                print(\"\\t\",name)\n",
    "    else:\n",
    "        print(\"here\")\n",
    "        for name,param in model.named_parameters():\n",
    "            if param.requires_grad == True:\n",
    "                print(\"\\t\",name)"
   ],
   "metadata": {
    "collapsed": false,
    "ExecuteTime": {
     "end_time": "2024-03-23T14:19:29.643785Z",
     "start_time": "2024-03-23T14:19:29.640612Z"
    }
   },
   "id": "9102484e78a20506",
   "execution_count": 8
  },
  {
   "cell_type": "code",
   "outputs": [
    {
     "name": "stdout",
     "output_type": "stream",
     "text": [
      "Params to learn:\n",
      "\t heads.weight\n",
      "\t heads.bias\n"
     ]
    }
   ],
   "source": [
    "model_ft = ViT_pre_trained_model.to(device)\n",
    "feature_extract = True\n",
    "feature_extract_or_fine_tuning(model_ft)"
   ],
   "metadata": {
    "collapsed": false,
    "ExecuteTime": {
     "end_time": "2024-03-22T17:29:44.227488Z",
     "start_time": "2024-03-22T17:29:44.221561Z"
    }
   },
   "id": "21b02ec11aa6268",
   "execution_count": 101
  },
  {
   "cell_type": "code",
   "outputs": [
    {
     "name": "stdout",
     "output_type": "stream",
     "text": [
      "mps\n"
     ]
    },
    {
     "name": "stderr",
     "output_type": "stream",
     "text": [
      " 10%|█         | 1/10 [20:03<3:00:33, 1203.69s/it]"
     ]
    },
    {
     "name": "stdout",
     "output_type": "stream",
     "text": [
      "Epoch: 1 | Loss: 0.3680 | Training accuracy: 97.672% | Epoch Time: 1203.69 secs\n"
     ]
    },
    {
     "name": "stderr",
     "output_type": "stream",
     "text": [
      " 20%|██        | 2/10 [40:06<2:40:26, 1203.29s/it]"
     ]
    },
    {
     "name": "stdout",
     "output_type": "stream",
     "text": [
      "Epoch: 2 | Loss: 0.0953 | Training accuracy: 98.498% | Epoch Time: 1203.00 secs\n"
     ]
    },
    {
     "name": "stderr",
     "output_type": "stream",
     "text": [
      " 30%|███       | 3/10 [1:00:09<2:20:22, 1203.20s/it]"
     ]
    },
    {
     "name": "stdout",
     "output_type": "stream",
     "text": [
      "Epoch: 3 | Loss: 0.0640 | Training accuracy: 99.203% | Epoch Time: 1203.08 secs\n"
     ]
    },
    {
     "name": "stderr",
     "output_type": "stream",
     "text": [
      " 40%|████      | 4/10 [1:20:12<2:00:19, 1203.19s/it]"
     ]
    },
    {
     "name": "stdout",
     "output_type": "stream",
     "text": [
      "Epoch: 4 | Loss: 0.0460 | Training accuracy: 99.358% | Epoch Time: 1203.16 secs\n"
     ]
    },
    {
     "name": "stderr",
     "output_type": "stream",
     "text": [
      " 50%|█████     | 5/10 [1:40:16<1:40:16, 1203.27s/it]"
     ]
    },
    {
     "name": "stdout",
     "output_type": "stream",
     "text": [
      "Epoch: 5 | Loss: 0.0360 | Training accuracy: 99.384% | Epoch Time: 1203.41 secs\n"
     ]
    },
    {
     "name": "stderr",
     "output_type": "stream",
     "text": [
      " 60%|██████    | 6/10 [2:00:18<1:20:12, 1203.04s/it]"
     ]
    },
    {
     "name": "stdout",
     "output_type": "stream",
     "text": [
      "Epoch: 6 | Loss: 0.0296 | Training accuracy: 99.646% | Epoch Time: 1202.59 secs\n"
     ]
    },
    {
     "name": "stderr",
     "output_type": "stream",
     "text": [
      " 70%|███████   | 7/10 [2:20:22<1:00:09, 1203.20s/it]"
     ]
    },
    {
     "name": "stdout",
     "output_type": "stream",
     "text": [
      "Epoch: 7 | Loss: 0.0241 | Training accuracy: 99.580% | Epoch Time: 1203.51 secs\n"
     ]
    },
    {
     "name": "stderr",
     "output_type": "stream",
     "text": [
      " 80%|████████  | 8/10 [2:40:26<40:06, 1203.34s/it]  "
     ]
    },
    {
     "name": "stdout",
     "output_type": "stream",
     "text": [
      "Epoch: 8 | Loss: 0.0204 | Training accuracy: 99.707% | Epoch Time: 1203.64 secs\n"
     ]
    },
    {
     "name": "stderr",
     "output_type": "stream",
     "text": [
      " 90%|█████████ | 9/10 [3:00:30<20:03, 1203.52s/it]"
     ]
    },
    {
     "name": "stdout",
     "output_type": "stream",
     "text": [
      "Epoch: 9 | Loss: 0.0175 | Training accuracy: 99.839% | Epoch Time: 1203.89 secs\n",
      "Epoch: 10 | Loss: 0.0151 | Training accuracy: 99.784% | Epoch Time: 1189.32 secs\n",
      "==> Saving model ...\n"
     ]
    },
    {
     "name": "stderr",
     "output_type": "stream",
     "text": [
      "100%|██████████| 10/10 [3:20:19<00:00, 1201.99s/it]"
     ]
    },
    {
     "name": "stdout",
     "output_type": "stream",
     "text": [
      "==> Finished Training ...\n"
     ]
    },
    {
     "name": "stderr",
     "output_type": "stream",
     "text": [
      "\n"
     ]
    }
   ],
   "source": [
    "model_loss = []\n",
    "train_model_for_test(model_ft, train_dataloader, 10, 0.001, model_loss, \"ViT_pre_trained\", False)"
   ],
   "metadata": {
    "collapsed": false,
    "ExecuteTime": {
     "end_time": "2024-03-22T20:50:05.564227Z",
     "start_time": "2024-03-22T17:29:45.676178Z"
    }
   },
   "id": "c7b79ab8e351f99a",
   "execution_count": 102
  },
  {
   "cell_type": "code",
   "outputs": [
    {
     "name": "stdout",
     "output_type": "stream",
     "text": [
      "test accuracy:98.48066298342542\n"
     ]
    }
   ],
   "source": [
    "test_accuracy, _ = calculate_accuracy(ViT_pre_trained_model, test_dataloader, device)\n",
    "print(f\"test accuracy:{test_accuracy}\")"
   ],
   "metadata": {
    "collapsed": false,
    "ExecuteTime": {
     "end_time": "2024-03-22T20:52:13.515669Z",
     "start_time": "2024-03-22T20:50:46.041697Z"
    }
   },
   "id": "7b1c3c4c4eb71833",
   "execution_count": 104
  },
  {
   "cell_type": "code",
   "outputs": [
    {
     "name": "stdout",
     "output_type": "stream",
     "text": [
      "Params to learn:\n",
      "here\n",
      "\t class_token\n",
      "\t conv_proj.weight\n",
      "\t conv_proj.bias\n",
      "\t encoder.pos_embedding\n",
      "\t encoder.layers.encoder_layer_0.ln_1.weight\n",
      "\t encoder.layers.encoder_layer_0.ln_1.bias\n",
      "\t encoder.layers.encoder_layer_0.self_attention.in_proj_weight\n",
      "\t encoder.layers.encoder_layer_0.self_attention.in_proj_bias\n",
      "\t encoder.layers.encoder_layer_0.self_attention.out_proj.weight\n",
      "\t encoder.layers.encoder_layer_0.self_attention.out_proj.bias\n",
      "\t encoder.layers.encoder_layer_0.ln_2.weight\n",
      "\t encoder.layers.encoder_layer_0.ln_2.bias\n",
      "\t encoder.layers.encoder_layer_0.mlp.0.weight\n",
      "\t encoder.layers.encoder_layer_0.mlp.0.bias\n",
      "\t encoder.layers.encoder_layer_0.mlp.3.weight\n",
      "\t encoder.layers.encoder_layer_0.mlp.3.bias\n",
      "\t encoder.layers.encoder_layer_1.ln_1.weight\n",
      "\t encoder.layers.encoder_layer_1.ln_1.bias\n",
      "\t encoder.layers.encoder_layer_1.self_attention.in_proj_weight\n",
      "\t encoder.layers.encoder_layer_1.self_attention.in_proj_bias\n",
      "\t encoder.layers.encoder_layer_1.self_attention.out_proj.weight\n",
      "\t encoder.layers.encoder_layer_1.self_attention.out_proj.bias\n",
      "\t encoder.layers.encoder_layer_1.ln_2.weight\n",
      "\t encoder.layers.encoder_layer_1.ln_2.bias\n",
      "\t encoder.layers.encoder_layer_1.mlp.0.weight\n",
      "\t encoder.layers.encoder_layer_1.mlp.0.bias\n",
      "\t encoder.layers.encoder_layer_1.mlp.3.weight\n",
      "\t encoder.layers.encoder_layer_1.mlp.3.bias\n",
      "\t encoder.layers.encoder_layer_2.ln_1.weight\n",
      "\t encoder.layers.encoder_layer_2.ln_1.bias\n",
      "\t encoder.layers.encoder_layer_2.self_attention.in_proj_weight\n",
      "\t encoder.layers.encoder_layer_2.self_attention.in_proj_bias\n",
      "\t encoder.layers.encoder_layer_2.self_attention.out_proj.weight\n",
      "\t encoder.layers.encoder_layer_2.self_attention.out_proj.bias\n",
      "\t encoder.layers.encoder_layer_2.ln_2.weight\n",
      "\t encoder.layers.encoder_layer_2.ln_2.bias\n",
      "\t encoder.layers.encoder_layer_2.mlp.0.weight\n",
      "\t encoder.layers.encoder_layer_2.mlp.0.bias\n",
      "\t encoder.layers.encoder_layer_2.mlp.3.weight\n",
      "\t encoder.layers.encoder_layer_2.mlp.3.bias\n",
      "\t encoder.layers.encoder_layer_3.ln_1.weight\n",
      "\t encoder.layers.encoder_layer_3.ln_1.bias\n",
      "\t encoder.layers.encoder_layer_3.self_attention.in_proj_weight\n",
      "\t encoder.layers.encoder_layer_3.self_attention.in_proj_bias\n",
      "\t encoder.layers.encoder_layer_3.self_attention.out_proj.weight\n",
      "\t encoder.layers.encoder_layer_3.self_attention.out_proj.bias\n",
      "\t encoder.layers.encoder_layer_3.ln_2.weight\n",
      "\t encoder.layers.encoder_layer_3.ln_2.bias\n",
      "\t encoder.layers.encoder_layer_3.mlp.0.weight\n",
      "\t encoder.layers.encoder_layer_3.mlp.0.bias\n",
      "\t encoder.layers.encoder_layer_3.mlp.3.weight\n",
      "\t encoder.layers.encoder_layer_3.mlp.3.bias\n",
      "\t encoder.layers.encoder_layer_4.ln_1.weight\n",
      "\t encoder.layers.encoder_layer_4.ln_1.bias\n",
      "\t encoder.layers.encoder_layer_4.self_attention.in_proj_weight\n",
      "\t encoder.layers.encoder_layer_4.self_attention.in_proj_bias\n",
      "\t encoder.layers.encoder_layer_4.self_attention.out_proj.weight\n",
      "\t encoder.layers.encoder_layer_4.self_attention.out_proj.bias\n",
      "\t encoder.layers.encoder_layer_4.ln_2.weight\n",
      "\t encoder.layers.encoder_layer_4.ln_2.bias\n",
      "\t encoder.layers.encoder_layer_4.mlp.0.weight\n",
      "\t encoder.layers.encoder_layer_4.mlp.0.bias\n",
      "\t encoder.layers.encoder_layer_4.mlp.3.weight\n",
      "\t encoder.layers.encoder_layer_4.mlp.3.bias\n",
      "\t encoder.layers.encoder_layer_5.ln_1.weight\n",
      "\t encoder.layers.encoder_layer_5.ln_1.bias\n",
      "\t encoder.layers.encoder_layer_5.self_attention.in_proj_weight\n",
      "\t encoder.layers.encoder_layer_5.self_attention.in_proj_bias\n",
      "\t encoder.layers.encoder_layer_5.self_attention.out_proj.weight\n",
      "\t encoder.layers.encoder_layer_5.self_attention.out_proj.bias\n",
      "\t encoder.layers.encoder_layer_5.ln_2.weight\n",
      "\t encoder.layers.encoder_layer_5.ln_2.bias\n",
      "\t encoder.layers.encoder_layer_5.mlp.0.weight\n",
      "\t encoder.layers.encoder_layer_5.mlp.0.bias\n",
      "\t encoder.layers.encoder_layer_5.mlp.3.weight\n",
      "\t encoder.layers.encoder_layer_5.mlp.3.bias\n",
      "\t encoder.layers.encoder_layer_6.ln_1.weight\n",
      "\t encoder.layers.encoder_layer_6.ln_1.bias\n",
      "\t encoder.layers.encoder_layer_6.self_attention.in_proj_weight\n",
      "\t encoder.layers.encoder_layer_6.self_attention.in_proj_bias\n",
      "\t encoder.layers.encoder_layer_6.self_attention.out_proj.weight\n",
      "\t encoder.layers.encoder_layer_6.self_attention.out_proj.bias\n",
      "\t encoder.layers.encoder_layer_6.ln_2.weight\n",
      "\t encoder.layers.encoder_layer_6.ln_2.bias\n",
      "\t encoder.layers.encoder_layer_6.mlp.0.weight\n",
      "\t encoder.layers.encoder_layer_6.mlp.0.bias\n",
      "\t encoder.layers.encoder_layer_6.mlp.3.weight\n",
      "\t encoder.layers.encoder_layer_6.mlp.3.bias\n",
      "\t encoder.layers.encoder_layer_7.ln_1.weight\n",
      "\t encoder.layers.encoder_layer_7.ln_1.bias\n",
      "\t encoder.layers.encoder_layer_7.self_attention.in_proj_weight\n",
      "\t encoder.layers.encoder_layer_7.self_attention.in_proj_bias\n",
      "\t encoder.layers.encoder_layer_7.self_attention.out_proj.weight\n",
      "\t encoder.layers.encoder_layer_7.self_attention.out_proj.bias\n",
      "\t encoder.layers.encoder_layer_7.ln_2.weight\n",
      "\t encoder.layers.encoder_layer_7.ln_2.bias\n",
      "\t encoder.layers.encoder_layer_7.mlp.0.weight\n",
      "\t encoder.layers.encoder_layer_7.mlp.0.bias\n",
      "\t encoder.layers.encoder_layer_7.mlp.3.weight\n",
      "\t encoder.layers.encoder_layer_7.mlp.3.bias\n",
      "\t encoder.layers.encoder_layer_8.ln_1.weight\n",
      "\t encoder.layers.encoder_layer_8.ln_1.bias\n",
      "\t encoder.layers.encoder_layer_8.self_attention.in_proj_weight\n",
      "\t encoder.layers.encoder_layer_8.self_attention.in_proj_bias\n",
      "\t encoder.layers.encoder_layer_8.self_attention.out_proj.weight\n",
      "\t encoder.layers.encoder_layer_8.self_attention.out_proj.bias\n",
      "\t encoder.layers.encoder_layer_8.ln_2.weight\n",
      "\t encoder.layers.encoder_layer_8.ln_2.bias\n",
      "\t encoder.layers.encoder_layer_8.mlp.0.weight\n",
      "\t encoder.layers.encoder_layer_8.mlp.0.bias\n",
      "\t encoder.layers.encoder_layer_8.mlp.3.weight\n",
      "\t encoder.layers.encoder_layer_8.mlp.3.bias\n",
      "\t encoder.layers.encoder_layer_9.ln_1.weight\n",
      "\t encoder.layers.encoder_layer_9.ln_1.bias\n",
      "\t encoder.layers.encoder_layer_9.self_attention.in_proj_weight\n",
      "\t encoder.layers.encoder_layer_9.self_attention.in_proj_bias\n",
      "\t encoder.layers.encoder_layer_9.self_attention.out_proj.weight\n",
      "\t encoder.layers.encoder_layer_9.self_attention.out_proj.bias\n",
      "\t encoder.layers.encoder_layer_9.ln_2.weight\n",
      "\t encoder.layers.encoder_layer_9.ln_2.bias\n",
      "\t encoder.layers.encoder_layer_9.mlp.0.weight\n",
      "\t encoder.layers.encoder_layer_9.mlp.0.bias\n",
      "\t encoder.layers.encoder_layer_9.mlp.3.weight\n",
      "\t encoder.layers.encoder_layer_9.mlp.3.bias\n",
      "\t encoder.layers.encoder_layer_10.ln_1.weight\n",
      "\t encoder.layers.encoder_layer_10.ln_1.bias\n",
      "\t encoder.layers.encoder_layer_10.self_attention.in_proj_weight\n",
      "\t encoder.layers.encoder_layer_10.self_attention.in_proj_bias\n",
      "\t encoder.layers.encoder_layer_10.self_attention.out_proj.weight\n",
      "\t encoder.layers.encoder_layer_10.self_attention.out_proj.bias\n",
      "\t encoder.layers.encoder_layer_10.ln_2.weight\n",
      "\t encoder.layers.encoder_layer_10.ln_2.bias\n",
      "\t encoder.layers.encoder_layer_10.mlp.0.weight\n",
      "\t encoder.layers.encoder_layer_10.mlp.0.bias\n",
      "\t encoder.layers.encoder_layer_10.mlp.3.weight\n",
      "\t encoder.layers.encoder_layer_10.mlp.3.bias\n",
      "\t encoder.layers.encoder_layer_11.ln_1.weight\n",
      "\t encoder.layers.encoder_layer_11.ln_1.bias\n",
      "\t encoder.layers.encoder_layer_11.self_attention.in_proj_weight\n",
      "\t encoder.layers.encoder_layer_11.self_attention.in_proj_bias\n",
      "\t encoder.layers.encoder_layer_11.self_attention.out_proj.weight\n",
      "\t encoder.layers.encoder_layer_11.self_attention.out_proj.bias\n",
      "\t encoder.layers.encoder_layer_11.ln_2.weight\n",
      "\t encoder.layers.encoder_layer_11.ln_2.bias\n",
      "\t encoder.layers.encoder_layer_11.mlp.0.weight\n",
      "\t encoder.layers.encoder_layer_11.mlp.0.bias\n",
      "\t encoder.layers.encoder_layer_11.mlp.3.weight\n",
      "\t encoder.layers.encoder_layer_11.mlp.3.bias\n",
      "\t encoder.ln.weight\n",
      "\t encoder.ln.bias\n",
      "\t heads.weight\n",
      "\t heads.bias\n"
     ]
    }
   ],
   "source": [
    "ViT_pre_trained_model_fine_tuning = torchvision.models.vit_b_16().to(device)\n",
    "for param in ViT_pre_trained_model_fine_tuning.parameters():\n",
    "    param.requires_grad = True\n",
    "\n",
    "# changing the mlp layer to match for the new task - plants classification\n",
    "ViT_pre_trained_model_fine_tuning.heads = nn.Linear(in_features=768, out_features=len(classes), bias=True)\n",
    "\n",
    "# freezing the base params\n",
    "feature_extract_or_fine_tuning(ViT_pre_trained_model_fine_tuning, False)\n",
    "model_loss_fine_tuned = []"
   ],
   "metadata": {
    "collapsed": false,
    "ExecuteTime": {
     "end_time": "2024-03-23T14:19:43.453643Z",
     "start_time": "2024-03-23T14:19:42.914185Z"
    }
   },
   "id": "7f648cb1ef3beba6",
   "execution_count": 9
  },
  {
   "cell_type": "code",
   "outputs": [
    {
     "name": "stdout",
     "output_type": "stream",
     "text": [
      "mps\n"
     ]
    },
    {
     "name": "stderr",
     "output_type": "stream",
     "text": [
      "  4%|▍         | 1/25 [38:17<15:19:00, 2297.54s/it]"
     ]
    },
    {
     "name": "stdout",
     "output_type": "stream",
     "text": [
      "Epoch: 1 | Loss: 2.6985 | Training accuracy: 35.278% | Epoch Time: 2297.54 secs\n"
     ]
    },
    {
     "name": "stderr",
     "output_type": "stream",
     "text": [
      "  8%|▊         | 2/25 [1:16:54<14:45:04, 2308.90s/it]"
     ]
    },
    {
     "name": "stdout",
     "output_type": "stream",
     "text": [
      "Epoch: 2 | Loss: 2.4984 | Training accuracy: 29.492% | Epoch Time: 2316.83 secs\n"
     ]
    },
    {
     "name": "stderr",
     "output_type": "stream",
     "text": [
      " 12%|█▏        | 3/25 [1:55:25<14:06:59, 2309.96s/it]"
     ]
    },
    {
     "name": "stdout",
     "output_type": "stream",
     "text": [
      "Epoch: 3 | Loss: 2.5438 | Training accuracy: 29.150% | Epoch Time: 2311.21 secs\n"
     ]
    },
    {
     "name": "stderr",
     "output_type": "stream",
     "text": [
      " 16%|█▌        | 4/25 [2:33:55<13:28:31, 2310.08s/it]"
     ]
    },
    {
     "name": "stdout",
     "output_type": "stream",
     "text": [
      "Epoch: 4 | Loss: 2.6072 | Training accuracy: 29.705% | Epoch Time: 2310.26 secs\n"
     ]
    },
    {
     "name": "stderr",
     "output_type": "stream",
     "text": [
      " 20%|██        | 5/25 [3:12:28<12:50:20, 2311.04s/it]"
     ]
    },
    {
     "name": "stdout",
     "output_type": "stream",
     "text": [
      "Epoch: 5 | Loss: 2.5230 | Training accuracy: 27.069% | Epoch Time: 2312.74 secs\n"
     ]
    },
    {
     "name": "stderr",
     "output_type": "stream",
     "text": [
      " 24%|██▍       | 6/25 [3:51:02<12:12:05, 2311.89s/it]"
     ]
    },
    {
     "name": "stdout",
     "output_type": "stream",
     "text": [
      "Epoch: 6 | Loss: 2.4493 | Training accuracy: 25.211% | Epoch Time: 2313.53 secs\n"
     ]
    },
    {
     "name": "stderr",
     "output_type": "stream",
     "text": [
      " 28%|██▊       | 7/25 [4:28:54<11:29:43, 2299.10s/it]"
     ]
    },
    {
     "name": "stdout",
     "output_type": "stream",
     "text": [
      "Epoch: 7 | Loss: 2.7015 | Training accuracy: 24.978% | Epoch Time: 2272.76 secs\n"
     ]
    },
    {
     "name": "stderr",
     "output_type": "stream",
     "text": [
      " 32%|███▏      | 8/25 [5:06:20<10:46:33, 2281.95s/it]"
     ]
    },
    {
     "name": "stdout",
     "output_type": "stream",
     "text": [
      "Epoch: 8 | Loss: 2.6322 | Training accuracy: 30.151% | Epoch Time: 2245.20 secs\n"
     ]
    },
    {
     "name": "stderr",
     "output_type": "stream",
     "text": [
      " 36%|███▌      | 9/25 [5:43:39<10:04:57, 2268.59s/it]"
     ]
    },
    {
     "name": "stdout",
     "output_type": "stream",
     "text": [
      "Epoch: 9 | Loss: 2.6014 | Training accuracy: 28.140% | Epoch Time: 2239.20 secs\n",
      "Epoch: 10 | Loss: 2.4593 | Training accuracy: 32.605% | Epoch Time: 2243.76 secs\n",
      "==> Saving model ...\n"
     ]
    },
    {
     "name": "stderr",
     "output_type": "stream",
     "text": [
      " 44%|████▍     | 11/25 [6:58:28<8:46:26, 2256.17s/it]"
     ]
    },
    {
     "name": "stdout",
     "output_type": "stream",
     "text": [
      "Epoch: 11 | Loss: 2.4196 | Training accuracy: 32.269% | Epoch Time: 2244.80 secs\n"
     ]
    },
    {
     "name": "stderr",
     "output_type": "stream",
     "text": [
      " 48%|████▊     | 12/25 [7:35:47<8:07:41, 2250.88s/it]"
     ]
    },
    {
     "name": "stdout",
     "output_type": "stream",
     "text": [
      "Epoch: 12 | Loss: 2.4290 | Training accuracy: 21.372% | Epoch Time: 2238.79 secs\n"
     ]
    },
    {
     "name": "stderr",
     "output_type": "stream",
     "text": [
      " 52%|█████▏    | 13/25 [8:13:07<7:29:29, 2247.45s/it]"
     ]
    },
    {
     "name": "stdout",
     "output_type": "stream",
     "text": [
      "Epoch: 13 | Loss: 2.5195 | Training accuracy: 19.252% | Epoch Time: 2239.53 secs\n"
     ]
    },
    {
     "name": "stderr",
     "output_type": "stream",
     "text": [
      " 56%|█████▌    | 14/25 [8:50:25<6:51:31, 2244.72s/it]"
     ]
    },
    {
     "name": "stdout",
     "output_type": "stream",
     "text": [
      "Epoch: 14 | Loss: 2.6768 | Training accuracy: 27.288% | Epoch Time: 2238.42 secs\n"
     ]
    },
    {
     "name": "stderr",
     "output_type": "stream",
     "text": [
      " 60%|██████    | 15/25 [9:27:46<6:13:57, 2243.71s/it]"
     ]
    },
    {
     "name": "stdout",
     "output_type": "stream",
     "text": [
      "Epoch: 15 | Loss: 2.6888 | Training accuracy: 28.937% | Epoch Time: 2241.35 secs\n"
     ]
    },
    {
     "name": "stderr",
     "output_type": "stream",
     "text": [
      " 64%|██████▍   | 16/25 [10:05:04<5:36:16, 2241.84s/it]"
     ]
    },
    {
     "name": "stdout",
     "output_type": "stream",
     "text": [
      "Epoch: 16 | Loss: 2.6400 | Training accuracy: 27.280% | Epoch Time: 2237.47 secs\n"
     ]
    },
    {
     "name": "stderr",
     "output_type": "stream",
     "text": [
      " 68%|██████▊   | 17/25 [10:42:20<4:58:42, 2240.26s/it]"
     ]
    },
    {
     "name": "stdout",
     "output_type": "stream",
     "text": [
      "Epoch: 17 | Loss: 2.5668 | Training accuracy: 30.773% | Epoch Time: 2236.57 secs\n"
     ]
    },
    {
     "name": "stderr",
     "output_type": "stream",
     "text": [
      " 72%|███████▏  | 18/25 [11:19:39<4:21:17, 2239.64s/it]"
     ]
    },
    {
     "name": "stdout",
     "output_type": "stream",
     "text": [
      "Epoch: 18 | Loss: 2.4964 | Training accuracy: 31.083% | Epoch Time: 2238.20 secs\n"
     ]
    },
    {
     "name": "stderr",
     "output_type": "stream",
     "text": [
      " 76%|███████▌  | 19/25 [11:56:56<3:43:53, 2238.89s/it]"
     ]
    },
    {
     "name": "stdout",
     "output_type": "stream",
     "text": [
      "Epoch: 19 | Loss: 2.3871 | Training accuracy: 33.086% | Epoch Time: 2237.12 secs\n",
      "Epoch: 20 | Loss: 2.2917 | Training accuracy: 35.267% | Epoch Time: 2236.93 secs\n",
      "==> Saving model ...\n"
     ]
    },
    {
     "name": "stderr",
     "output_type": "stream",
     "text": [
      " 84%|████████▍ | 21/25 [13:11:32<2:29:14, 2238.55s/it]"
     ]
    },
    {
     "name": "stdout",
     "output_type": "stream",
     "text": [
      "Epoch: 21 | Loss: 2.2016 | Training accuracy: 37.134% | Epoch Time: 2238.78 secs\n"
     ]
    },
    {
     "name": "stderr",
     "output_type": "stream",
     "text": [
      " 88%|████████▊ | 22/25 [13:48:49<1:51:53, 2237.96s/it]"
     ]
    },
    {
     "name": "stdout",
     "output_type": "stream",
     "text": [
      "Epoch: 22 | Loss: 2.2299 | Training accuracy: 23.715% | Epoch Time: 2236.57 secs\n"
     ]
    },
    {
     "name": "stderr",
     "output_type": "stream",
     "text": [
      " 92%|█████████▏| 23/25 [14:26:05<1:14:35, 2237.61s/it]"
     ]
    },
    {
     "name": "stdout",
     "output_type": "stream",
     "text": [
      "Epoch: 23 | Loss: 2.3406 | Training accuracy: 34.723% | Epoch Time: 2236.79 secs\n"
     ]
    },
    {
     "name": "stderr",
     "output_type": "stream",
     "text": [
      " 96%|█████████▌| 24/25 [15:03:27<37:18, 2238.75s/it]  "
     ]
    },
    {
     "name": "stdout",
     "output_type": "stream",
     "text": [
      "Epoch: 24 | Loss: 2.2689 | Training accuracy: 38.521% | Epoch Time: 2241.39 secs\n"
     ]
    },
    {
     "name": "stderr",
     "output_type": "stream",
     "text": [
      "100%|██████████| 25/25 [15:40:48<00:00, 2257.95s/it]"
     ]
    },
    {
     "name": "stdout",
     "output_type": "stream",
     "text": [
      "Epoch: 25 | Loss: 2.1845 | Training accuracy: 37.977% | Epoch Time: 2241.51 secs\n",
      "==> Finished Training ...\n"
     ]
    },
    {
     "name": "stderr",
     "output_type": "stream",
     "text": [
      "\n"
     ]
    }
   ],
   "source": [
    "train_model_for_test(ViT_pre_trained_model_fine_tuning, train_dataloader, 25, 0.001, model_loss_fine_tuned, \"ViT_pre_trained_fine_tuned\", False)"
   ],
   "metadata": {
    "collapsed": false,
    "ExecuteTime": {
     "end_time": "2024-03-24T06:01:10.233825Z",
     "start_time": "2024-03-23T14:20:21.301081Z"
    }
   },
   "id": "2cb2756d1466bc65",
   "execution_count": 10
  },
  {
   "cell_type": "code",
   "outputs": [
    {
     "name": "stdout",
     "output_type": "stream",
     "text": [
      "mps\n"
     ]
    },
    {
     "name": "stderr",
     "output_type": "stream",
     "text": [
      " 17%|█▋        | 1/6 [38:27<3:12:17, 2307.51s/it]"
     ]
    },
    {
     "name": "stdout",
     "output_type": "stream",
     "text": [
      "Epoch: 1 | Loss: 2.1614 | Training accuracy: 38.636% | Epoch Time: 2307.51 secs\n"
     ]
    },
    {
     "name": "stderr",
     "output_type": "stream",
     "text": [
      " 33%|███▎      | 2/6 [1:16:39<2:33:13, 2298.38s/it]"
     ]
    },
    {
     "name": "stdout",
     "output_type": "stream",
     "text": [
      "Epoch: 2 | Loss: 2.1424 | Training accuracy: 39.543% | Epoch Time: 2291.97 secs\n"
     ]
    },
    {
     "name": "stderr",
     "output_type": "stream",
     "text": [
      " 50%|█████     | 3/6 [1:54:52<1:54:47, 2295.78s/it]"
     ]
    },
    {
     "name": "stdout",
     "output_type": "stream",
     "text": [
      "Epoch: 3 | Loss: 2.1252 | Training accuracy: 38.889% | Epoch Time: 2292.67 secs\n"
     ]
    },
    {
     "name": "stderr",
     "output_type": "stream",
     "text": [
      " 67%|██████▋   | 4/6 [2:33:06<1:16:30, 2295.19s/it]"
     ]
    },
    {
     "name": "stdout",
     "output_type": "stream",
     "text": [
      "Epoch: 4 | Loss: 2.0873 | Training accuracy: 38.590% | Epoch Time: 2294.28 secs\n"
     ]
    },
    {
     "name": "stderr",
     "output_type": "stream",
     "text": [
      " 83%|████████▎ | 5/6 [3:11:19<38:14, 2294.47s/it]  "
     ]
    },
    {
     "name": "stdout",
     "output_type": "stream",
     "text": [
      "Epoch: 5 | Loss: 2.3280 | Training accuracy: 25.078% | Epoch Time: 2293.18 secs\n"
     ]
    },
    {
     "name": "stderr",
     "output_type": "stream",
     "text": [
      "100%|██████████| 6/6 [3:49:32<00:00, 2295.36s/it]"
     ]
    },
    {
     "name": "stdout",
     "output_type": "stream",
     "text": [
      "Epoch: 6 | Loss: 2.5550 | Training accuracy: 29.976% | Epoch Time: 2292.48 secs\n",
      "==> Finished Training ...\n"
     ]
    },
    {
     "name": "stderr",
     "output_type": "stream",
     "text": [
      "\n"
     ]
    }
   ],
   "source": [
    "train_model_for_test(ViT_pre_trained_model_fine_tuning, train_dataloader, 6, 0.001, model_loss_fine_tuned, \"ViT_pre_trained_fine_tuned\", False)"
   ],
   "metadata": {
    "collapsed": false,
    "ExecuteTime": {
     "end_time": "2024-03-24T09:55:08.176767Z",
     "start_time": "2024-03-24T06:05:35.968662Z"
    }
   },
   "id": "31bc5564515bd7ed",
   "execution_count": 11
  },
  {
   "cell_type": "code",
   "outputs": [
    {
     "name": "stdout",
     "output_type": "stream",
     "text": [
      "ImageClassification(\n",
      "    crop_size=[224]\n",
      "    resize_size=[256]\n",
      "    mean=[0.485, 0.456, 0.406]\n",
      "    std=[0.229, 0.224, 0.225]\n",
      "    interpolation=InterpolationMode.BILINEAR\n",
      ")\n"
     ]
    }
   ],
   "source": [
    "ViT_pre_trained_weights_bla_bla = torchvision.models.ViT_B_16_Weights.DEFAULT\n",
    "ViT_transform = ViT_pre_trained_weights_bla_bla.transforms()\n",
    "print(ViT_transform)"
   ],
   "metadata": {
    "collapsed": false,
    "ExecuteTime": {
     "end_time": "2024-03-24T10:46:47.135935Z",
     "start_time": "2024-03-24T10:46:47.117463Z"
    }
   },
   "id": "d0803081e8aa478",
   "execution_count": 12
  }
 ],
 "metadata": {
  "kernelspec": {
   "display_name": "Python 3",
   "language": "python",
   "name": "python3"
  },
  "language_info": {
   "codemirror_mode": {
    "name": "ipython",
    "version": 2
   },
   "file_extension": ".py",
   "mimetype": "text/x-python",
   "name": "python",
   "nbconvert_exporter": "python",
   "pygments_lexer": "ipython2",
   "version": "2.7.6"
  }
 },
 "nbformat": 4,
 "nbformat_minor": 5
}
