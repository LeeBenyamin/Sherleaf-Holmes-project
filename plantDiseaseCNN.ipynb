{
 "cells": [
  {
   "cell_type": "markdown",
   "source": [
    "### <img src=\"icons/resized/library.png\" style=\"height:50px;display:inline\"> Libs\n",
    "Import libraries for the project: "
   ],
   "metadata": {
    "collapsed": false
   }
  },
  {
   "cell_type": "code",
   "execution_count": 88,
   "metadata": {
    "id": "R2CNenEVxekx",
    "ExecuteTime": {
     "end_time": "2024-03-27T12:38:28.286731Z",
     "start_time": "2024-03-27T12:38:28.282159Z"
    }
   },
   "outputs": [],
   "source": [
    "import numpy as np\n",
    "import torch\n",
    "import torch.nn as nn\n",
    "from torch.utils.data import TensorDataset, DataLoader\n",
    "import torchvision\n",
    "import matplotlib.pyplot as plt\n",
    "from torchvision import datasets, transforms\n",
    "%matplotlib inline\n",
    "import os\n",
    "import cv2\n",
    "import time\n",
    "from tqdm.notebook import tqdm\n",
    "import torch.optim as optim\n",
    "import optuna\n",
    "from torchsummary import summary\n",
    "import csv"
   ]
  },
  {
   "cell_type": "markdown",
   "source": [
    "### <img src=\"icons/resized/dataset.png\" style=\"height:50px;display:inline\"> Dataset\n",
    "Loading dataset as train, validation and test:"
   ],
   "metadata": {
    "collapsed": false
   }
  },
  {
   "cell_type": "code",
   "execution_count": 2,
   "metadata": {
    "id": "6ZfsNlCiCMgm",
    "ExecuteTime": {
     "end_time": "2024-03-26T20:48:41.939968Z",
     "start_time": "2024-03-26T20:48:41.711379Z"
    }
   },
   "outputs": [],
   "source": [
    "#local dir:\n",
    "local_root_dir = 'Dataset/PlantVillage 2'\n",
    "\n",
    "train_transform = transforms.Compose([\n",
    "    transforms.Resize((32,32)),\n",
    "    transforms.RandomRotation(25),\n",
    "    transforms.RandomHorizontalFlip(),\n",
    "    transforms.ToTensor(),\n",
    "])\n",
    "\n",
    "valid_transform = transforms.Compose([\n",
    "    transforms.Resize((32,32)),\n",
    "    transforms.ToTensor(),\n",
    "])\n",
    "\n",
    "# loading datasets:\n",
    "train_dataset = datasets.ImageFolder(root=local_root_dir + '/train', transform=train_transform)\n",
    "valid_dataset = datasets.ImageFolder(root=local_root_dir + '/val', transform=valid_transform)\n",
    "test_dataset = datasets.ImageFolder(root=local_root_dir + '/test', transform=valid_transform)"
   ]
  },
  {
   "cell_type": "markdown",
   "source": [
    "### <img src=\"icons/resized/helper_functions.png\" style=\"height:50px;display:inline\"> Useful Functions\n",
    "1) train - Receives hyperparameters and creates a model with these parameters. Calculates model's training loss and returns the trained model.  \n",
    "2) calculate_accuracy - With this function we can evaluate the models while training (training accuracy), post-trained models (validation accuracy) and finally                          models that we are satisfied with (test accuracy)\n",
    "3) objective - similar function to train() with some changes for optuna compatability.\n",
    "4) create_results_file - Creates a file with all the hyperparameters and results for each run that we try in our strategy (for example random search) "
   ],
   "metadata": {
    "collapsed": false
   }
  },
  {
   "cell_type": "code",
   "outputs": [],
   "source": [
    "# train method:\n",
    "\n",
    "def train_model_for_test(trainloader, epochs, learning_rate, p, model_loss, model_accuracy, model_name_to_save):\n",
    "    model = plantDiseaseCNN(p).to(device)\n",
    "    optimizer = torch.optim.Adam(model.parameters(), lr=learning_rate)\n",
    "    criterion = nn.CrossEntropyLoss()\n",
    "    for epoch in tqdm(range(1, epochs + 1, 1), leave=True):\n",
    "        model.train()  # put in training mode, turn on Dropout, BatchNorm uses batch's statistics\n",
    "        running_loss = 0.0\n",
    "        epoch_time = time.time()\n",
    "        for i, data in enumerate(trainloader, 0):\n",
    "            # get the inputs\n",
    "            \n",
    "            inputs, labels = data\n",
    "            inputs, labels = inputs.to(device), labels.to(device)\n",
    "            outputs = model(inputs)  # forward pass\n",
    "            \n",
    "            loss = criterion(outputs, labels)  # calculate the loss\n",
    "            \n",
    "            optimizer.zero_grad()  # zero the parameter gradients\n",
    "            loss.backward()  # backpropagation\n",
    "            optimizer.step()  # update parameters\n",
    "\n",
    "            # print statistics\n",
    "            running_loss += loss.data.item()\n",
    "\n",
    "        # Normalizing the loss by the total number of train batches\n",
    "        running_loss /= len(trainloader)\n",
    "        model_loss.append(running_loss)\n",
    "\n",
    "        # Calculate training/test set accuracy of the existing model\n",
    "        train_accuracy, _ = calculate_accuracy(model, trainloader, device)\n",
    "        model_accuracy.append(train_accuracy)\n",
    "\n",
    "        log = \"Epoch: {} | Loss: {:.4f} | Training accuracy: {:.3f}% | \".format(epoch, running_loss, train_accuracy)\n",
    "        epoch_time = time.time() - epoch_time\n",
    "        log += \"Epoch Time: {:.2f} secs\".format(epoch_time)\n",
    "        print(log)\n",
    "\n",
    "        # save model\n",
    "        if epoch % 10 == 0:\n",
    "            print('==> Saving model ...')\n",
    "            state = {\n",
    "                'net': model.state_dict(),\n",
    "                'epoch': epoch,\n",
    "            }\n",
    "            if not os.path.isdir('checkpoints'):\n",
    "                os.mkdir('checkpoints')\n",
    "            torch.save(state, f'./checkpoints/{model_name_to_save}.pth')\n",
    "\n",
    "    print('==> Finished Training ...')\n",
    "    if epoch > 10 and epoch % 10 != 0:\n",
    "        state = {\n",
    "                'net': model.state_dict(),\n",
    "                'epoch': epoch,\n",
    "                }\n",
    "        if not os.path.isdir('checkpoints'):\n",
    "            os.mkdir('checkpoints')\n",
    "            torch.save(state, f'./checkpoints/{model_name_to_save}.pth')\n",
    "    return model\n",
    "\n",
    "\n",
    "#  function for accuracy calculations:\n",
    "\n",
    "def calculate_accuracy(model, dataloader, device):\n",
    "    model.eval() # put in evaluation mode,  turn off Dropout, BatchNorm uses learned statistics\n",
    "    total_correct = 0\n",
    "    total_images = 0\n",
    "    confusion_matrix = np.zeros([38, 38], int)\n",
    "    with torch.no_grad():\n",
    "        for data in dataloader:\n",
    "            images, labels = data\n",
    "            images = images.to(device)\n",
    "            labels = labels.to(device)\n",
    "            outputs = model(images)\n",
    "            _, predicted = torch.max(outputs.data, 1)\n",
    "            total_images += labels.size(0)\n",
    "            total_correct += (predicted == labels).sum().item()\n",
    "            for i, l in enumerate(labels):\n",
    "                confusion_matrix[l.item(), predicted[i].item()] += 1\n",
    "\n",
    "    model_accuracy = total_correct / total_images * 100\n",
    "    return model_accuracy, confusion_matrix\n",
    "\n",
    "# optuna tuning:\n",
    "\n",
    "def objective(trial):\n",
    "    epochs = 5\n",
    "    p = trial.suggest_float(\"p\", 0.1, 0.5, log=True)\n",
    "    lr = trial.suggest_float(\"lr\", 1e-5, 1e-2, log=True)  # log=True, will use log scale to interplolate between lr\n",
    "    optimizer_name = trial.suggest_categorical(\"optimizer\", [\"Adam\", \"RMSprop\", \"SGD\"])\n",
    "    batch_size = trial.suggest_int(\"batch_size\", 32, 128, log=True)\n",
    "    model = plantDiseaseCNN(p).to(device)\n",
    "    optimizer = getattr(optim, optimizer_name)(model.parameters(), lr=lr)\n",
    "    criterion = nn.CrossEntropyLoss()\n",
    "    train_loader = torch.utils.data.DataLoader(train_dataset, batch_size=batch_size, shuffle=True)\n",
    "    valid_loader = torch.utils.data.DataLoader(valid_dataset, batch_size=batch_size, shuffle=True)\n",
    "    n_train_examples = len(train_loader.dataset)\n",
    "    n_valid_examples = len(valid_loader.dataset)\n",
    "    # alternative version\n",
    "    # optimizer = trial.suggest_categorical(\"optimizer\", [optim.Adam, optim.RMSprop, optim.SGD])\n",
    "    for epoch in range(epochs):\n",
    "        model.train()\n",
    "        #for batch_idx, (data, target) in enumerate(train_loader):\n",
    "        for i, data in enumerate(train_loader, 0):\n",
    "            # Limiting training data for faster epochs.\n",
    "            inputs, target = data\n",
    "            inputs, target = inputs.to(device), target.to(device)\n",
    "            \n",
    "            output = model(inputs)\n",
    "            loss = criterion(output, target)  # calculate the loss\n",
    "            optimizer.zero_grad()\n",
    "            loss.backward()\n",
    "            optimizer.step()\n",
    "\n",
    "        # Validation of the model.\n",
    "        model.eval()\n",
    "        correct = 0\n",
    "        with torch.no_grad():\n",
    "            #for batch_idx, (data, target) in enumerate(valid_loader):\n",
    "            for i, data in enumerate(valid_loader, 0):\n",
    "                # Limiting validation data.\n",
    "                inputs, target = data\n",
    "                inputs, target = inputs.to(device), target.to(device)\n",
    "                #data, target = data.view(data.size(0), -1).to(device), target.to(device)\n",
    "                output = model(inputs)\n",
    "                # Get the index of the max log-probability.\n",
    "                pred = output.argmax(dim=1, keepdim=True)\n",
    "                correct += pred.eq(target.view_as(pred)).sum().item()\n",
    "\n",
    "        accuracy = (correct / min(len(valid_loader.dataset), n_valid_examples)) * 100\n",
    "\n",
    "        # report back to Optuna how far it is (epoch-wise) into the trial and how well it is doing (accuracy)\n",
    "        trial.report(accuracy, epoch)  \n",
    "\n",
    "        # then, Optuna can decide if the trial should be pruned\n",
    "        # Handle pruning based on the intermediate value.\n",
    "        if trial.should_prune():\n",
    "            raise optuna.exceptions.TrialPruned()\n",
    "\n",
    "    return accuracy\n",
    "\n",
    "def create_results_file(model_name, loss_results_list=[], accuracy_results_list=[], graph=False, parameters=True):\n",
    "    parameters_result_path = ''\n",
    "    results_paths_list = []\n",
    "    if parameters == True:\n",
    "        filename = f\"{model_name}_parameters_results.csv\"\n",
    "        parameters_result_path = f'CNN_results/parameters/{filename}'\n",
    "        with open (parameters_result_path, 'w', newline='') as f:\n",
    "            csvwriter = csv.writer(f)\n",
    "            for value in results_list:\n",
    "                csvwriter.writerow([value])\n",
    "    if graph == True:\n",
    "        results_dict = {\"loss\": loss_results_list, \"accuracy\":accuracy_results_list}\n",
    "        for key in results_dict.keys():\n",
    "            filename = f\"{model_name}_{key}_graph_results.csv\"\n",
    "            result_path = f'CNN_results/graphs/{filename}'\n",
    "            results_paths_list.append(result_path)\n",
    "            with open (result_path, 'w', newline='') as f:\n",
    "                csvwriter = csv.writer(f)\n",
    "                for value in results_dict[key]:\n",
    "                    csvwriter.writerow([value])\n",
    "    return results_paths_list, parameters_result_path\n"
   ],
   "metadata": {
    "collapsed": false,
    "ExecuteTime": {
     "end_time": "2024-03-27T12:50:44.484757Z",
     "start_time": "2024-03-27T12:50:44.470871Z"
    }
   },
   "execution_count": 95
  },
  {
   "cell_type": "markdown",
   "source": [
    "### <img src=\"icons/resized/device.png\" style=\"height:50px;display:inline\"> Device\n",
    "Define the device:"
   ],
   "metadata": {
    "collapsed": false
   }
  },
  {
   "cell_type": "code",
   "outputs": [
    {
     "name": "stdout",
     "output_type": "stream",
     "text": [
      "using MPS\n"
     ]
    }
   ],
   "source": [
    "if torch.backends.mps.is_built():\n",
    "    print(\"using MPS\")\n",
    "    device = torch.device(\"mps\")\n",
    "elif torch.cuda.is_available():\n",
    "    print(\"using Cuda\")\n",
    "    device = torch.device(\"cuda:0\")\n",
    "else:\n",
    "    print(\"using CPUֹ\")\n",
    "    device = torch.device(\"cpu\")"
   ],
   "metadata": {
    "collapsed": false,
    "ExecuteTime": {
     "end_time": "2024-03-27T09:07:55.073603Z",
     "start_time": "2024-03-27T09:07:55.070735Z"
    }
   },
   "execution_count": 24
  },
  {
   "cell_type": "markdown",
   "source": [
    "### <img src=\"icons/resized/CNN_declaration.png\" style=\"height:50px;display:inline\"> Our CNN model:"
   ],
   "metadata": {
    "collapsed": false
   }
  },
  {
   "cell_type": "code",
   "execution_count": 5,
   "metadata": {
    "id": "Eq3He0G1yEGc",
    "ExecuteTime": {
     "end_time": "2024-03-26T20:48:41.959070Z",
     "start_time": "2024-03-26T20:48:41.954426Z"
    }
   },
   "outputs": [],
   "source": [
    "class plantDiseaseCNN(nn.Module):\n",
    "    def __init__(self, p = 0.1):\n",
    "        \"\"\"CNN Builder.\"\"\"\n",
    "        super(plantDiseaseCNN, self).__init__()\n",
    "\n",
    "        self.conv_layer = nn.Sequential(\n",
    "            # Conv Layer block 1\n",
    "            nn.Conv2d(in_channels=3, out_channels=16, kernel_size=3, padding=1),\n",
    "            nn.BatchNorm2d(16),\n",
    "            nn.ReLU(inplace=True),\n",
    "            nn.Conv2d(in_channels=16, out_channels=32, kernel_size=3, padding=1),\n",
    "            nn.BatchNorm2d(32),\n",
    "            nn.MaxPool2d(kernel_size=2, stride=2),\n",
    "            nn.Conv2d(in_channels=32, out_channels=64, kernel_size=3, padding=1),\n",
    "            nn.BatchNorm2d(64),\n",
    "            nn.ReLU(inplace=True),\n",
    "            nn.Conv2d(in_channels=64, out_channels=128, kernel_size=3, padding=1),\n",
    "            nn.BatchNorm2d(128),\n",
    "            nn.MaxPool2d(kernel_size=2, stride=2),\n",
    "            nn.Conv2d(in_channels=128, out_channels=256, kernel_size=3, padding=1),\n",
    "            nn.BatchNorm2d(256),\n",
    "            nn.Conv2d(in_channels=256, out_channels=128, kernel_size=3, padding=1),\n",
    "            nn.BatchNorm2d(128),\n",
    "            nn.Conv2d(in_channels=128, out_channels=64, kernel_size=3, padding=1),\n",
    "            nn.BatchNorm2d(64),\n",
    "            nn.ReLU(inplace=True),\n",
    "            nn.Conv2d(in_channels=64, out_channels=32, kernel_size=3, padding=1),\n",
    "            nn.BatchNorm2d(32),\n",
    "            nn.MaxPool2d(kernel_size=2, stride=2),\n",
    "            nn.Conv2d(in_channels=32, out_channels=16, kernel_size=3, padding=1),\n",
    "            nn.BatchNorm2d(16),\n",
    "        )\n",
    "\n",
    "        self.fc_layer = nn.Sequential(\n",
    "            nn.Dropout(p=p),\n",
    "            nn.Linear(4*4*16, 128),  \n",
    "            nn.ReLU(inplace=True),\n",
    "            nn.Dropout(p=p),\n",
    "            nn.Linear(128, 38)\n",
    "        )\n",
    "\n",
    "    \n",
    "    def forward(self, x):\n",
    "        # conv layers\n",
    "        x = self.conv_layer(x)\n",
    "        # flatten\n",
    "        x = x.view(x.size(0), -1)\n",
    "\n",
    "        # fc layer\n",
    "        x = self.fc_layer(x)\n",
    "\n",
    "        return x\n"
   ]
  },
  {
   "cell_type": "code",
   "execution_count": 71,
   "metadata": {
    "colab": {
     "base_uri": "https://localhost:8080/"
    },
    "id": "lvqq9VAqyQy3",
    "outputId": "b2489dcd-69c9-4f8f-bb43-bcab40747993",
    "ExecuteTime": {
     "end_time": "2024-03-27T11:29:02.458174Z",
     "start_time": "2024-03-27T11:29:02.434338Z"
    }
   },
   "outputs": [
    {
     "name": "stdout",
     "output_type": "stream",
     "text": [
      "Input dimension: 3 x 32 x 32\n",
      "output dimension: torch.Size([1, 16, 4, 4])\n",
      "output dimension: torch.Size([1, 38])\n",
      "Number of trainable weights: 823798\n",
      "Model size: 26361536 [bit] | 3.30 [MB]\n",
      "----------------------------------------------------------------\n",
      "        Layer (type)               Output Shape         Param #\n",
      "================================================================\n",
      "            Conv2d-1           [-1, 16, 32, 32]             448\n",
      "       BatchNorm2d-2           [-1, 16, 32, 32]              32\n",
      "              ReLU-3           [-1, 16, 32, 32]               0\n",
      "            Conv2d-4           [-1, 32, 32, 32]           4,640\n",
      "       BatchNorm2d-5           [-1, 32, 32, 32]              64\n",
      "         MaxPool2d-6           [-1, 32, 16, 16]               0\n",
      "            Conv2d-7           [-1, 64, 16, 16]          18,496\n",
      "       BatchNorm2d-8           [-1, 64, 16, 16]             128\n",
      "              ReLU-9           [-1, 64, 16, 16]               0\n",
      "           Conv2d-10          [-1, 128, 16, 16]          73,856\n",
      "      BatchNorm2d-11          [-1, 128, 16, 16]             256\n",
      "        MaxPool2d-12            [-1, 128, 8, 8]               0\n",
      "           Conv2d-13            [-1, 256, 8, 8]         295,168\n",
      "      BatchNorm2d-14            [-1, 256, 8, 8]             512\n",
      "           Conv2d-15            [-1, 128, 8, 8]         295,040\n",
      "      BatchNorm2d-16            [-1, 128, 8, 8]             256\n",
      "           Conv2d-17             [-1, 64, 8, 8]          73,792\n",
      "      BatchNorm2d-18             [-1, 64, 8, 8]             128\n",
      "             ReLU-19             [-1, 64, 8, 8]               0\n",
      "           Conv2d-20             [-1, 32, 8, 8]          18,464\n",
      "      BatchNorm2d-21             [-1, 32, 8, 8]              64\n",
      "        MaxPool2d-22             [-1, 32, 4, 4]               0\n",
      "           Conv2d-23             [-1, 16, 4, 4]           4,624\n",
      "      BatchNorm2d-24             [-1, 16, 4, 4]              32\n",
      "          Dropout-25                  [-1, 256]               0\n",
      "           Linear-26                  [-1, 128]          32,896\n",
      "             ReLU-27                  [-1, 128]               0\n",
      "          Dropout-28                  [-1, 128]               0\n",
      "           Linear-29                   [-1, 38]           4,902\n",
      "================================================================\n",
      "Total params: 823,798\n",
      "Trainable params: 823,798\n",
      "Non-trainable params: 0\n",
      "----------------------------------------------------------------\n",
      "Input size (MB): 0.01\n",
      "Forward/backward pass size (MB): 2.39\n",
      "Params size (MB): 3.14\n",
      "Estimated Total Size (MB): 5.54\n",
      "----------------------------------------------------------------\n"
     ]
    }
   ],
   "source": [
    "# Dimensions, Parameters and Size\n",
    "print(f\"Input dimension: 3 x 32 x 32\")\n",
    "\n",
    "dummy_input = torch.zeros([1, 3, 32, 32])\n",
    "dummy_model = plantDiseaseCNN(p=0.2)\n",
    "dummy_output = dummy_model.conv_layer(dummy_input)\n",
    "print(f\"output dimension: {dummy_output.shape}\")\n",
    "\n",
    "dummy_output = dummy_output.view(dummy_output.size(0),-1)\n",
    "dummy_output_fc = dummy_model.fc_layer(dummy_output)\n",
    "print(f\"output dimension: {dummy_output_fc.shape}\")\n",
    "\n",
    "num_trainable_params = sum([p.numel() for p in dummy_model.parameters() if p.requires_grad])\n",
    "print(f\"Number of trainable weights: {num_trainable_params}\")\n",
    "\n",
    "size_model = 0\n",
    "for param in dummy_model.parameters():\n",
    "  if param.data.is_floating_point():\n",
    "    size_model += param.numel() * torch.finfo(param.data.dtype).bits\n",
    "  else:\n",
    "    size_model += param.numel() * torch.iinfo(param.data.dtype).bits\n",
    "\n",
    "print(f\"Model size: {size_model} [bit] | {size_model / 8e6:.2f} [MB]\")\n",
    "\n",
    "summary(dummy_model, (3,32,32))"
   ]
  },
  {
   "cell_type": "markdown",
   "source": [
    "### <img src=\"icons/resized/random_serach.png\" style=\"height:50px;display:inline\"> Random Search Strategy:\n",
    "Here we are trying get a general intuition about what hyperparameters we should use."
   ],
   "metadata": {
    "collapsed": false
   }
  },
  {
   "cell_type": "code",
   "execution_count": 7,
   "metadata": {
    "colab": {
     "base_uri": "https://localhost:8080/"
    },
    "id": "x1HzjZA5yZF7",
    "outputId": "41b95570-4c69-40a6-ca58-9ffe0d0a65b4",
    "ExecuteTime": {
     "end_time": "2024-03-27T02:00:06.025590Z",
     "start_time": "2024-03-26T20:48:41.971314Z"
    }
   },
   "outputs": [
    {
     "name": "stdout",
     "output_type": "stream",
     "text": [
      "batch_size = 128\n",
      " lr = 0.001\n",
      " p = 0.2\n"
     ]
    },
    {
     "data": {
      "text/plain": "  0%|          | 0/5 [00:00<?, ?it/s]",
      "application/vnd.jupyter.widget-view+json": {
       "version_major": 2,
       "version_minor": 0,
       "model_id": "b3d6eb5504c04e35990c8716125f0543"
      }
     },
     "metadata": {},
     "output_type": "display_data"
    },
    {
     "name": "stdout",
     "output_type": "stream",
     "text": [
      "Epoch: 1 | Loss: 1.4244 | Training accuracy: 70.889% | Epoch Time: 111.06 secs\n",
      "Epoch: 2 | Loss: 0.7435 | Training accuracy: 79.154% | Epoch Time: 109.32 secs\n",
      "Epoch: 3 | Loss: 0.5554 | Training accuracy: 84.973% | Epoch Time: 108.89 secs\n",
      "Epoch: 4 | Loss: 0.4585 | Training accuracy: 85.259% | Epoch Time: 107.86 secs\n",
      "Epoch: 5 | Loss: 0.3895 | Training accuracy: 87.624% | Epoch Time: 107.91 secs\n",
      "==> Finished Training ...\n",
      "calculating validation accuracy of trained model with batch_size = 128\n",
      " lr = 0.001\n",
      "val accuracy:88.04898259828745\n",
      "iteration number 1 out of 30\n",
      "batch_size = 128\n",
      " lr = 0.001\n",
      " p = 0.2\n"
     ]
    },
    {
     "data": {
      "text/plain": "  0%|          | 0/5 [00:00<?, ?it/s]",
      "application/vnd.jupyter.widget-view+json": {
       "version_major": 2,
       "version_minor": 0,
       "model_id": "58ae9ec9655644868775a3b8a7c1ce53"
      }
     },
     "metadata": {},
     "output_type": "display_data"
    },
    {
     "name": "stdout",
     "output_type": "stream",
     "text": [
      "Epoch: 1 | Loss: 1.4446 | Training accuracy: 71.071% | Epoch Time: 107.90 secs\n",
      "Epoch: 2 | Loss: 0.7539 | Training accuracy: 82.148% | Epoch Time: 107.76 secs\n",
      "Epoch: 3 | Loss: 0.5556 | Training accuracy: 83.746% | Epoch Time: 108.96 secs\n",
      "Epoch: 4 | Loss: 0.4519 | Training accuracy: 84.019% | Epoch Time: 109.61 secs\n",
      "Epoch: 5 | Loss: 0.3817 | Training accuracy: 88.606% | Epoch Time: 108.89 secs\n",
      "==> Finished Training ...\n",
      "calculating validation accuracy of trained model with batch_size = 128\n",
      " lr = 0.001\n",
      "val accuracy:88.59221066200166\n",
      "iteration number 2 out of 30\n",
      "batch_size = 32\n",
      " lr = 0.002\n",
      " p = 0.3\n"
     ]
    },
    {
     "data": {
      "text/plain": "  0%|          | 0/5 [00:00<?, ?it/s]",
      "application/vnd.jupyter.widget-view+json": {
       "version_major": 2,
       "version_minor": 0,
       "model_id": "84f3cd97c47e403a9e5404de8d9eef42"
      }
     },
     "metadata": {},
     "output_type": "display_data"
    },
    {
     "name": "stdout",
     "output_type": "stream",
     "text": [
      "Epoch: 1 | Loss: 1.7150 | Training accuracy: 65.919% | Epoch Time: 128.33 secs\n",
      "Epoch: 2 | Loss: 1.0564 | Training accuracy: 63.309% | Epoch Time: 127.41 secs\n",
      "Epoch: 3 | Loss: 0.8551 | Training accuracy: 79.931% | Epoch Time: 127.64 secs\n",
      "Epoch: 4 | Loss: 0.7170 | Training accuracy: 81.169% | Epoch Time: 127.53 secs\n",
      "Epoch: 5 | Loss: 0.6329 | Training accuracy: 81.964% | Epoch Time: 127.39 secs\n",
      "==> Finished Training ...\n",
      "calculating validation accuracy of trained model with batch_size = 32\n",
      " lr = 0.002\n",
      "val accuracy:83.02182119510174\n",
      "iteration number 3 out of 30\n",
      "batch_size = 32\n",
      " lr = 0.003\n",
      " p = 0.3\n"
     ]
    },
    {
     "data": {
      "text/plain": "  0%|          | 0/5 [00:00<?, ?it/s]",
      "application/vnd.jupyter.widget-view+json": {
       "version_major": 2,
       "version_minor": 0,
       "model_id": "d993967ff3884530ab7157546be463b1"
      }
     },
     "metadata": {},
     "output_type": "display_data"
    },
    {
     "name": "stdout",
     "output_type": "stream",
     "text": [
      "Epoch: 1 | Loss: 1.7321 | Training accuracy: 58.388% | Epoch Time: 128.20 secs\n",
      "Epoch: 2 | Loss: 1.1061 | Training accuracy: 69.744% | Epoch Time: 127.74 secs\n",
      "Epoch: 3 | Loss: 0.8718 | Training accuracy: 81.450% | Epoch Time: 127.95 secs\n",
      "Epoch: 4 | Loss: 0.7334 | Training accuracy: 84.239% | Epoch Time: 127.71 secs\n",
      "Epoch: 5 | Loss: 0.6374 | Training accuracy: 84.899% | Epoch Time: 127.93 secs\n",
      "==> Finished Training ...\n",
      "calculating validation accuracy of trained model with batch_size = 32\n",
      " lr = 0.003\n",
      "val accuracy:83.56504925881595\n",
      "iteration number 4 out of 30\n",
      "batch_size = 64\n",
      " lr = 0.001\n",
      " p = 0.3\n"
     ]
    },
    {
     "data": {
      "text/plain": "  0%|          | 0/5 [00:00<?, ?it/s]",
      "application/vnd.jupyter.widget-view+json": {
       "version_major": 2,
       "version_minor": 0,
       "model_id": "8c26c48b4c7747c691d2a356008ba6f4"
      }
     },
     "metadata": {},
     "output_type": "display_data"
    },
    {
     "name": "stdout",
     "output_type": "stream",
     "text": [
      "Epoch: 1 | Loss: 1.5349 | Training accuracy: 69.307% | Epoch Time: 117.93 secs\n",
      "Epoch: 2 | Loss: 0.8874 | Training accuracy: 79.001% | Epoch Time: 117.75 secs\n",
      "Epoch: 3 | Loss: 0.6817 | Training accuracy: 65.733% | Epoch Time: 117.82 secs\n",
      "Epoch: 4 | Loss: 0.5601 | Training accuracy: 84.492% | Epoch Time: 117.49 secs\n",
      "Epoch: 5 | Loss: 0.4873 | Training accuracy: 87.079% | Epoch Time: 117.58 secs\n",
      "==> Finished Training ...\n",
      "calculating validation accuracy of trained model with batch_size = 64\n",
      " lr = 0.001\n",
      "val accuracy:86.78758861983242\n",
      "iteration number 5 out of 30\n",
      "batch_size = 128\n",
      " lr = 0.0001\n",
      " p = 0.5\n"
     ]
    },
    {
     "data": {
      "text/plain": "  0%|          | 0/5 [00:00<?, ?it/s]",
      "application/vnd.jupyter.widget-view+json": {
       "version_major": 2,
       "version_minor": 0,
       "model_id": "17fb6ed7fd724ab79d935106f70751e7"
      }
     },
     "metadata": {},
     "output_type": "display_data"
    },
    {
     "name": "stdout",
     "output_type": "stream",
     "text": [
      "Epoch: 1 | Loss: 2.5761 | Training accuracy: 57.787% | Epoch Time: 109.67 secs\n",
      "Epoch: 2 | Loss: 1.6846 | Training accuracy: 68.041% | Epoch Time: 108.89 secs\n",
      "Epoch: 3 | Loss: 1.3182 | Training accuracy: 74.650% | Epoch Time: 108.88 secs\n",
      "Epoch: 4 | Loss: 1.0968 | Training accuracy: 80.259% | Epoch Time: 108.75 secs\n",
      "Epoch: 5 | Loss: 0.9454 | Training accuracy: 83.022% | Epoch Time: 109.12 secs\n",
      "==> Finished Training ...\n",
      "calculating validation accuracy of trained model with batch_size = 128\n",
      " lr = 0.0001\n",
      "val accuracy:83.1415155142252\n",
      "iteration number 6 out of 30\n",
      "batch_size = 32\n",
      " lr = 0.002\n",
      " p = 0.4\n"
     ]
    },
    {
     "data": {
      "text/plain": "  0%|          | 0/5 [00:00<?, ?it/s]",
      "application/vnd.jupyter.widget-view+json": {
       "version_major": 2,
       "version_minor": 0,
       "model_id": "4a7e4bd772144517a983b96c3585459b"
      }
     },
     "metadata": {},
     "output_type": "display_data"
    },
    {
     "name": "stdout",
     "output_type": "stream",
     "text": [
      "Epoch: 1 | Loss: 1.8087 | Training accuracy: 49.366% | Epoch Time: 127.63 secs\n",
      "Epoch: 2 | Loss: 1.1409 | Training accuracy: 71.411% | Epoch Time: 127.54 secs\n",
      "Epoch: 3 | Loss: 0.9221 | Training accuracy: 78.047% | Epoch Time: 127.70 secs\n",
      "Epoch: 4 | Loss: 0.7796 | Training accuracy: 76.772% | Epoch Time: 127.65 secs\n",
      "Epoch: 5 | Loss: 0.6878 | Training accuracy: 84.357% | Epoch Time: 127.44 secs\n",
      "==> Finished Training ...\n",
      "calculating validation accuracy of trained model with batch_size = 32\n",
      " lr = 0.002\n",
      "val accuracy:85.12107540742105\n",
      "iteration number 7 out of 30\n",
      "batch_size = 32\n",
      " lr = 0.0003\n",
      " p = 0.3\n"
     ]
    },
    {
     "data": {
      "text/plain": "  0%|          | 0/5 [00:00<?, ?it/s]",
      "application/vnd.jupyter.widget-view+json": {
       "version_major": 2,
       "version_minor": 0,
       "model_id": "877e38780d2e40ab98971336ade0d99d"
      }
     },
     "metadata": {},
     "output_type": "display_data"
    },
    {
     "name": "stdout",
     "output_type": "stream",
     "text": [
      "Epoch: 1 | Loss: 1.4688 | Training accuracy: 74.277% | Epoch Time: 127.77 secs\n",
      "Epoch: 2 | Loss: 0.8234 | Training accuracy: 80.310% | Epoch Time: 127.48 secs\n",
      "Epoch: 3 | Loss: 0.6276 | Training accuracy: 86.872% | Epoch Time: 128.12 secs\n",
      "Epoch: 4 | Loss: 0.5209 | Training accuracy: 74.905% | Epoch Time: 127.98 secs\n",
      "Epoch: 5 | Loss: 0.4487 | Training accuracy: 89.723% | Epoch Time: 127.79 secs\n",
      "==> Finished Training ...\n",
      "calculating validation accuracy of trained model with batch_size = 32\n",
      " lr = 0.0003\n",
      "val accuracy:89.54055795967221\n",
      "iteration number 8 out of 30\n",
      "batch_size = 32\n",
      " lr = 0.0001\n",
      " p = 0.2\n"
     ]
    },
    {
     "data": {
      "text/plain": "  0%|          | 0/5 [00:00<?, ?it/s]",
      "application/vnd.jupyter.widget-view+json": {
       "version_major": 2,
       "version_minor": 0,
       "model_id": "d388cda91cd94cd98c6077eddf45cb75"
      }
     },
     "metadata": {},
     "output_type": "display_data"
    },
    {
     "name": "stdout",
     "output_type": "stream",
     "text": [
      "Epoch: 1 | Loss: 1.6681 | Training accuracy: 74.839% | Epoch Time: 127.81 secs\n",
      "Epoch: 2 | Loss: 0.8735 | Training accuracy: 82.181% | Epoch Time: 127.50 secs\n",
      "Epoch: 3 | Loss: 0.6692 | Training accuracy: 85.990% | Epoch Time: 128.43 secs\n",
      "Epoch: 4 | Loss: 0.5490 | Training accuracy: 86.520% | Epoch Time: 127.57 secs\n",
      "Epoch: 5 | Loss: 0.4792 | Training accuracy: 90.157% | Epoch Time: 127.56 secs\n",
      "==> Finished Training ...\n",
      "calculating validation accuracy of trained model with batch_size = 32\n",
      " lr = 0.0001\n",
      "val accuracy:89.85360464045668\n",
      "iteration number 9 out of 30\n",
      "batch_size = 32\n",
      " lr = 0.0001\n",
      " p = 0.2\n"
     ]
    },
    {
     "data": {
      "text/plain": "  0%|          | 0/5 [00:00<?, ?it/s]",
      "application/vnd.jupyter.widget-view+json": {
       "version_major": 2,
       "version_minor": 0,
       "model_id": "11d47f57cc2b4d96b5224ffce436cb33"
      }
     },
     "metadata": {},
     "output_type": "display_data"
    },
    {
     "name": "stdout",
     "output_type": "stream",
     "text": [
      "Epoch: 1 | Loss: 1.6944 | Training accuracy: 73.870% | Epoch Time: 127.42 secs\n",
      "Epoch: 2 | Loss: 0.8835 | Training accuracy: 81.350% | Epoch Time: 127.59 secs\n",
      "Epoch: 3 | Loss: 0.6623 | Training accuracy: 85.530% | Epoch Time: 127.68 secs\n",
      "Epoch: 4 | Loss: 0.5463 | Training accuracy: 89.012% | Epoch Time: 127.60 secs\n",
      "Epoch: 5 | Loss: 0.4619 | Training accuracy: 90.449% | Epoch Time: 127.86 secs\n",
      "==> Finished Training ...\n",
      "calculating validation accuracy of trained model with batch_size = 32\n",
      " lr = 0.0001\n",
      "val accuracy:89.97329895958015\n",
      "iteration number 10 out of 30\n",
      "batch_size = 32\n",
      " lr = 0.003\n",
      " p = 0.2\n"
     ]
    },
    {
     "data": {
      "text/plain": "  0%|          | 0/5 [00:00<?, ?it/s]",
      "application/vnd.jupyter.widget-view+json": {
       "version_major": 2,
       "version_minor": 0,
       "model_id": "fb3ad1b2c06147308215460612594972"
      }
     },
     "metadata": {},
     "output_type": "display_data"
    },
    {
     "name": "stdout",
     "output_type": "stream",
     "text": [
      "Epoch: 1 | Loss: 1.6095 | Training accuracy: 65.638% | Epoch Time: 127.34 secs\n",
      "Epoch: 2 | Loss: 0.9504 | Training accuracy: 77.329% | Epoch Time: 127.32 secs\n",
      "Epoch: 3 | Loss: 0.7226 | Training accuracy: 81.892% | Epoch Time: 127.22 secs\n",
      "Epoch: 4 | Loss: 0.6056 | Training accuracy: 83.733% | Epoch Time: 127.53 secs\n",
      "Epoch: 5 | Loss: 0.5377 | Training accuracy: 86.604% | Epoch Time: 127.60 secs\n",
      "==> Finished Training ...\n",
      "calculating validation accuracy of trained model with batch_size = 32\n",
      " lr = 0.003\n",
      "val accuracy:85.7103397477212\n",
      "iteration number 11 out of 30\n",
      "batch_size = 64\n",
      " lr = 0.0003\n",
      " p = 0.5\n"
     ]
    },
    {
     "data": {
      "text/plain": "  0%|          | 0/5 [00:00<?, ?it/s]",
      "application/vnd.jupyter.widget-view+json": {
       "version_major": 2,
       "version_minor": 0,
       "model_id": "b833702293c0425d8c61b6165f9f403b"
      }
     },
     "metadata": {},
     "output_type": "display_data"
    },
    {
     "name": "stdout",
     "output_type": "stream",
     "text": [
      "Epoch: 1 | Loss: 2.0230 | Training accuracy: 67.136% | Epoch Time: 118.06 secs\n",
      "Epoch: 2 | Loss: 1.1955 | Training accuracy: 75.378% | Epoch Time: 117.85 secs\n",
      "Epoch: 3 | Loss: 0.9061 | Training accuracy: 78.842% | Epoch Time: 117.84 secs\n",
      "Epoch: 4 | Loss: 0.7476 | Training accuracy: 83.876% | Epoch Time: 117.78 secs\n",
      "Epoch: 5 | Loss: 0.6319 | Training accuracy: 86.647% | Epoch Time: 119.17 secs\n",
      "==> Finished Training ...\n",
      "calculating validation accuracy of trained model with batch_size = 64\n",
      " lr = 0.0003\n",
      "val accuracy:87.0822207899825\n",
      "iteration number 12 out of 30\n",
      "batch_size = 32\n",
      " lr = 0.001\n",
      " p = 0.2\n"
     ]
    },
    {
     "data": {
      "text/plain": "  0%|          | 0/5 [00:00<?, ?it/s]",
      "application/vnd.jupyter.widget-view+json": {
       "version_major": 2,
       "version_minor": 0,
       "model_id": "1a8472eace2443daafca423baee688b7"
      }
     },
     "metadata": {},
     "output_type": "display_data"
    },
    {
     "name": "stdout",
     "output_type": "stream",
     "text": [
      "Epoch: 1 | Loss: 1.4278 | Training accuracy: 70.585% | Epoch Time: 127.80 secs\n",
      "Epoch: 2 | Loss: 0.8074 | Training accuracy: 76.823% | Epoch Time: 127.95 secs\n",
      "Epoch: 3 | Loss: 0.6295 | Training accuracy: 85.548% | Epoch Time: 127.57 secs\n",
      "Epoch: 4 | Loss: 0.5257 | Training accuracy: 80.029% | Epoch Time: 127.81 secs\n",
      "Epoch: 5 | Loss: 0.4525 | Training accuracy: 88.059% | Epoch Time: 127.73 secs\n",
      "==> Finished Training ...\n",
      "calculating validation accuracy of trained model with batch_size = 32\n",
      " lr = 0.001\n",
      "val accuracy:87.8188012153577\n",
      "iteration number 13 out of 30\n",
      "batch_size = 32\n",
      " lr = 0.0003\n",
      " p = 0.2\n"
     ]
    },
    {
     "data": {
      "text/plain": "  0%|          | 0/5 [00:00<?, ?it/s]",
      "application/vnd.jupyter.widget-view+json": {
       "version_major": 2,
       "version_minor": 0,
       "model_id": "1ab7e902a03f4e08865240ad098ca036"
      }
     },
     "metadata": {},
     "output_type": "display_data"
    },
    {
     "name": "stdout",
     "output_type": "stream",
     "text": [
      "Epoch: 1 | Loss: 1.3846 | Training accuracy: 69.102% | Epoch Time: 127.69 secs\n",
      "Epoch: 2 | Loss: 0.7684 | Training accuracy: 81.432% | Epoch Time: 127.51 secs\n",
      "Epoch: 3 | Loss: 0.5767 | Training accuracy: 82.296% | Epoch Time: 127.60 secs\n",
      "Epoch: 4 | Loss: 0.4610 | Training accuracy: 88.064% | Epoch Time: 127.40 secs\n",
      "Epoch: 5 | Loss: 0.3981 | Training accuracy: 89.229% | Epoch Time: 127.63 secs\n",
      "==> Finished Training ...\n",
      "calculating validation accuracy of trained model with batch_size = 32\n",
      " lr = 0.0003\n",
      "val accuracy:89.27354755547371\n",
      "iteration number 14 out of 30\n",
      "batch_size = 32\n",
      " lr = 0.001\n",
      " p = 0.3\n"
     ]
    },
    {
     "data": {
      "text/plain": "  0%|          | 0/5 [00:00<?, ?it/s]",
      "application/vnd.jupyter.widget-view+json": {
       "version_major": 2,
       "version_minor": 0,
       "model_id": "7295a39a086242b79ff4cf378f5534d3"
      }
     },
     "metadata": {},
     "output_type": "display_data"
    },
    {
     "name": "stdout",
     "output_type": "stream",
     "text": [
      "Epoch: 1 | Loss: 1.5523 | Training accuracy: 74.236% | Epoch Time: 127.77 secs\n",
      "Epoch: 2 | Loss: 0.9084 | Training accuracy: 76.598% | Epoch Time: 127.47 secs\n",
      "Epoch: 3 | Loss: 0.7069 | Training accuracy: 83.132% | Epoch Time: 127.73 secs\n",
      "Epoch: 4 | Loss: 0.6056 | Training accuracy: 86.622% | Epoch Time: 127.70 secs\n",
      "Epoch: 5 | Loss: 0.5413 | Training accuracy: 88.312% | Epoch Time: 127.55 secs\n",
      "==> Finished Training ...\n",
      "calculating validation accuracy of trained model with batch_size = 32\n",
      " lr = 0.001\n",
      "val accuracy:87.92928827916398\n",
      "iteration number 15 out of 30\n",
      "batch_size = 32\n",
      " lr = 0.001\n",
      " p = 0.3\n"
     ]
    },
    {
     "data": {
      "text/plain": "  0%|          | 0/5 [00:00<?, ?it/s]",
      "application/vnd.jupyter.widget-view+json": {
       "version_major": 2,
       "version_minor": 0,
       "model_id": "a32cff1c06154e4ba793ce5b0a9dbecf"
      }
     },
     "metadata": {},
     "output_type": "display_data"
    },
    {
     "name": "stdout",
     "output_type": "stream",
     "text": [
      "Epoch: 1 | Loss: 1.5014 | Training accuracy: 63.578% | Epoch Time: 127.57 secs\n",
      "Epoch: 2 | Loss: 0.8439 | Training accuracy: 71.689% | Epoch Time: 128.25 secs\n",
      "Epoch: 3 | Loss: 0.6625 | Training accuracy: 78.451% | Epoch Time: 127.84 secs\n",
      "Epoch: 4 | Loss: 0.5597 | Training accuracy: 81.174% | Epoch Time: 127.33 secs\n",
      "Epoch: 5 | Loss: 0.4978 | Training accuracy: 86.313% | Epoch Time: 127.54 secs\n",
      "==> Finished Training ...\n",
      "calculating validation accuracy of trained model with batch_size = 32\n",
      " lr = 0.001\n",
      "val accuracy:86.16149525826351\n",
      "iteration number 16 out of 30\n",
      "batch_size = 32\n",
      " lr = 0.0003\n",
      " p = 0.2\n"
     ]
    },
    {
     "data": {
      "text/plain": "  0%|          | 0/5 [00:00<?, ?it/s]",
      "application/vnd.jupyter.widget-view+json": {
       "version_major": 2,
       "version_minor": 0,
       "model_id": "70c94e0ec3314ac0adaaccc10e4f6a33"
      }
     },
     "metadata": {},
     "output_type": "display_data"
    },
    {
     "name": "stdout",
     "output_type": "stream",
     "text": [
      "Epoch: 1 | Loss: 1.3711 | Training accuracy: 76.907% | Epoch Time: 127.71 secs\n",
      "Epoch: 2 | Loss: 0.7263 | Training accuracy: 78.293% | Epoch Time: 127.55 secs\n",
      "Epoch: 3 | Loss: 0.5602 | Training accuracy: 83.879% | Epoch Time: 127.39 secs\n",
      "Epoch: 4 | Loss: 0.4582 | Training accuracy: 87.366% | Epoch Time: 127.31 secs\n",
      "Epoch: 5 | Loss: 0.3984 | Training accuracy: 90.889% | Epoch Time: 127.31 secs\n",
      "==> Finished Training ...\n",
      "calculating validation accuracy of trained model with batch_size = 32\n",
      " lr = 0.0003\n",
      "val accuracy:91.05054783169138\n",
      "iteration number 17 out of 30\n",
      "batch_size = 128\n",
      " lr = 0.002\n",
      " p = 0.4\n"
     ]
    },
    {
     "data": {
      "text/plain": "  0%|          | 0/5 [00:00<?, ?it/s]",
      "application/vnd.jupyter.widget-view+json": {
       "version_major": 2,
       "version_minor": 0,
       "model_id": "13a3f0cf08d34e4da2bc230c2478ea69"
      }
     },
     "metadata": {},
     "output_type": "display_data"
    },
    {
     "name": "stdout",
     "output_type": "stream",
     "text": [
      "Epoch: 1 | Loss: 1.6570 | Training accuracy: 62.264% | Epoch Time: 108.83 secs\n",
      "Epoch: 2 | Loss: 0.9882 | Training accuracy: 56.754% | Epoch Time: 108.67 secs\n",
      "Epoch: 3 | Loss: 0.7756 | Training accuracy: 75.614% | Epoch Time: 108.83 secs\n",
      "Epoch: 4 | Loss: 0.6663 | Training accuracy: 81.376% | Epoch Time: 108.69 secs\n",
      "Epoch: 5 | Loss: 0.5852 | Training accuracy: 75.854% | Epoch Time: 109.33 secs\n",
      "==> Finished Training ...\n",
      "calculating validation accuracy of trained model with batch_size = 128\n",
      " lr = 0.002\n",
      "val accuracy:75.83095479237639\n",
      "iteration number 18 out of 30\n",
      "batch_size = 64\n",
      " lr = 0.002\n",
      " p = 0.4\n"
     ]
    },
    {
     "data": {
      "text/plain": "  0%|          | 0/5 [00:00<?, ?it/s]",
      "application/vnd.jupyter.widget-view+json": {
       "version_major": 2,
       "version_minor": 0,
       "model_id": "6787461fa31e40ecb59ccb0b539aa912"
      }
     },
     "metadata": {},
     "output_type": "display_data"
    },
    {
     "name": "stdout",
     "output_type": "stream",
     "text": [
      "Epoch: 1 | Loss: 1.7414 | Training accuracy: 62.082% | Epoch Time: 117.79 secs\n",
      "Epoch: 2 | Loss: 1.1009 | Training accuracy: 62.552% | Epoch Time: 117.81 secs\n",
      "Epoch: 3 | Loss: 0.8973 | Training accuracy: 54.990% | Epoch Time: 118.06 secs\n",
      "Epoch: 4 | Loss: 0.7675 | Training accuracy: 62.483% | Epoch Time: 118.71 secs\n",
      "Epoch: 5 | Loss: 0.6855 | Training accuracy: 75.079% | Epoch Time: 117.77 secs\n",
      "==> Finished Training ...\n",
      "calculating validation accuracy of trained model with batch_size = 64\n",
      " lr = 0.002\n",
      "val accuracy:73.22530153761164\n",
      "iteration number 19 out of 30\n",
      "batch_size = 64\n",
      " lr = 0.003\n",
      " p = 0.2\n"
     ]
    },
    {
     "data": {
      "text/plain": "  0%|          | 0/5 [00:00<?, ?it/s]",
      "application/vnd.jupyter.widget-view+json": {
       "version_major": 2,
       "version_minor": 0,
       "model_id": "8d2b96d32dc044aa807676e53ff0e100"
      }
     },
     "metadata": {},
     "output_type": "display_data"
    },
    {
     "name": "stdout",
     "output_type": "stream",
     "text": [
      "Epoch: 1 | Loss: 1.5484 | Training accuracy: 68.085% | Epoch Time: 117.87 secs\n",
      "Epoch: 2 | Loss: 0.9675 | Training accuracy: 67.936% | Epoch Time: 117.46 secs\n",
      "Epoch: 3 | Loss: 0.7660 | Training accuracy: 75.634% | Epoch Time: 117.70 secs\n",
      "Epoch: 4 | Loss: 0.6430 | Training accuracy: 74.801% | Epoch Time: 117.67 secs\n",
      "Epoch: 5 | Loss: 0.5601 | Training accuracy: 69.670% | Epoch Time: 117.55 secs\n",
      "==> Finished Training ...\n",
      "calculating validation accuracy of trained model with batch_size = 64\n",
      " lr = 0.003\n",
      "val accuracy:71.76134794217843\n",
      "iteration number 20 out of 30\n",
      "batch_size = 32\n",
      " lr = 0.002\n",
      " p = 0.3\n"
     ]
    },
    {
     "data": {
      "text/plain": "  0%|          | 0/5 [00:00<?, ?it/s]",
      "application/vnd.jupyter.widget-view+json": {
       "version_major": 2,
       "version_minor": 0,
       "model_id": "ff44497e29c946419beabdcd3cf0a4ad"
      }
     },
     "metadata": {},
     "output_type": "display_data"
    },
    {
     "name": "stdout",
     "output_type": "stream",
     "text": [
      "Epoch: 1 | Loss: 1.6476 | Training accuracy: 64.513% | Epoch Time: 127.71 secs\n",
      "Epoch: 2 | Loss: 1.0087 | Training accuracy: 73.568% | Epoch Time: 127.69 secs\n",
      "Epoch: 3 | Loss: 0.8059 | Training accuracy: 76.470% | Epoch Time: 127.52 secs\n",
      "Epoch: 4 | Loss: 0.6764 | Training accuracy: 80.156% | Epoch Time: 127.27 secs\n",
      "Epoch: 5 | Loss: 0.5803 | Training accuracy: 81.974% | Epoch Time: 127.28 secs\n",
      "==> Finished Training ...\n",
      "calculating validation accuracy of trained model with batch_size = 32\n",
      " lr = 0.002\n",
      "val accuracy:82.75481079090324\n",
      "iteration number 21 out of 30\n",
      "batch_size = 128\n",
      " lr = 0.0001\n",
      " p = 0.4\n"
     ]
    },
    {
     "data": {
      "text/plain": "  0%|          | 0/5 [00:00<?, ?it/s]",
      "application/vnd.jupyter.widget-view+json": {
       "version_major": 2,
       "version_minor": 0,
       "model_id": "2e7d08ffe3f24c1f9fc952b75ba2cc6b"
      }
     },
     "metadata": {},
     "output_type": "display_data"
    },
    {
     "name": "stdout",
     "output_type": "stream",
     "text": [
      "Epoch: 1 | Loss: 2.3992 | Training accuracy: 60.799% | Epoch Time: 108.68 secs\n",
      "Epoch: 2 | Loss: 1.4846 | Training accuracy: 72.541% | Epoch Time: 108.55 secs\n",
      "Epoch: 3 | Loss: 1.1189 | Training accuracy: 77.142% | Epoch Time: 108.71 secs\n",
      "Epoch: 4 | Loss: 0.9283 | Training accuracy: 81.596% | Epoch Time: 108.55 secs\n",
      "Epoch: 5 | Loss: 0.7907 | Training accuracy: 84.436% | Epoch Time: 108.53 secs\n",
      "==> Finished Training ...\n",
      "calculating validation accuracy of trained model with batch_size = 128\n",
      " lr = 0.0001\n",
      "val accuracy:84.31083693950833\n",
      "iteration number 22 out of 30\n",
      "batch_size = 32\n",
      " lr = 0.003\n",
      " p = 0.4\n"
     ]
    },
    {
     "data": {
      "text/plain": "  0%|          | 0/5 [00:00<?, ?it/s]",
      "application/vnd.jupyter.widget-view+json": {
       "version_major": 2,
       "version_minor": 0,
       "model_id": "ba2070136c7942f1af63188ace01a9bf"
      }
     },
     "metadata": {},
     "output_type": "display_data"
    },
    {
     "name": "stdout",
     "output_type": "stream",
     "text": [
      "Epoch: 1 | Loss: 1.8845 | Training accuracy: 53.316% | Epoch Time: 128.85 secs\n",
      "Epoch: 2 | Loss: 1.2057 | Training accuracy: 66.379% | Epoch Time: 127.60 secs\n",
      "Epoch: 3 | Loss: 0.9726 | Training accuracy: 79.883% | Epoch Time: 127.36 secs\n",
      "Epoch: 4 | Loss: 0.8313 | Training accuracy: 80.287% | Epoch Time: 128.20 secs\n",
      "Epoch: 5 | Loss: 0.7291 | Training accuracy: 81.800% | Epoch Time: 127.54 secs\n",
      "==> Finished Training ...\n",
      "calculating validation accuracy of trained model with batch_size = 32\n",
      " lr = 0.003\n",
      "val accuracy:81.2264064082497\n",
      "iteration number 23 out of 30\n",
      "batch_size = 32\n",
      " lr = 0.001\n",
      " p = 0.3\n"
     ]
    },
    {
     "data": {
      "text/plain": "  0%|          | 0/5 [00:00<?, ?it/s]",
      "application/vnd.jupyter.widget-view+json": {
       "version_major": 2,
       "version_minor": 0,
       "model_id": "3e0ec4961358402daaf62f14836e89b6"
      }
     },
     "metadata": {},
     "output_type": "display_data"
    },
    {
     "name": "stdout",
     "output_type": "stream",
     "text": [
      "Epoch: 1 | Loss: 1.5156 | Training accuracy: 70.958% | Epoch Time: 127.82 secs\n",
      "Epoch: 2 | Loss: 0.8824 | Training accuracy: 72.216% | Epoch Time: 127.88 secs\n",
      "Epoch: 3 | Loss: 0.6792 | Training accuracy: 84.032% | Epoch Time: 127.58 secs\n",
      "Epoch: 4 | Loss: 0.5883 | Training accuracy: 84.385% | Epoch Time: 128.06 secs\n",
      "Epoch: 5 | Loss: 0.5159 | Training accuracy: 83.270% | Epoch Time: 128.47 secs\n",
      "==> Finished Training ...\n",
      "calculating validation accuracy of trained model with batch_size = 32\n",
      " lr = 0.001\n",
      "val accuracy:84.87247951385693\n",
      "iteration number 24 out of 30\n",
      "batch_size = 64\n",
      " lr = 0.0001\n",
      " p = 0.2\n"
     ]
    },
    {
     "data": {
      "text/plain": "  0%|          | 0/5 [00:00<?, ?it/s]",
      "application/vnd.jupyter.widget-view+json": {
       "version_major": 2,
       "version_minor": 0,
       "model_id": "ac52dab6242d4690829a2707746b4753"
      }
     },
     "metadata": {},
     "output_type": "display_data"
    },
    {
     "name": "stdout",
     "output_type": "stream",
     "text": [
      "Epoch: 1 | Loss: 1.8722 | Training accuracy: 71.441% | Epoch Time: 117.65 secs\n",
      "Epoch: 2 | Loss: 0.9717 | Training accuracy: 81.138% | Epoch Time: 117.69 secs\n",
      "Epoch: 3 | Loss: 0.7064 | Training accuracy: 84.886% | Epoch Time: 117.59 secs\n",
      "Epoch: 4 | Loss: 0.5714 | Training accuracy: 87.698% | Epoch Time: 117.46 secs\n",
      "Epoch: 5 | Loss: 0.4904 | Training accuracy: 88.082% | Epoch Time: 117.52 secs\n",
      "==> Finished Training ...\n",
      "calculating validation accuracy of trained model with batch_size = 64\n",
      " lr = 0.0001\n",
      "val accuracy:87.86483749194365\n",
      "iteration number 25 out of 30\n",
      "batch_size = 128\n",
      " lr = 0.0001\n",
      " p = 0.2\n"
     ]
    },
    {
     "data": {
      "text/plain": "  0%|          | 0/5 [00:00<?, ?it/s]",
      "application/vnd.jupyter.widget-view+json": {
       "version_major": 2,
       "version_minor": 0,
       "model_id": "c084e5f3864249c299a0bdae83264213"
      }
     },
     "metadata": {},
     "output_type": "display_data"
    },
    {
     "name": "stdout",
     "output_type": "stream",
     "text": [
      "Epoch: 1 | Loss: 2.1547 | Training accuracy: 65.996% | Epoch Time: 108.98 secs\n",
      "Epoch: 2 | Loss: 1.1647 | Training accuracy: 77.418% | Epoch Time: 108.88 secs\n",
      "Epoch: 3 | Loss: 0.8358 | Training accuracy: 82.005% | Epoch Time: 109.57 secs\n",
      "Epoch: 4 | Loss: 0.6729 | Training accuracy: 85.211% | Epoch Time: 108.76 secs\n",
      "Epoch: 5 | Loss: 0.5697 | Training accuracy: 87.512% | Epoch Time: 108.94 secs\n",
      "==> Finished Training ...\n",
      "calculating validation accuracy of trained model with batch_size = 128\n",
      " lr = 0.0001\n",
      "val accuracy:87.19270785378879\n",
      "iteration number 26 out of 30\n",
      "batch_size = 32\n",
      " lr = 0.003\n",
      " p = 0.2\n"
     ]
    },
    {
     "data": {
      "text/plain": "  0%|          | 0/5 [00:00<?, ?it/s]",
      "application/vnd.jupyter.widget-view+json": {
       "version_major": 2,
       "version_minor": 0,
       "model_id": "e798eaf9961c4b2c9ddb61100dde1bca"
      }
     },
     "metadata": {},
     "output_type": "display_data"
    },
    {
     "name": "stdout",
     "output_type": "stream",
     "text": [
      "Epoch: 1 | Loss: 1.6469 | Training accuracy: 57.074% | Epoch Time: 127.76 secs\n",
      "Epoch: 2 | Loss: 0.9570 | Training accuracy: 72.387% | Epoch Time: 127.77 secs\n",
      "Epoch: 3 | Loss: 0.7510 | Training accuracy: 63.498% | Epoch Time: 127.49 secs\n",
      "Epoch: 4 | Loss: 0.6344 | Training accuracy: 85.154% | Epoch Time: 127.78 secs\n",
      "Epoch: 5 | Loss: 0.5468 | Training accuracy: 75.557% | Epoch Time: 127.78 secs\n",
      "==> Finished Training ...\n",
      "calculating validation accuracy of trained model with batch_size = 32\n",
      " lr = 0.003\n",
      "val accuracy:77.11997053678299\n",
      "iteration number 27 out of 30\n",
      "batch_size = 32\n",
      " lr = 0.0001\n",
      " p = 0.2\n"
     ]
    },
    {
     "data": {
      "text/plain": "  0%|          | 0/5 [00:00<?, ?it/s]",
      "application/vnd.jupyter.widget-view+json": {
       "version_major": 2,
       "version_minor": 0,
       "model_id": "642d886b3aba446698142d8753886bac"
      }
     },
     "metadata": {},
     "output_type": "display_data"
    },
    {
     "name": "stdout",
     "output_type": "stream",
     "text": [
      "Epoch: 1 | Loss: 1.7245 | Training accuracy: 73.415% | Epoch Time: 127.77 secs\n",
      "Epoch: 2 | Loss: 0.8989 | Training accuracy: 82.258% | Epoch Time: 127.65 secs\n",
      "Epoch: 3 | Loss: 0.6759 | Training accuracy: 86.535% | Epoch Time: 127.71 secs\n",
      "Epoch: 4 | Loss: 0.5575 | Training accuracy: 86.645% | Epoch Time: 127.48 secs\n",
      "Epoch: 5 | Loss: 0.4807 | Training accuracy: 89.569% | Epoch Time: 128.09 secs\n",
      "==> Finished Training ...\n",
      "calculating validation accuracy of trained model with batch_size = 32\n",
      " lr = 0.0001\n",
      "val accuracy:88.99732989595802\n",
      "iteration number 28 out of 30\n",
      "batch_size = 128\n",
      " lr = 0.0003\n",
      " p = 0.2\n"
     ]
    },
    {
     "data": {
      "text/plain": "  0%|          | 0/5 [00:00<?, ?it/s]",
      "application/vnd.jupyter.widget-view+json": {
       "version_major": 2,
       "version_minor": 0,
       "model_id": "6234a14f00ea46969c2b70cd0412fbd9"
      }
     },
     "metadata": {},
     "output_type": "display_data"
    },
    {
     "name": "stdout",
     "output_type": "stream",
     "text": [
      "Epoch: 1 | Loss: 1.6302 | Training accuracy: 72.878% | Epoch Time: 108.92 secs\n",
      "Epoch: 2 | Loss: 0.8070 | Training accuracy: 83.224% | Epoch Time: 108.71 secs\n",
      "Epoch: 3 | Loss: 0.5984 | Training accuracy: 83.999% | Epoch Time: 108.68 secs\n",
      "Epoch: 4 | Loss: 0.4968 | Training accuracy: 87.371% | Epoch Time: 108.70 secs\n",
      "Epoch: 5 | Loss: 0.4130 | Training accuracy: 85.630% | Epoch Time: 109.34 secs\n",
      "==> Finished Training ...\n",
      "calculating validation accuracy of trained model with batch_size = 128\n",
      " lr = 0.0003\n",
      "val accuracy:86.30881134333855\n",
      "iteration number 29 out of 30\n",
      "batch_size = 64\n",
      " lr = 0.001\n",
      " p = 0.2\n"
     ]
    },
    {
     "data": {
      "text/plain": "  0%|          | 0/5 [00:00<?, ?it/s]",
      "application/vnd.jupyter.widget-view+json": {
       "version_major": 2,
       "version_minor": 0,
       "model_id": "edd70eb7397c44d5b7fda515b5af6bb1"
      }
     },
     "metadata": {},
     "output_type": "display_data"
    },
    {
     "name": "stdout",
     "output_type": "stream",
     "text": [
      "Epoch: 1 | Loss: 1.3927 | Training accuracy: 65.559% | Epoch Time: 117.58 secs\n",
      "Epoch: 2 | Loss: 0.7608 | Training accuracy: 72.385% | Epoch Time: 117.77 secs\n",
      "Epoch: 3 | Loss: 0.5774 | Training accuracy: 86.727% | Epoch Time: 117.78 secs\n",
      "Epoch: 4 | Loss: 0.4817 | Training accuracy: 86.297% | Epoch Time: 117.61 secs\n",
      "Epoch: 5 | Loss: 0.4116 | Training accuracy: 82.961% | Epoch Time: 117.81 secs\n",
      "==> Finished Training ...\n",
      "calculating validation accuracy of trained model with batch_size = 64\n",
      " lr = 0.001\n",
      "val accuracy:83.29803885461745\n",
      "iteration number 30 out of 30\n"
     ]
    }
   ],
   "source": [
    "# define a list of hyperparameters:\n",
    "\n",
    "learning_rate_list = [3e-4, 1e-4, 1e-3, 2e-3, 3e-3]\n",
    "batch_size_list = [32, 64, 128]\n",
    "p_dropout_list = [0.2, 0.3, 0.4, 0.5]\n",
    "epochs = 5\n",
    "results_list = []\n",
    "random_search_model_best_params = {\"lr\": None, \"p\": None, \"batch_size\": None, \"validation_accuracy\": None}\n",
    "\n",
    "iteration_counter = 0\n",
    "max_experiments = 30\n",
    "for i in range(max_experiments):\n",
    "    iteration_counter += 1\n",
    "    lr = np.random.choice(learning_rate_list, p=None)\n",
    "    batch_size = int(np.random.choice(batch_size_list, p=[0.4, 0.4, 0.2]))\n",
    "    p = np.random.choice(p_dropout_list, p=[0.4, 0.3, 0.2, 0.1])\n",
    "    print(f\"batch_size = {batch_size}\\n lr = {lr}\\n p = {p}\")\n",
    "    \n",
    "    train_loader = torch.utils.data.DataLoader(train_dataset, batch_size=batch_size, shuffle=True)\n",
    "    valid_loader = torch.utils.data.DataLoader(valid_dataset, batch_size=batch_size, shuffle=False)\n",
    "    \n",
    "    trained_model = train_model_for_test(train_loader, epochs, lr, p, [], [], \"CNN_random_search_model\")\n",
    "    validation_accuracy, _ = calculate_accuracy(trained_model, valid_loader, device)\n",
    "    print(f\"calculating validation accuracy of trained model with batch_size = {batch_size}\\n lr = {lr}\")\n",
    "    print(f\"val accuracy:{validation_accuracy}\")\n",
    "    results_list_item = [validation_accuracy, batch_size, lr, p]\n",
    "    results_list.append(results_list_item)\n",
    "    print(f\"iteration number {iteration_counter} out of {max_experiments}\")\n",
    "\n",
    "create_results_file(\"randomSearch_model\", results_list, graph=False, parameters=True)\n"
   ]
  },
  {
   "cell_type": "code",
   "outputs": [
    {
     "name": "stdout",
     "output_type": "stream",
     "text": [
      "best parameters of random search:\n",
      "batch_size:32\n",
      "learning rate:0.0003\n",
      "dropout probability:0.2\n",
      "after 5 epochs got validation accuracy:91.05054783169138\n"
     ]
    }
   ],
   "source": [
    "best_params = max_sublist = max(results_list, key=lambda x: x[0])    \n",
    "random_search_model_best_params[\"validation_accuracy\"] = best_params[0]\n",
    "random_search_model_best_params[\"batch_size\"] = best_params[1]\n",
    "random_search_model_best_params[\"lr\"] = best_params[2]\n",
    "random_search_model_best_params[\"p\"] = best_params[3]\n",
    "print(f'best parameters of random search:\\nbatch_size:{best_params[1]}\\nlearning rate:{best_params[2]}\\ndropout probability:{best_params[3]}\\nafter 5 epochs got validation accuracy:{best_params[0]}')"
   ],
   "metadata": {
    "collapsed": false,
    "ExecuteTime": {
     "end_time": "2024-03-27T12:22:21.480875Z",
     "start_time": "2024-03-27T12:22:21.477100Z"
    }
   },
   "execution_count": 76
  },
  {
   "cell_type": "markdown",
   "source": [
    "Train a model with the hyperparameters of the best validation accuracy:"
   ],
   "metadata": {
    "collapsed": false
   }
  },
  {
   "cell_type": "code",
   "outputs": [
    {
     "data": {
      "text/plain": "  0%|          | 0/50 [00:00<?, ?it/s]",
      "application/vnd.jupyter.widget-view+json": {
       "version_major": 2,
       "version_minor": 0,
       "model_id": "a5b4a88a6ee94837a5d507d9a2fd5ec7"
      }
     },
     "metadata": {},
     "output_type": "display_data"
    },
    {
     "name": "stdout",
     "output_type": "stream",
     "text": [
      "Epoch: 1 | Loss: 1.3707 | Training accuracy: 78.247% | Epoch Time: 139.41 secs\n",
      "Epoch: 2 | Loss: 0.7313 | Training accuracy: 81.514% | Epoch Time: 132.02 secs\n",
      "Epoch: 3 | Loss: 0.5447 | Training accuracy: 88.388% | Epoch Time: 131.04 secs\n",
      "Epoch: 4 | Loss: 0.4401 | Training accuracy: 88.051% | Epoch Time: 131.48 secs\n",
      "Epoch: 5 | Loss: 0.3781 | Training accuracy: 88.664% | Epoch Time: 130.90 secs\n",
      "Epoch: 6 | Loss: 0.3347 | Training accuracy: 91.341% | Epoch Time: 131.32 secs\n",
      "Epoch: 7 | Loss: 0.3045 | Training accuracy: 91.203% | Epoch Time: 131.04 secs\n",
      "Epoch: 8 | Loss: 0.2731 | Training accuracy: 93.067% | Epoch Time: 131.42 secs\n",
      "Epoch: 9 | Loss: 0.2559 | Training accuracy: 90.863% | Epoch Time: 131.53 secs\n",
      "Epoch: 10 | Loss: 0.2380 | Training accuracy: 92.658% | Epoch Time: 131.36 secs\n",
      "==> Saving model ...\n",
      "Epoch: 11 | Loss: 0.2232 | Training accuracy: 95.053% | Epoch Time: 130.80 secs\n",
      "Epoch: 12 | Loss: 0.2195 | Training accuracy: 95.240% | Epoch Time: 131.24 secs\n",
      "Epoch: 13 | Loss: 0.1994 | Training accuracy: 93.182% | Epoch Time: 131.52 secs\n",
      "Epoch: 14 | Loss: 0.1896 | Training accuracy: 95.940% | Epoch Time: 131.67 secs\n",
      "Epoch: 15 | Loss: 0.1858 | Training accuracy: 96.372% | Epoch Time: 131.46 secs\n",
      "Epoch: 16 | Loss: 0.1728 | Training accuracy: 94.488% | Epoch Time: 131.17 secs\n",
      "Epoch: 17 | Loss: 0.1678 | Training accuracy: 96.556% | Epoch Time: 131.82 secs\n",
      "Epoch: 18 | Loss: 0.1662 | Training accuracy: 96.577% | Epoch Time: 131.07 secs\n",
      "Epoch: 19 | Loss: 0.1524 | Training accuracy: 96.081% | Epoch Time: 131.03 secs\n",
      "Epoch: 20 | Loss: 0.1532 | Training accuracy: 96.858% | Epoch Time: 132.44 secs\n",
      "==> Saving model ...\n",
      "Epoch: 21 | Loss: 0.1504 | Training accuracy: 96.083% | Epoch Time: 131.27 secs\n",
      "Epoch: 22 | Loss: 0.1468 | Training accuracy: 96.886% | Epoch Time: 131.90 secs\n",
      "Epoch: 23 | Loss: 0.1335 | Training accuracy: 93.166% | Epoch Time: 131.04 secs\n",
      "Epoch: 24 | Loss: 0.1351 | Training accuracy: 94.959% | Epoch Time: 131.77 secs\n",
      "Epoch: 25 | Loss: 0.1346 | Training accuracy: 97.374% | Epoch Time: 131.12 secs\n",
      "Epoch: 26 | Loss: 0.1262 | Training accuracy: 97.247% | Epoch Time: 130.97 secs\n",
      "Epoch: 27 | Loss: 0.1302 | Training accuracy: 96.899% | Epoch Time: 133.00 secs\n",
      "Epoch: 28 | Loss: 0.1206 | Training accuracy: 97.597% | Epoch Time: 131.11 secs\n",
      "Epoch: 29 | Loss: 0.1201 | Training accuracy: 96.999% | Epoch Time: 125.24 secs\n",
      "Epoch: 30 | Loss: 0.1164 | Training accuracy: 97.704% | Epoch Time: 123.56 secs\n",
      "==> Saving model ...\n",
      "Epoch: 31 | Loss: 0.1161 | Training accuracy: 97.474% | Epoch Time: 123.89 secs\n",
      "Epoch: 32 | Loss: 0.1089 | Training accuracy: 97.328% | Epoch Time: 124.76 secs\n",
      "Epoch: 33 | Loss: 0.1085 | Training accuracy: 96.546% | Epoch Time: 124.60 secs\n",
      "Epoch: 34 | Loss: 0.1084 | Training accuracy: 98.106% | Epoch Time: 123.89 secs\n",
      "Epoch: 35 | Loss: 0.1061 | Training accuracy: 97.771% | Epoch Time: 124.69 secs\n",
      "Epoch: 36 | Loss: 0.1030 | Training accuracy: 97.469% | Epoch Time: 124.66 secs\n",
      "Epoch: 37 | Loss: 0.0967 | Training accuracy: 93.420% | Epoch Time: 124.84 secs\n",
      "Epoch: 38 | Loss: 0.1001 | Training accuracy: 98.026% | Epoch Time: 124.89 secs\n",
      "Epoch: 39 | Loss: 0.0983 | Training accuracy: 98.484% | Epoch Time: 124.67 secs\n",
      "Epoch: 40 | Loss: 0.0937 | Training accuracy: 98.504% | Epoch Time: 124.66 secs\n",
      "==> Saving model ...\n",
      "Epoch: 41 | Loss: 0.0919 | Training accuracy: 97.975% | Epoch Time: 125.00 secs\n",
      "Epoch: 42 | Loss: 0.0948 | Training accuracy: 97.423% | Epoch Time: 124.76 secs\n",
      "Epoch: 43 | Loss: 0.0926 | Training accuracy: 98.566% | Epoch Time: 125.11 secs\n",
      "Epoch: 44 | Loss: 0.0858 | Training accuracy: 98.193% | Epoch Time: 124.05 secs\n",
      "Epoch: 45 | Loss: 0.0904 | Training accuracy: 98.428% | Epoch Time: 124.12 secs\n",
      "Epoch: 46 | Loss: 0.0859 | Training accuracy: 98.563% | Epoch Time: 124.35 secs\n",
      "Epoch: 47 | Loss: 0.0878 | Training accuracy: 98.246% | Epoch Time: 124.67 secs\n",
      "Epoch: 48 | Loss: 0.0826 | Training accuracy: 98.612% | Epoch Time: 124.46 secs\n",
      "Epoch: 49 | Loss: 0.0802 | Training accuracy: 96.761% | Epoch Time: 127.69 secs\n",
      "Epoch: 50 | Loss: 0.0769 | Training accuracy: 98.591% | Epoch Time: 124.90 secs\n",
      "==> Saving model ...\n",
      "==> Finished Training ...\n",
      "calculating validation accuracy of a trained model with batch_size = 32\n",
      " lr = 0.0003\n",
      " best dropout probability = 0.2\n",
      "\n",
      "val accuracy:97.86391676641193\n"
     ]
    }
   ],
   "source": [
    "best_batch_size = random_search_model_best_params[\"batch_size\"]\n",
    "best_lr = random_search_model_best_params[\"lr\"]\n",
    "best_p = random_search_model_best_params[\"p\"]\n",
    "train_loader = torch.utils.data.DataLoader(train_dataset, batch_size=best_batch_size, shuffle=True)\n",
    "valid_loader = torch.utils.data.DataLoader(valid_dataset, batch_size=best_batch_size, shuffle=False)\n",
    "\n",
    "random_search_trained_model_loss = []\n",
    "random_search_trained_model_accuracy = []\n",
    "random_search_best_params_model = train_model_for_test(train_loader, 50, best_lr, best_p, random_search_trained_model_loss, random_search_trained_model_accuracy, \"random_search_model\")\n",
    "validation_accuracy, _ = calculate_accuracy(random_search_best_params_model, valid_loader, device)\n",
    "print(f\"calculating validation accuracy of a trained model with batch_size = {best_batch_size}\\n lr = {best_lr}\\n best dropout probability = {best_p}\\n\")\n",
    "print(f\"val accuracy:{validation_accuracy}\")"
   ],
   "metadata": {
    "collapsed": false,
    "ExecuteTime": {
     "end_time": "2024-03-27T14:50:38.305932Z",
     "start_time": "2024-03-27T13:03:10.400402Z"
    }
   },
   "execution_count": 100
  },
  {
   "cell_type": "markdown",
   "source": [
    "Let's test this model:"
   ],
   "metadata": {
    "collapsed": false
   }
  },
  {
   "cell_type": "code",
   "outputs": [],
   "source": [
    "random_search_model_results_files_paths = []\n",
    "random_search_model_results_files_paths, _ = create_results_file(\"randomSearch_model\", random_search_trained_model_loss, random_search_trained_model_accuracy, graph=True, parameters=False)"
   ],
   "metadata": {
    "collapsed": false,
    "ExecuteTime": {
     "end_time": "2024-03-27T17:57:10.822939Z",
     "start_time": "2024-03-27T17:57:10.818792Z"
    }
   },
   "execution_count": 105
  },
  {
   "cell_type": "code",
   "outputs": [],
   "source": [
    "\n",
    "test_loader = torch.utils.data.DataLoader(test_dataset, batch_size=best_batch_size, shuffle=False)\n",
    "test_accuracy, _ = calculate_accuracy(random_search_best_params_model, test_loader, device)\n",
    "print(f\"calculating test accuracy of a trained model with batch_size = {best_batch_size}\\n lr = {best_lr}\\n best dropout probability = {best_p}\\n\")\n",
    "print(f\"test accuracy:{test_accuracy}\")"
   ],
   "metadata": {
    "collapsed": false
   }
  },
  {
   "cell_type": "markdown",
   "source": [
    "### <img src=\"icons/resized/tuner.png\" style=\"height:50px;display:inline\"> Optuna\n",
    "Moving to a different approach - using Optuna for hyperparameters tuning: "
   ],
   "metadata": {
    "collapsed": false
   }
  },
  {
   "cell_type": "code",
   "outputs": [
    {
     "name": "stderr",
     "output_type": "stream",
     "text": [
      "[I 2024-03-27 04:00:06,029] A new study created in memory with name: Shrleaf model\n",
      "[I 2024-03-27 04:05:32,886] Trial 0 finished with value: 75.1864469201731 and parameters: {'p': 0.13576208629551795, 'lr': 0.0009840466474639173, 'optimizer': 'RMSprop', 'batch_size': 35}. Best is trial 0 with value: 75.1864469201731.\n",
      "[I 2024-03-27 04:10:28,998] Trial 1 finished with value: 89.190682257619 and parameters: {'p': 0.16180267956598643, 'lr': 0.00010618663488354277, 'optimizer': 'Adam', 'batch_size': 72}. Best is trial 1 with value: 89.190682257619.\n",
      "[I 2024-03-27 04:15:26,218] Trial 2 finished with value: 80.20440106804162 and parameters: {'p': 0.33139708784761207, 'lr': 3.291804668464681e-05, 'optimizer': 'RMSprop', 'batch_size': 60}. Best is trial 1 with value: 89.190682257619.\n",
      "[I 2024-03-27 04:20:12,119] Trial 3 finished with value: 63.769450326857566 and parameters: {'p': 0.13948345843497, 'lr': 0.0008305577880496696, 'optimizer': 'SGD', 'batch_size': 59}. Best is trial 1 with value: 89.190682257619.\n",
      "[I 2024-03-27 04:25:45,885] Trial 4 finished with value: 86.01417917318848 and parameters: {'p': 0.46533989472511245, 'lr': 0.00013753092749640573, 'optimizer': 'RMSprop', 'batch_size': 35}. Best is trial 1 with value: 89.190682257619.\n",
      "[I 2024-03-27 04:27:53,190] Trial 5 pruned. \n",
      "[I 2024-03-27 04:31:12,786] Trial 6 pruned. \n",
      "[I 2024-03-27 04:32:11,320] Trial 7 pruned. \n",
      "[I 2024-03-27 04:37:03,555] Trial 8 finished with value: 87.92008102384679 and parameters: {'p': 0.20078965732212664, 'lr': 9.708829162565844e-05, 'optimizer': 'Adam', 'batch_size': 95}. Best is trial 1 with value: 89.190682257619.\n",
      "[I 2024-03-27 04:38:01,743] Trial 9 pruned. \n",
      "[I 2024-03-27 04:42:43,218] Trial 10 finished with value: 84.8908940244913 and parameters: {'p': 0.10822714445962109, 'lr': 0.00023020333698241797, 'optimizer': 'Adam', 'batch_size': 125}. Best is trial 1 with value: 89.190682257619.\n",
      "[I 2024-03-27 04:43:44,368] Trial 11 pruned. \n",
      "[I 2024-03-27 04:44:44,427] Trial 12 pruned. \n",
      "[I 2024-03-27 04:49:30,429] Trial 13 finished with value: 89.69708130006445 and parameters: {'p': 0.28683206764890423, 'lr': 0.00034966110179612223, 'optimizer': 'Adam', 'batch_size': 111}. Best is trial 13 with value: 89.69708130006445.\n",
      "[I 2024-03-27 04:52:25,027] Trial 14 pruned. \n",
      "[I 2024-03-27 04:55:27,136] Trial 15 pruned. \n",
      "[I 2024-03-27 04:56:26,457] Trial 16 pruned. \n",
      "[I 2024-03-27 04:57:28,905] Trial 17 pruned. \n",
      "[I 2024-03-27 04:58:32,862] Trial 18 pruned. \n",
      "[I 2024-03-27 04:59:30,174] Trial 19 pruned. \n",
      "[I 2024-03-27 05:04:31,712] Trial 20 finished with value: 88.44489457692661 and parameters: {'p': 0.251583168320991, 'lr': 0.00045566933203405175, 'optimizer': 'Adam', 'batch_size': 72}. Best is trial 13 with value: 89.69708130006445.\n",
      "[I 2024-03-27 05:06:32,932] Trial 21 pruned. \n",
      "[I 2024-03-27 05:11:33,901] Trial 22 finished with value: 91.84237178896971 and parameters: {'p': 0.23436037814342595, 'lr': 0.00039047299241270366, 'optimizer': 'Adam', 'batch_size': 76}. Best is trial 22 with value: 91.84237178896971.\n",
      "[I 2024-03-27 05:16:33,823] Trial 23 finished with value: 89.87201915109107 and parameters: {'p': 0.2170149237829056, 'lr': 0.00013544290906150828, 'optimizer': 'Adam', 'batch_size': 80}. Best is trial 22 with value: 91.84237178896971.\n",
      "[I 2024-03-27 05:21:15,537] Trial 24 finished with value: 88.2791639812172 and parameters: {'p': 0.22021422921570513, 'lr': 0.0002266641191363001, 'optimizer': 'Adam', 'batch_size': 126}. Best is trial 22 with value: 91.84237178896971.\n",
      "[I 2024-03-27 05:22:14,769] Trial 25 pruned. \n",
      "[I 2024-03-27 05:23:14,342] Trial 26 pruned. \n",
      "[I 2024-03-27 05:24:17,784] Trial 27 pruned. \n",
      "[I 2024-03-27 05:25:14,329] Trial 28 pruned. \n",
      "[I 2024-03-27 05:26:12,213] Trial 29 pruned. \n",
      "[I 2024-03-27 05:27:15,262] Trial 30 pruned. \n",
      "[I 2024-03-27 05:32:26,081] Trial 31 finished with value: 88.66586870453918 and parameters: {'p': 0.16481037262750564, 'lr': 0.00015805001643201216, 'optimizer': 'Adam', 'batch_size': 65}. Best is trial 22 with value: 91.84237178896971.\n",
      "[I 2024-03-27 05:35:27,868] Trial 32 pruned. \n",
      "[I 2024-03-27 05:36:32,147] Trial 33 pruned. \n",
      "[I 2024-03-27 05:37:32,381] Trial 34 pruned. \n",
      "[I 2024-03-27 05:38:30,220] Trial 35 pruned. \n",
      "[I 2024-03-27 05:39:30,772] Trial 36 pruned. \n",
      "[I 2024-03-27 05:40:42,164] Trial 37 pruned. \n",
      "[I 2024-03-27 05:41:41,721] Trial 38 pruned. \n",
      "[I 2024-03-27 05:42:47,329] Trial 39 pruned. \n",
      "[I 2024-03-27 05:45:50,763] Trial 40 pruned. \n",
      "[I 2024-03-27 05:51:02,887] Trial 41 pruned. \n",
      "[I 2024-03-27 05:52:06,602] Trial 42 pruned. \n",
      "[I 2024-03-27 05:53:08,338] Trial 43 pruned. \n",
      "[I 2024-03-27 05:54:12,826] Trial 44 pruned. \n",
      "[I 2024-03-27 06:00:19,937] Trial 45 finished with value: 90.80195193812725 and parameters: {'p': 0.14916065432464715, 'lr': 0.0001757720017743072, 'optimizer': 'Adam', 'batch_size': 32}. Best is trial 22 with value: 91.84237178896971.\n",
      "[I 2024-03-27 06:01:20,250] Trial 46 pruned. \n",
      "[I 2024-03-27 06:02:25,586] Trial 47 pruned. \n",
      "[I 2024-03-27 06:03:25,533] Trial 48 pruned. \n",
      "[I 2024-03-27 06:04:33,569] Trial 49 pruned. \n",
      "[I 2024-03-27 06:05:36,483] Trial 50 pruned. \n",
      "[I 2024-03-27 06:07:40,414] Trial 51 pruned. \n",
      "[I 2024-03-27 06:11:55,627] Trial 52 pruned. \n",
      "[I 2024-03-27 06:15:26,973] Trial 53 pruned. \n",
      "[I 2024-03-27 06:20:23,989] Trial 54 pruned. \n",
      "[I 2024-03-27 06:25:15,983] Trial 55 pruned. \n",
      "[I 2024-03-27 06:26:18,826] Trial 56 pruned. \n",
      "[I 2024-03-27 06:27:12,778] Trial 57 pruned. \n",
      "[I 2024-03-27 06:28:15,184] Trial 58 pruned. \n",
      "[I 2024-03-27 06:33:42,513] Trial 59 finished with value: 91.41883804437897 and parameters: {'p': 0.13449906198830955, 'lr': 0.00016784096854379204, 'optimizer': 'Adam', 'batch_size': 53}. Best is trial 22 with value: 91.84237178896971.\n"
     ]
    },
    {
     "name": "stdout",
     "output_type": "stream",
     "text": [
      "Study statistics: \n",
      "  Number of finished trials:  60\n",
      "  Number of pruned trials:  45\n",
      "  Number of complete trials:  15\n",
      "Best trial:\n",
      "  Value:  91.84237178896971\n",
      "  Params: \n",
      "    p: 0.23436037814342595\n",
      "    lr: 0.00039047299241270366\n",
      "    optimizer: Adam\n",
      "    batch_size: 76\n"
     ]
    }
   ],
   "source": [
    "# now we can run the experiment\n",
    "sampler = optuna.samplers.TPESampler()\n",
    "study = optuna.create_study(study_name=\"Shrleaf model\", direction=\"maximize\", sampler=sampler)\n",
    "study.optimize(objective, n_trials=60)\n",
    "\n",
    "pruned_trials = [t for t in study.trials if t.state == optuna.trial.TrialState.PRUNED]\n",
    "complete_trials = [t for t in study.trials if t.state == optuna.trial.TrialState.COMPLETE]\n",
    "\n",
    "print(\"Study statistics: \")\n",
    "print(\"  Number of finished trials: \", len(study.trials))\n",
    "print(\"  Number of pruned trials: \", len(pruned_trials))\n",
    "print(\"  Number of complete trials: \", len(complete_trials))\n",
    "\n",
    "print(\"Best trial:\")\n",
    "trial = study.best_trial\n",
    "\n",
    "print(\"  Value: \", trial.value)\n",
    "\n",
    "print(\"  Params: \")\n",
    "for key, value in trial.params.items():\n",
    "    print(\"    {}: {}\".format(key, value))"
   ],
   "metadata": {
    "collapsed": false,
    "ExecuteTime": {
     "end_time": "2024-03-27T04:33:42.523310Z",
     "start_time": "2024-03-27T02:00:06.026719Z"
    }
   },
   "execution_count": 8
  },
  {
   "cell_type": "markdown",
   "source": [
    "After we've finished with Optuna search, we can analyze some of the results:\n",
    "1. We can see what are the most contributing hyperparameters for our model improvement.\n",
    "2. We can visualize the distribution map of our objective (model accuracy) over different types of hyperparameters.  "
   ],
   "metadata": {
    "collapsed": false
   }
  },
  {
   "cell_type": "code",
   "outputs": [
    {
     "data": {
      "application/vnd.plotly.v1+json": {
       "data": [
        {
         "cliponaxis": false,
         "hovertemplate": [
          "batch_size (IntDistribution): 0.08823504361612121<extra></extra>",
          "p (FloatDistribution): 0.09754756770741305<extra></extra>",
          "lr (FloatDistribution): 0.35473109943919134<extra></extra>",
          "optimizer (CategoricalDistribution): 0.4594862892372744<extra></extra>"
         ],
         "name": "Objective Value",
         "orientation": "h",
         "text": [
          "0.09",
          "0.10",
          "0.35",
          "0.46"
         ],
         "textposition": "outside",
         "x": [
          0.08823504361612121,
          0.09754756770741305,
          0.35473109943919134,
          0.4594862892372744
         ],
         "y": [
          "batch_size",
          "p",
          "lr",
          "optimizer"
         ],
         "type": "bar"
        }
       ],
       "layout": {
        "title": {
         "text": "Hyperparameter Importances"
        },
        "xaxis": {
         "title": {
          "text": "Hyperparameter Importance"
         }
        },
        "yaxis": {
         "title": {
          "text": "Hyperparameter"
         }
        },
        "template": {
         "data": {
          "histogram2dcontour": [
           {
            "type": "histogram2dcontour",
            "colorbar": {
             "outlinewidth": 0,
             "ticks": ""
            },
            "colorscale": [
             [
              0.0,
              "#0d0887"
             ],
             [
              0.1111111111111111,
              "#46039f"
             ],
             [
              0.2222222222222222,
              "#7201a8"
             ],
             [
              0.3333333333333333,
              "#9c179e"
             ],
             [
              0.4444444444444444,
              "#bd3786"
             ],
             [
              0.5555555555555556,
              "#d8576b"
             ],
             [
              0.6666666666666666,
              "#ed7953"
             ],
             [
              0.7777777777777778,
              "#fb9f3a"
             ],
             [
              0.8888888888888888,
              "#fdca26"
             ],
             [
              1.0,
              "#f0f921"
             ]
            ]
           }
          ],
          "choropleth": [
           {
            "type": "choropleth",
            "colorbar": {
             "outlinewidth": 0,
             "ticks": ""
            }
           }
          ],
          "histogram2d": [
           {
            "type": "histogram2d",
            "colorbar": {
             "outlinewidth": 0,
             "ticks": ""
            },
            "colorscale": [
             [
              0.0,
              "#0d0887"
             ],
             [
              0.1111111111111111,
              "#46039f"
             ],
             [
              0.2222222222222222,
              "#7201a8"
             ],
             [
              0.3333333333333333,
              "#9c179e"
             ],
             [
              0.4444444444444444,
              "#bd3786"
             ],
             [
              0.5555555555555556,
              "#d8576b"
             ],
             [
              0.6666666666666666,
              "#ed7953"
             ],
             [
              0.7777777777777778,
              "#fb9f3a"
             ],
             [
              0.8888888888888888,
              "#fdca26"
             ],
             [
              1.0,
              "#f0f921"
             ]
            ]
           }
          ],
          "heatmap": [
           {
            "type": "heatmap",
            "colorbar": {
             "outlinewidth": 0,
             "ticks": ""
            },
            "colorscale": [
             [
              0.0,
              "#0d0887"
             ],
             [
              0.1111111111111111,
              "#46039f"
             ],
             [
              0.2222222222222222,
              "#7201a8"
             ],
             [
              0.3333333333333333,
              "#9c179e"
             ],
             [
              0.4444444444444444,
              "#bd3786"
             ],
             [
              0.5555555555555556,
              "#d8576b"
             ],
             [
              0.6666666666666666,
              "#ed7953"
             ],
             [
              0.7777777777777778,
              "#fb9f3a"
             ],
             [
              0.8888888888888888,
              "#fdca26"
             ],
             [
              1.0,
              "#f0f921"
             ]
            ]
           }
          ],
          "heatmapgl": [
           {
            "type": "heatmapgl",
            "colorbar": {
             "outlinewidth": 0,
             "ticks": ""
            },
            "colorscale": [
             [
              0.0,
              "#0d0887"
             ],
             [
              0.1111111111111111,
              "#46039f"
             ],
             [
              0.2222222222222222,
              "#7201a8"
             ],
             [
              0.3333333333333333,
              "#9c179e"
             ],
             [
              0.4444444444444444,
              "#bd3786"
             ],
             [
              0.5555555555555556,
              "#d8576b"
             ],
             [
              0.6666666666666666,
              "#ed7953"
             ],
             [
              0.7777777777777778,
              "#fb9f3a"
             ],
             [
              0.8888888888888888,
              "#fdca26"
             ],
             [
              1.0,
              "#f0f921"
             ]
            ]
           }
          ],
          "contourcarpet": [
           {
            "type": "contourcarpet",
            "colorbar": {
             "outlinewidth": 0,
             "ticks": ""
            }
           }
          ],
          "contour": [
           {
            "type": "contour",
            "colorbar": {
             "outlinewidth": 0,
             "ticks": ""
            },
            "colorscale": [
             [
              0.0,
              "#0d0887"
             ],
             [
              0.1111111111111111,
              "#46039f"
             ],
             [
              0.2222222222222222,
              "#7201a8"
             ],
             [
              0.3333333333333333,
              "#9c179e"
             ],
             [
              0.4444444444444444,
              "#bd3786"
             ],
             [
              0.5555555555555556,
              "#d8576b"
             ],
             [
              0.6666666666666666,
              "#ed7953"
             ],
             [
              0.7777777777777778,
              "#fb9f3a"
             ],
             [
              0.8888888888888888,
              "#fdca26"
             ],
             [
              1.0,
              "#f0f921"
             ]
            ]
           }
          ],
          "surface": [
           {
            "type": "surface",
            "colorbar": {
             "outlinewidth": 0,
             "ticks": ""
            },
            "colorscale": [
             [
              0.0,
              "#0d0887"
             ],
             [
              0.1111111111111111,
              "#46039f"
             ],
             [
              0.2222222222222222,
              "#7201a8"
             ],
             [
              0.3333333333333333,
              "#9c179e"
             ],
             [
              0.4444444444444444,
              "#bd3786"
             ],
             [
              0.5555555555555556,
              "#d8576b"
             ],
             [
              0.6666666666666666,
              "#ed7953"
             ],
             [
              0.7777777777777778,
              "#fb9f3a"
             ],
             [
              0.8888888888888888,
              "#fdca26"
             ],
             [
              1.0,
              "#f0f921"
             ]
            ]
           }
          ],
          "mesh3d": [
           {
            "type": "mesh3d",
            "colorbar": {
             "outlinewidth": 0,
             "ticks": ""
            }
           }
          ],
          "scatter": [
           {
            "fillpattern": {
             "fillmode": "overlay",
             "size": 10,
             "solidity": 0.2
            },
            "type": "scatter"
           }
          ],
          "parcoords": [
           {
            "type": "parcoords",
            "line": {
             "colorbar": {
              "outlinewidth": 0,
              "ticks": ""
             }
            }
           }
          ],
          "scatterpolargl": [
           {
            "type": "scatterpolargl",
            "marker": {
             "colorbar": {
              "outlinewidth": 0,
              "ticks": ""
             }
            }
           }
          ],
          "bar": [
           {
            "error_x": {
             "color": "#2a3f5f"
            },
            "error_y": {
             "color": "#2a3f5f"
            },
            "marker": {
             "line": {
              "color": "#E5ECF6",
              "width": 0.5
             },
             "pattern": {
              "fillmode": "overlay",
              "size": 10,
              "solidity": 0.2
             }
            },
            "type": "bar"
           }
          ],
          "scattergeo": [
           {
            "type": "scattergeo",
            "marker": {
             "colorbar": {
              "outlinewidth": 0,
              "ticks": ""
             }
            }
           }
          ],
          "scatterpolar": [
           {
            "type": "scatterpolar",
            "marker": {
             "colorbar": {
              "outlinewidth": 0,
              "ticks": ""
             }
            }
           }
          ],
          "histogram": [
           {
            "marker": {
             "pattern": {
              "fillmode": "overlay",
              "size": 10,
              "solidity": 0.2
             }
            },
            "type": "histogram"
           }
          ],
          "scattergl": [
           {
            "type": "scattergl",
            "marker": {
             "colorbar": {
              "outlinewidth": 0,
              "ticks": ""
             }
            }
           }
          ],
          "scatter3d": [
           {
            "type": "scatter3d",
            "line": {
             "colorbar": {
              "outlinewidth": 0,
              "ticks": ""
             }
            },
            "marker": {
             "colorbar": {
              "outlinewidth": 0,
              "ticks": ""
             }
            }
           }
          ],
          "scattermapbox": [
           {
            "type": "scattermapbox",
            "marker": {
             "colorbar": {
              "outlinewidth": 0,
              "ticks": ""
             }
            }
           }
          ],
          "scatterternary": [
           {
            "type": "scatterternary",
            "marker": {
             "colorbar": {
              "outlinewidth": 0,
              "ticks": ""
             }
            }
           }
          ],
          "scattercarpet": [
           {
            "type": "scattercarpet",
            "marker": {
             "colorbar": {
              "outlinewidth": 0,
              "ticks": ""
             }
            }
           }
          ],
          "carpet": [
           {
            "aaxis": {
             "endlinecolor": "#2a3f5f",
             "gridcolor": "white",
             "linecolor": "white",
             "minorgridcolor": "white",
             "startlinecolor": "#2a3f5f"
            },
            "baxis": {
             "endlinecolor": "#2a3f5f",
             "gridcolor": "white",
             "linecolor": "white",
             "minorgridcolor": "white",
             "startlinecolor": "#2a3f5f"
            },
            "type": "carpet"
           }
          ],
          "table": [
           {
            "cells": {
             "fill": {
              "color": "#EBF0F8"
             },
             "line": {
              "color": "white"
             }
            },
            "header": {
             "fill": {
              "color": "#C8D4E3"
             },
             "line": {
              "color": "white"
             }
            },
            "type": "table"
           }
          ],
          "barpolar": [
           {
            "marker": {
             "line": {
              "color": "#E5ECF6",
              "width": 0.5
             },
             "pattern": {
              "fillmode": "overlay",
              "size": 10,
              "solidity": 0.2
             }
            },
            "type": "barpolar"
           }
          ],
          "pie": [
           {
            "automargin": true,
            "type": "pie"
           }
          ]
         },
         "layout": {
          "autotypenumbers": "strict",
          "colorway": [
           "#636efa",
           "#EF553B",
           "#00cc96",
           "#ab63fa",
           "#FFA15A",
           "#19d3f3",
           "#FF6692",
           "#B6E880",
           "#FF97FF",
           "#FECB52"
          ],
          "font": {
           "color": "#2a3f5f"
          },
          "hovermode": "closest",
          "hoverlabel": {
           "align": "left"
          },
          "paper_bgcolor": "white",
          "plot_bgcolor": "#E5ECF6",
          "polar": {
           "bgcolor": "#E5ECF6",
           "angularaxis": {
            "gridcolor": "white",
            "linecolor": "white",
            "ticks": ""
           },
           "radialaxis": {
            "gridcolor": "white",
            "linecolor": "white",
            "ticks": ""
           }
          },
          "ternary": {
           "bgcolor": "#E5ECF6",
           "aaxis": {
            "gridcolor": "white",
            "linecolor": "white",
            "ticks": ""
           },
           "baxis": {
            "gridcolor": "white",
            "linecolor": "white",
            "ticks": ""
           },
           "caxis": {
            "gridcolor": "white",
            "linecolor": "white",
            "ticks": ""
           }
          },
          "coloraxis": {
           "colorbar": {
            "outlinewidth": 0,
            "ticks": ""
           }
          },
          "colorscale": {
           "sequential": [
            [
             0.0,
             "#0d0887"
            ],
            [
             0.1111111111111111,
             "#46039f"
            ],
            [
             0.2222222222222222,
             "#7201a8"
            ],
            [
             0.3333333333333333,
             "#9c179e"
            ],
            [
             0.4444444444444444,
             "#bd3786"
            ],
            [
             0.5555555555555556,
             "#d8576b"
            ],
            [
             0.6666666666666666,
             "#ed7953"
            ],
            [
             0.7777777777777778,
             "#fb9f3a"
            ],
            [
             0.8888888888888888,
             "#fdca26"
            ],
            [
             1.0,
             "#f0f921"
            ]
           ],
           "sequentialminus": [
            [
             0.0,
             "#0d0887"
            ],
            [
             0.1111111111111111,
             "#46039f"
            ],
            [
             0.2222222222222222,
             "#7201a8"
            ],
            [
             0.3333333333333333,
             "#9c179e"
            ],
            [
             0.4444444444444444,
             "#bd3786"
            ],
            [
             0.5555555555555556,
             "#d8576b"
            ],
            [
             0.6666666666666666,
             "#ed7953"
            ],
            [
             0.7777777777777778,
             "#fb9f3a"
            ],
            [
             0.8888888888888888,
             "#fdca26"
            ],
            [
             1.0,
             "#f0f921"
            ]
           ],
           "diverging": [
            [
             0,
             "#8e0152"
            ],
            [
             0.1,
             "#c51b7d"
            ],
            [
             0.2,
             "#de77ae"
            ],
            [
             0.3,
             "#f1b6da"
            ],
            [
             0.4,
             "#fde0ef"
            ],
            [
             0.5,
             "#f7f7f7"
            ],
            [
             0.6,
             "#e6f5d0"
            ],
            [
             0.7,
             "#b8e186"
            ],
            [
             0.8,
             "#7fbc41"
            ],
            [
             0.9,
             "#4d9221"
            ],
            [
             1,
             "#276419"
            ]
           ]
          },
          "xaxis": {
           "gridcolor": "white",
           "linecolor": "white",
           "ticks": "",
           "title": {
            "standoff": 15
           },
           "zerolinecolor": "white",
           "automargin": true,
           "zerolinewidth": 2
          },
          "yaxis": {
           "gridcolor": "white",
           "linecolor": "white",
           "ticks": "",
           "title": {
            "standoff": 15
           },
           "zerolinecolor": "white",
           "automargin": true,
           "zerolinewidth": 2
          },
          "scene": {
           "xaxis": {
            "backgroundcolor": "#E5ECF6",
            "gridcolor": "white",
            "linecolor": "white",
            "showbackground": true,
            "ticks": "",
            "zerolinecolor": "white",
            "gridwidth": 2
           },
           "yaxis": {
            "backgroundcolor": "#E5ECF6",
            "gridcolor": "white",
            "linecolor": "white",
            "showbackground": true,
            "ticks": "",
            "zerolinecolor": "white",
            "gridwidth": 2
           },
           "zaxis": {
            "backgroundcolor": "#E5ECF6",
            "gridcolor": "white",
            "linecolor": "white",
            "showbackground": true,
            "ticks": "",
            "zerolinecolor": "white",
            "gridwidth": 2
           }
          },
          "shapedefaults": {
           "line": {
            "color": "#2a3f5f"
           }
          },
          "annotationdefaults": {
           "arrowcolor": "#2a3f5f",
           "arrowhead": 0,
           "arrowwidth": 1
          },
          "geo": {
           "bgcolor": "white",
           "landcolor": "#E5ECF6",
           "subunitcolor": "white",
           "showland": true,
           "showlakes": true,
           "lakecolor": "white"
          },
          "title": {
           "x": 0.05
          },
          "mapbox": {
           "style": "light"
          }
         }
        }
       },
       "config": {
        "plotlyServerURL": "https://plot.ly"
       }
      },
      "text/html": "<div>                            <div id=\"0792aec0-7fcf-4e88-b43b-9f16479f2cf7\" class=\"plotly-graph-div\" style=\"height:525px; width:100%;\"></div>            <script type=\"text/javascript\">                require([\"plotly\"], function(Plotly) {                    window.PLOTLYENV=window.PLOTLYENV || {};                                    if (document.getElementById(\"0792aec0-7fcf-4e88-b43b-9f16479f2cf7\")) {                    Plotly.newPlot(                        \"0792aec0-7fcf-4e88-b43b-9f16479f2cf7\",                        [{\"cliponaxis\":false,\"hovertemplate\":[\"batch_size (IntDistribution): 0.08823504361612121<extra></extra>\",\"p (FloatDistribution): 0.09754756770741305<extra></extra>\",\"lr (FloatDistribution): 0.35473109943919134<extra></extra>\",\"optimizer (CategoricalDistribution): 0.4594862892372744<extra></extra>\"],\"name\":\"Objective Value\",\"orientation\":\"h\",\"text\":[\"0.09\",\"0.10\",\"0.35\",\"0.46\"],\"textposition\":\"outside\",\"x\":[0.08823504361612121,0.09754756770741305,0.35473109943919134,0.4594862892372744],\"y\":[\"batch_size\",\"p\",\"lr\",\"optimizer\"],\"type\":\"bar\"}],                        {\"title\":{\"text\":\"Hyperparameter Importances\"},\"xaxis\":{\"title\":{\"text\":\"Hyperparameter Importance\"}},\"yaxis\":{\"title\":{\"text\":\"Hyperparameter\"}},\"template\":{\"data\":{\"histogram2dcontour\":[{\"type\":\"histogram2dcontour\",\"colorbar\":{\"outlinewidth\":0,\"ticks\":\"\"},\"colorscale\":[[0.0,\"#0d0887\"],[0.1111111111111111,\"#46039f\"],[0.2222222222222222,\"#7201a8\"],[0.3333333333333333,\"#9c179e\"],[0.4444444444444444,\"#bd3786\"],[0.5555555555555556,\"#d8576b\"],[0.6666666666666666,\"#ed7953\"],[0.7777777777777778,\"#fb9f3a\"],[0.8888888888888888,\"#fdca26\"],[1.0,\"#f0f921\"]]}],\"choropleth\":[{\"type\":\"choropleth\",\"colorbar\":{\"outlinewidth\":0,\"ticks\":\"\"}}],\"histogram2d\":[{\"type\":\"histogram2d\",\"colorbar\":{\"outlinewidth\":0,\"ticks\":\"\"},\"colorscale\":[[0.0,\"#0d0887\"],[0.1111111111111111,\"#46039f\"],[0.2222222222222222,\"#7201a8\"],[0.3333333333333333,\"#9c179e\"],[0.4444444444444444,\"#bd3786\"],[0.5555555555555556,\"#d8576b\"],[0.6666666666666666,\"#ed7953\"],[0.7777777777777778,\"#fb9f3a\"],[0.8888888888888888,\"#fdca26\"],[1.0,\"#f0f921\"]]}],\"heatmap\":[{\"type\":\"heatmap\",\"colorbar\":{\"outlinewidth\":0,\"ticks\":\"\"},\"colorscale\":[[0.0,\"#0d0887\"],[0.1111111111111111,\"#46039f\"],[0.2222222222222222,\"#7201a8\"],[0.3333333333333333,\"#9c179e\"],[0.4444444444444444,\"#bd3786\"],[0.5555555555555556,\"#d8576b\"],[0.6666666666666666,\"#ed7953\"],[0.7777777777777778,\"#fb9f3a\"],[0.8888888888888888,\"#fdca26\"],[1.0,\"#f0f921\"]]}],\"heatmapgl\":[{\"type\":\"heatmapgl\",\"colorbar\":{\"outlinewidth\":0,\"ticks\":\"\"},\"colorscale\":[[0.0,\"#0d0887\"],[0.1111111111111111,\"#46039f\"],[0.2222222222222222,\"#7201a8\"],[0.3333333333333333,\"#9c179e\"],[0.4444444444444444,\"#bd3786\"],[0.5555555555555556,\"#d8576b\"],[0.6666666666666666,\"#ed7953\"],[0.7777777777777778,\"#fb9f3a\"],[0.8888888888888888,\"#fdca26\"],[1.0,\"#f0f921\"]]}],\"contourcarpet\":[{\"type\":\"contourcarpet\",\"colorbar\":{\"outlinewidth\":0,\"ticks\":\"\"}}],\"contour\":[{\"type\":\"contour\",\"colorbar\":{\"outlinewidth\":0,\"ticks\":\"\"},\"colorscale\":[[0.0,\"#0d0887\"],[0.1111111111111111,\"#46039f\"],[0.2222222222222222,\"#7201a8\"],[0.3333333333333333,\"#9c179e\"],[0.4444444444444444,\"#bd3786\"],[0.5555555555555556,\"#d8576b\"],[0.6666666666666666,\"#ed7953\"],[0.7777777777777778,\"#fb9f3a\"],[0.8888888888888888,\"#fdca26\"],[1.0,\"#f0f921\"]]}],\"surface\":[{\"type\":\"surface\",\"colorbar\":{\"outlinewidth\":0,\"ticks\":\"\"},\"colorscale\":[[0.0,\"#0d0887\"],[0.1111111111111111,\"#46039f\"],[0.2222222222222222,\"#7201a8\"],[0.3333333333333333,\"#9c179e\"],[0.4444444444444444,\"#bd3786\"],[0.5555555555555556,\"#d8576b\"],[0.6666666666666666,\"#ed7953\"],[0.7777777777777778,\"#fb9f3a\"],[0.8888888888888888,\"#fdca26\"],[1.0,\"#f0f921\"]]}],\"mesh3d\":[{\"type\":\"mesh3d\",\"colorbar\":{\"outlinewidth\":0,\"ticks\":\"\"}}],\"scatter\":[{\"fillpattern\":{\"fillmode\":\"overlay\",\"size\":10,\"solidity\":0.2},\"type\":\"scatter\"}],\"parcoords\":[{\"type\":\"parcoords\",\"line\":{\"colorbar\":{\"outlinewidth\":0,\"ticks\":\"\"}}}],\"scatterpolargl\":[{\"type\":\"scatterpolargl\",\"marker\":{\"colorbar\":{\"outlinewidth\":0,\"ticks\":\"\"}}}],\"bar\":[{\"error_x\":{\"color\":\"#2a3f5f\"},\"error_y\":{\"color\":\"#2a3f5f\"},\"marker\":{\"line\":{\"color\":\"#E5ECF6\",\"width\":0.5},\"pattern\":{\"fillmode\":\"overlay\",\"size\":10,\"solidity\":0.2}},\"type\":\"bar\"}],\"scattergeo\":[{\"type\":\"scattergeo\",\"marker\":{\"colorbar\":{\"outlinewidth\":0,\"ticks\":\"\"}}}],\"scatterpolar\":[{\"type\":\"scatterpolar\",\"marker\":{\"colorbar\":{\"outlinewidth\":0,\"ticks\":\"\"}}}],\"histogram\":[{\"marker\":{\"pattern\":{\"fillmode\":\"overlay\",\"size\":10,\"solidity\":0.2}},\"type\":\"histogram\"}],\"scattergl\":[{\"type\":\"scattergl\",\"marker\":{\"colorbar\":{\"outlinewidth\":0,\"ticks\":\"\"}}}],\"scatter3d\":[{\"type\":\"scatter3d\",\"line\":{\"colorbar\":{\"outlinewidth\":0,\"ticks\":\"\"}},\"marker\":{\"colorbar\":{\"outlinewidth\":0,\"ticks\":\"\"}}}],\"scattermapbox\":[{\"type\":\"scattermapbox\",\"marker\":{\"colorbar\":{\"outlinewidth\":0,\"ticks\":\"\"}}}],\"scatterternary\":[{\"type\":\"scatterternary\",\"marker\":{\"colorbar\":{\"outlinewidth\":0,\"ticks\":\"\"}}}],\"scattercarpet\":[{\"type\":\"scattercarpet\",\"marker\":{\"colorbar\":{\"outlinewidth\":0,\"ticks\":\"\"}}}],\"carpet\":[{\"aaxis\":{\"endlinecolor\":\"#2a3f5f\",\"gridcolor\":\"white\",\"linecolor\":\"white\",\"minorgridcolor\":\"white\",\"startlinecolor\":\"#2a3f5f\"},\"baxis\":{\"endlinecolor\":\"#2a3f5f\",\"gridcolor\":\"white\",\"linecolor\":\"white\",\"minorgridcolor\":\"white\",\"startlinecolor\":\"#2a3f5f\"},\"type\":\"carpet\"}],\"table\":[{\"cells\":{\"fill\":{\"color\":\"#EBF0F8\"},\"line\":{\"color\":\"white\"}},\"header\":{\"fill\":{\"color\":\"#C8D4E3\"},\"line\":{\"color\":\"white\"}},\"type\":\"table\"}],\"barpolar\":[{\"marker\":{\"line\":{\"color\":\"#E5ECF6\",\"width\":0.5},\"pattern\":{\"fillmode\":\"overlay\",\"size\":10,\"solidity\":0.2}},\"type\":\"barpolar\"}],\"pie\":[{\"automargin\":true,\"type\":\"pie\"}]},\"layout\":{\"autotypenumbers\":\"strict\",\"colorway\":[\"#636efa\",\"#EF553B\",\"#00cc96\",\"#ab63fa\",\"#FFA15A\",\"#19d3f3\",\"#FF6692\",\"#B6E880\",\"#FF97FF\",\"#FECB52\"],\"font\":{\"color\":\"#2a3f5f\"},\"hovermode\":\"closest\",\"hoverlabel\":{\"align\":\"left\"},\"paper_bgcolor\":\"white\",\"plot_bgcolor\":\"#E5ECF6\",\"polar\":{\"bgcolor\":\"#E5ECF6\",\"angularaxis\":{\"gridcolor\":\"white\",\"linecolor\":\"white\",\"ticks\":\"\"},\"radialaxis\":{\"gridcolor\":\"white\",\"linecolor\":\"white\",\"ticks\":\"\"}},\"ternary\":{\"bgcolor\":\"#E5ECF6\",\"aaxis\":{\"gridcolor\":\"white\",\"linecolor\":\"white\",\"ticks\":\"\"},\"baxis\":{\"gridcolor\":\"white\",\"linecolor\":\"white\",\"ticks\":\"\"},\"caxis\":{\"gridcolor\":\"white\",\"linecolor\":\"white\",\"ticks\":\"\"}},\"coloraxis\":{\"colorbar\":{\"outlinewidth\":0,\"ticks\":\"\"}},\"colorscale\":{\"sequential\":[[0.0,\"#0d0887\"],[0.1111111111111111,\"#46039f\"],[0.2222222222222222,\"#7201a8\"],[0.3333333333333333,\"#9c179e\"],[0.4444444444444444,\"#bd3786\"],[0.5555555555555556,\"#d8576b\"],[0.6666666666666666,\"#ed7953\"],[0.7777777777777778,\"#fb9f3a\"],[0.8888888888888888,\"#fdca26\"],[1.0,\"#f0f921\"]],\"sequentialminus\":[[0.0,\"#0d0887\"],[0.1111111111111111,\"#46039f\"],[0.2222222222222222,\"#7201a8\"],[0.3333333333333333,\"#9c179e\"],[0.4444444444444444,\"#bd3786\"],[0.5555555555555556,\"#d8576b\"],[0.6666666666666666,\"#ed7953\"],[0.7777777777777778,\"#fb9f3a\"],[0.8888888888888888,\"#fdca26\"],[1.0,\"#f0f921\"]],\"diverging\":[[0,\"#8e0152\"],[0.1,\"#c51b7d\"],[0.2,\"#de77ae\"],[0.3,\"#f1b6da\"],[0.4,\"#fde0ef\"],[0.5,\"#f7f7f7\"],[0.6,\"#e6f5d0\"],[0.7,\"#b8e186\"],[0.8,\"#7fbc41\"],[0.9,\"#4d9221\"],[1,\"#276419\"]]},\"xaxis\":{\"gridcolor\":\"white\",\"linecolor\":\"white\",\"ticks\":\"\",\"title\":{\"standoff\":15},\"zerolinecolor\":\"white\",\"automargin\":true,\"zerolinewidth\":2},\"yaxis\":{\"gridcolor\":\"white\",\"linecolor\":\"white\",\"ticks\":\"\",\"title\":{\"standoff\":15},\"zerolinecolor\":\"white\",\"automargin\":true,\"zerolinewidth\":2},\"scene\":{\"xaxis\":{\"backgroundcolor\":\"#E5ECF6\",\"gridcolor\":\"white\",\"linecolor\":\"white\",\"showbackground\":true,\"ticks\":\"\",\"zerolinecolor\":\"white\",\"gridwidth\":2},\"yaxis\":{\"backgroundcolor\":\"#E5ECF6\",\"gridcolor\":\"white\",\"linecolor\":\"white\",\"showbackground\":true,\"ticks\":\"\",\"zerolinecolor\":\"white\",\"gridwidth\":2},\"zaxis\":{\"backgroundcolor\":\"#E5ECF6\",\"gridcolor\":\"white\",\"linecolor\":\"white\",\"showbackground\":true,\"ticks\":\"\",\"zerolinecolor\":\"white\",\"gridwidth\":2}},\"shapedefaults\":{\"line\":{\"color\":\"#2a3f5f\"}},\"annotationdefaults\":{\"arrowcolor\":\"#2a3f5f\",\"arrowhead\":0,\"arrowwidth\":1},\"geo\":{\"bgcolor\":\"white\",\"landcolor\":\"#E5ECF6\",\"subunitcolor\":\"white\",\"showland\":true,\"showlakes\":true,\"lakecolor\":\"white\"},\"title\":{\"x\":0.05},\"mapbox\":{\"style\":\"light\"}}}},                        {\"responsive\": true}                    ).then(function(){\n                            \nvar gd = document.getElementById('0792aec0-7fcf-4e88-b43b-9f16479f2cf7');\nvar x = new MutationObserver(function (mutations, observer) {{\n        var display = window.getComputedStyle(gd).display;\n        if (!display || display === 'none') {{\n            console.log([gd, 'removed!']);\n            Plotly.purge(gd);\n            observer.disconnect();\n        }}\n}});\n\n// Listen for the removal of the full notebook cells\nvar notebookContainer = gd.closest('#notebook-container');\nif (notebookContainer) {{\n    x.observe(notebookContainer, {childList: true});\n}}\n\n// Listen for the clearing of the current output cell\nvar outputEl = gd.closest('.output');\nif (outputEl) {{\n    x.observe(outputEl, {childList: true});\n}}\n\n                        })                };                });            </script>        </div>"
     },
     "metadata": {},
     "output_type": "display_data"
    }
   ],
   "source": [
    "optuna.visualization.plot_param_importances(study)"
   ],
   "metadata": {
    "collapsed": false,
    "ExecuteTime": {
     "end_time": "2024-03-27T08:07:25.941760Z",
     "start_time": "2024-03-27T08:07:25.841683Z"
    }
   },
   "execution_count": 18
  },
  {
   "cell_type": "code",
   "outputs": [
    {
     "data": {
      "application/vnd.plotly.v1+json": {
       "data": [
        {
         "colorbar": {
          "title": {
           "text": "Objective Value"
          }
         },
         "colorscale": [
          [
           0.0,
           "rgb(247,251,255)"
          ],
          [
           0.125,
           "rgb(222,235,247)"
          ],
          [
           0.25,
           "rgb(198,219,239)"
          ],
          [
           0.375,
           "rgb(158,202,225)"
          ],
          [
           0.5,
           "rgb(107,174,214)"
          ],
          [
           0.625,
           "rgb(66,146,198)"
          ],
          [
           0.75,
           "rgb(33,113,181)"
          ],
          [
           0.875,
           "rgb(8,81,156)"
          ],
          [
           1.0,
           "rgb(8,48,107)"
          ]
         ],
         "connectgaps": true,
         "contours": {
          "coloring": "heatmap"
         },
         "hoverinfo": "none",
         "line": {
          "smoothing": 1.3
         },
         "reversescale": false,
         "x": [
          2.7775058054050368E-5,
          3.291804668464681E-5,
          9.708829162565844E-5,
          1.0618663488354277E-4,
          1.3544290906150828E-4,
          1.3753092749640573E-4,
          1.5805001643201216E-4,
          1.6784096854379204E-4,
          1.757720017743072E-4,
          2.266641191363001E-4,
          2.3020333698241797E-4,
          3.4966110179612223E-4,
          3.9047299241270366E-4,
          4.5566933203405175E-4,
          8.305577880496696E-4,
          9.840466474639173E-4,
          0.001166258353737755
         ],
         "y": [
          "Adam",
          "RMSprop",
          "SGD"
         ],
         "z": [
          [
           null,
           null,
           87.92008102384679,
           89.190682257619,
           89.87201915109107,
           null,
           88.66586870453918,
           91.41883804437897,
           90.80195193812725,
           88.2791639812172,
           84.8908940244913,
           89.69708130006445,
           91.84237178896971,
           88.44489457692661,
           null,
           null,
           null
          ],
          [
           null,
           80.20440106804162,
           null,
           null,
           null,
           86.01417917318848,
           null,
           null,
           null,
           null,
           null,
           null,
           null,
           null,
           null,
           75.1864469201731,
           null
          ],
          [
           null,
           null,
           null,
           null,
           null,
           null,
           null,
           null,
           null,
           null,
           null,
           null,
           null,
           null,
           63.769450326857566,
           null,
           null
          ]
         ],
         "type": "contour"
        },
        {
         "marker": {
          "color": "black",
          "line": {
           "color": "Gray",
           "width": 2.0
          }
         },
         "mode": "markers",
         "name": "Feasible Trial",
         "showlegend": false,
         "x": [
          9.840466474639173E-4,
          1.0618663488354277E-4,
          3.291804668464681E-5,
          8.305577880496696E-4,
          1.3753092749640573E-4,
          9.708829162565844E-5,
          2.3020333698241797E-4,
          3.4966110179612223E-4,
          4.5566933203405175E-4,
          3.9047299241270366E-4,
          1.3544290906150828E-4,
          2.266641191363001E-4,
          1.5805001643201216E-4,
          1.757720017743072E-4,
          1.6784096854379204E-4
         ],
         "y": [
          "RMSprop",
          "Adam",
          "RMSprop",
          "SGD",
          "RMSprop",
          "Adam",
          "Adam",
          "Adam",
          "Adam",
          "Adam",
          "Adam",
          "Adam",
          "Adam",
          "Adam",
          "Adam"
         ],
         "type": "scatter"
        },
        {
         "marker": {
          "color": "#cccccc",
          "line": {
           "color": "Gray",
           "width": 2.0
          }
         },
         "mode": "markers",
         "name": "Infeasible Trial",
         "showlegend": false,
         "x": [],
         "y": [],
         "type": "scatter"
        }
       ],
       "layout": {
        "title": {
         "text": "Contour Plot"
        },
        "template": {
         "data": {
          "histogram2dcontour": [
           {
            "type": "histogram2dcontour",
            "colorbar": {
             "outlinewidth": 0,
             "ticks": ""
            },
            "colorscale": [
             [
              0.0,
              "#0d0887"
             ],
             [
              0.1111111111111111,
              "#46039f"
             ],
             [
              0.2222222222222222,
              "#7201a8"
             ],
             [
              0.3333333333333333,
              "#9c179e"
             ],
             [
              0.4444444444444444,
              "#bd3786"
             ],
             [
              0.5555555555555556,
              "#d8576b"
             ],
             [
              0.6666666666666666,
              "#ed7953"
             ],
             [
              0.7777777777777778,
              "#fb9f3a"
             ],
             [
              0.8888888888888888,
              "#fdca26"
             ],
             [
              1.0,
              "#f0f921"
             ]
            ]
           }
          ],
          "choropleth": [
           {
            "type": "choropleth",
            "colorbar": {
             "outlinewidth": 0,
             "ticks": ""
            }
           }
          ],
          "histogram2d": [
           {
            "type": "histogram2d",
            "colorbar": {
             "outlinewidth": 0,
             "ticks": ""
            },
            "colorscale": [
             [
              0.0,
              "#0d0887"
             ],
             [
              0.1111111111111111,
              "#46039f"
             ],
             [
              0.2222222222222222,
              "#7201a8"
             ],
             [
              0.3333333333333333,
              "#9c179e"
             ],
             [
              0.4444444444444444,
              "#bd3786"
             ],
             [
              0.5555555555555556,
              "#d8576b"
             ],
             [
              0.6666666666666666,
              "#ed7953"
             ],
             [
              0.7777777777777778,
              "#fb9f3a"
             ],
             [
              0.8888888888888888,
              "#fdca26"
             ],
             [
              1.0,
              "#f0f921"
             ]
            ]
           }
          ],
          "heatmap": [
           {
            "type": "heatmap",
            "colorbar": {
             "outlinewidth": 0,
             "ticks": ""
            },
            "colorscale": [
             [
              0.0,
              "#0d0887"
             ],
             [
              0.1111111111111111,
              "#46039f"
             ],
             [
              0.2222222222222222,
              "#7201a8"
             ],
             [
              0.3333333333333333,
              "#9c179e"
             ],
             [
              0.4444444444444444,
              "#bd3786"
             ],
             [
              0.5555555555555556,
              "#d8576b"
             ],
             [
              0.6666666666666666,
              "#ed7953"
             ],
             [
              0.7777777777777778,
              "#fb9f3a"
             ],
             [
              0.8888888888888888,
              "#fdca26"
             ],
             [
              1.0,
              "#f0f921"
             ]
            ]
           }
          ],
          "heatmapgl": [
           {
            "type": "heatmapgl",
            "colorbar": {
             "outlinewidth": 0,
             "ticks": ""
            },
            "colorscale": [
             [
              0.0,
              "#0d0887"
             ],
             [
              0.1111111111111111,
              "#46039f"
             ],
             [
              0.2222222222222222,
              "#7201a8"
             ],
             [
              0.3333333333333333,
              "#9c179e"
             ],
             [
              0.4444444444444444,
              "#bd3786"
             ],
             [
              0.5555555555555556,
              "#d8576b"
             ],
             [
              0.6666666666666666,
              "#ed7953"
             ],
             [
              0.7777777777777778,
              "#fb9f3a"
             ],
             [
              0.8888888888888888,
              "#fdca26"
             ],
             [
              1.0,
              "#f0f921"
             ]
            ]
           }
          ],
          "contourcarpet": [
           {
            "type": "contourcarpet",
            "colorbar": {
             "outlinewidth": 0,
             "ticks": ""
            }
           }
          ],
          "contour": [
           {
            "type": "contour",
            "colorbar": {
             "outlinewidth": 0,
             "ticks": ""
            },
            "colorscale": [
             [
              0.0,
              "#0d0887"
             ],
             [
              0.1111111111111111,
              "#46039f"
             ],
             [
              0.2222222222222222,
              "#7201a8"
             ],
             [
              0.3333333333333333,
              "#9c179e"
             ],
             [
              0.4444444444444444,
              "#bd3786"
             ],
             [
              0.5555555555555556,
              "#d8576b"
             ],
             [
              0.6666666666666666,
              "#ed7953"
             ],
             [
              0.7777777777777778,
              "#fb9f3a"
             ],
             [
              0.8888888888888888,
              "#fdca26"
             ],
             [
              1.0,
              "#f0f921"
             ]
            ]
           }
          ],
          "surface": [
           {
            "type": "surface",
            "colorbar": {
             "outlinewidth": 0,
             "ticks": ""
            },
            "colorscale": [
             [
              0.0,
              "#0d0887"
             ],
             [
              0.1111111111111111,
              "#46039f"
             ],
             [
              0.2222222222222222,
              "#7201a8"
             ],
             [
              0.3333333333333333,
              "#9c179e"
             ],
             [
              0.4444444444444444,
              "#bd3786"
             ],
             [
              0.5555555555555556,
              "#d8576b"
             ],
             [
              0.6666666666666666,
              "#ed7953"
             ],
             [
              0.7777777777777778,
              "#fb9f3a"
             ],
             [
              0.8888888888888888,
              "#fdca26"
             ],
             [
              1.0,
              "#f0f921"
             ]
            ]
           }
          ],
          "mesh3d": [
           {
            "type": "mesh3d",
            "colorbar": {
             "outlinewidth": 0,
             "ticks": ""
            }
           }
          ],
          "scatter": [
           {
            "fillpattern": {
             "fillmode": "overlay",
             "size": 10,
             "solidity": 0.2
            },
            "type": "scatter"
           }
          ],
          "parcoords": [
           {
            "type": "parcoords",
            "line": {
             "colorbar": {
              "outlinewidth": 0,
              "ticks": ""
             }
            }
           }
          ],
          "scatterpolargl": [
           {
            "type": "scatterpolargl",
            "marker": {
             "colorbar": {
              "outlinewidth": 0,
              "ticks": ""
             }
            }
           }
          ],
          "bar": [
           {
            "error_x": {
             "color": "#2a3f5f"
            },
            "error_y": {
             "color": "#2a3f5f"
            },
            "marker": {
             "line": {
              "color": "#E5ECF6",
              "width": 0.5
             },
             "pattern": {
              "fillmode": "overlay",
              "size": 10,
              "solidity": 0.2
             }
            },
            "type": "bar"
           }
          ],
          "scattergeo": [
           {
            "type": "scattergeo",
            "marker": {
             "colorbar": {
              "outlinewidth": 0,
              "ticks": ""
             }
            }
           }
          ],
          "scatterpolar": [
           {
            "type": "scatterpolar",
            "marker": {
             "colorbar": {
              "outlinewidth": 0,
              "ticks": ""
             }
            }
           }
          ],
          "histogram": [
           {
            "marker": {
             "pattern": {
              "fillmode": "overlay",
              "size": 10,
              "solidity": 0.2
             }
            },
            "type": "histogram"
           }
          ],
          "scattergl": [
           {
            "type": "scattergl",
            "marker": {
             "colorbar": {
              "outlinewidth": 0,
              "ticks": ""
             }
            }
           }
          ],
          "scatter3d": [
           {
            "type": "scatter3d",
            "line": {
             "colorbar": {
              "outlinewidth": 0,
              "ticks": ""
             }
            },
            "marker": {
             "colorbar": {
              "outlinewidth": 0,
              "ticks": ""
             }
            }
           }
          ],
          "scattermapbox": [
           {
            "type": "scattermapbox",
            "marker": {
             "colorbar": {
              "outlinewidth": 0,
              "ticks": ""
             }
            }
           }
          ],
          "scatterternary": [
           {
            "type": "scatterternary",
            "marker": {
             "colorbar": {
              "outlinewidth": 0,
              "ticks": ""
             }
            }
           }
          ],
          "scattercarpet": [
           {
            "type": "scattercarpet",
            "marker": {
             "colorbar": {
              "outlinewidth": 0,
              "ticks": ""
             }
            }
           }
          ],
          "carpet": [
           {
            "aaxis": {
             "endlinecolor": "#2a3f5f",
             "gridcolor": "white",
             "linecolor": "white",
             "minorgridcolor": "white",
             "startlinecolor": "#2a3f5f"
            },
            "baxis": {
             "endlinecolor": "#2a3f5f",
             "gridcolor": "white",
             "linecolor": "white",
             "minorgridcolor": "white",
             "startlinecolor": "#2a3f5f"
            },
            "type": "carpet"
           }
          ],
          "table": [
           {
            "cells": {
             "fill": {
              "color": "#EBF0F8"
             },
             "line": {
              "color": "white"
             }
            },
            "header": {
             "fill": {
              "color": "#C8D4E3"
             },
             "line": {
              "color": "white"
             }
            },
            "type": "table"
           }
          ],
          "barpolar": [
           {
            "marker": {
             "line": {
              "color": "#E5ECF6",
              "width": 0.5
             },
             "pattern": {
              "fillmode": "overlay",
              "size": 10,
              "solidity": 0.2
             }
            },
            "type": "barpolar"
           }
          ],
          "pie": [
           {
            "automargin": true,
            "type": "pie"
           }
          ]
         },
         "layout": {
          "autotypenumbers": "strict",
          "colorway": [
           "#636efa",
           "#EF553B",
           "#00cc96",
           "#ab63fa",
           "#FFA15A",
           "#19d3f3",
           "#FF6692",
           "#B6E880",
           "#FF97FF",
           "#FECB52"
          ],
          "font": {
           "color": "#2a3f5f"
          },
          "hovermode": "closest",
          "hoverlabel": {
           "align": "left"
          },
          "paper_bgcolor": "white",
          "plot_bgcolor": "#E5ECF6",
          "polar": {
           "bgcolor": "#E5ECF6",
           "angularaxis": {
            "gridcolor": "white",
            "linecolor": "white",
            "ticks": ""
           },
           "radialaxis": {
            "gridcolor": "white",
            "linecolor": "white",
            "ticks": ""
           }
          },
          "ternary": {
           "bgcolor": "#E5ECF6",
           "aaxis": {
            "gridcolor": "white",
            "linecolor": "white",
            "ticks": ""
           },
           "baxis": {
            "gridcolor": "white",
            "linecolor": "white",
            "ticks": ""
           },
           "caxis": {
            "gridcolor": "white",
            "linecolor": "white",
            "ticks": ""
           }
          },
          "coloraxis": {
           "colorbar": {
            "outlinewidth": 0,
            "ticks": ""
           }
          },
          "colorscale": {
           "sequential": [
            [
             0.0,
             "#0d0887"
            ],
            [
             0.1111111111111111,
             "#46039f"
            ],
            [
             0.2222222222222222,
             "#7201a8"
            ],
            [
             0.3333333333333333,
             "#9c179e"
            ],
            [
             0.4444444444444444,
             "#bd3786"
            ],
            [
             0.5555555555555556,
             "#d8576b"
            ],
            [
             0.6666666666666666,
             "#ed7953"
            ],
            [
             0.7777777777777778,
             "#fb9f3a"
            ],
            [
             0.8888888888888888,
             "#fdca26"
            ],
            [
             1.0,
             "#f0f921"
            ]
           ],
           "sequentialminus": [
            [
             0.0,
             "#0d0887"
            ],
            [
             0.1111111111111111,
             "#46039f"
            ],
            [
             0.2222222222222222,
             "#7201a8"
            ],
            [
             0.3333333333333333,
             "#9c179e"
            ],
            [
             0.4444444444444444,
             "#bd3786"
            ],
            [
             0.5555555555555556,
             "#d8576b"
            ],
            [
             0.6666666666666666,
             "#ed7953"
            ],
            [
             0.7777777777777778,
             "#fb9f3a"
            ],
            [
             0.8888888888888888,
             "#fdca26"
            ],
            [
             1.0,
             "#f0f921"
            ]
           ],
           "diverging": [
            [
             0,
             "#8e0152"
            ],
            [
             0.1,
             "#c51b7d"
            ],
            [
             0.2,
             "#de77ae"
            ],
            [
             0.3,
             "#f1b6da"
            ],
            [
             0.4,
             "#fde0ef"
            ],
            [
             0.5,
             "#f7f7f7"
            ],
            [
             0.6,
             "#e6f5d0"
            ],
            [
             0.7,
             "#b8e186"
            ],
            [
             0.8,
             "#7fbc41"
            ],
            [
             0.9,
             "#4d9221"
            ],
            [
             1,
             "#276419"
            ]
           ]
          },
          "xaxis": {
           "gridcolor": "white",
           "linecolor": "white",
           "ticks": "",
           "title": {
            "standoff": 15
           },
           "zerolinecolor": "white",
           "automargin": true,
           "zerolinewidth": 2
          },
          "yaxis": {
           "gridcolor": "white",
           "linecolor": "white",
           "ticks": "",
           "title": {
            "standoff": 15
           },
           "zerolinecolor": "white",
           "automargin": true,
           "zerolinewidth": 2
          },
          "scene": {
           "xaxis": {
            "backgroundcolor": "#E5ECF6",
            "gridcolor": "white",
            "linecolor": "white",
            "showbackground": true,
            "ticks": "",
            "zerolinecolor": "white",
            "gridwidth": 2
           },
           "yaxis": {
            "backgroundcolor": "#E5ECF6",
            "gridcolor": "white",
            "linecolor": "white",
            "showbackground": true,
            "ticks": "",
            "zerolinecolor": "white",
            "gridwidth": 2
           },
           "zaxis": {
            "backgroundcolor": "#E5ECF6",
            "gridcolor": "white",
            "linecolor": "white",
            "showbackground": true,
            "ticks": "",
            "zerolinecolor": "white",
            "gridwidth": 2
           }
          },
          "shapedefaults": {
           "line": {
            "color": "#2a3f5f"
           }
          },
          "annotationdefaults": {
           "arrowcolor": "#2a3f5f",
           "arrowhead": 0,
           "arrowwidth": 1
          },
          "geo": {
           "bgcolor": "white",
           "landcolor": "#E5ECF6",
           "subunitcolor": "white",
           "showland": true,
           "showlakes": true,
           "lakecolor": "white"
          },
          "title": {
           "x": 0.05
          },
          "mapbox": {
           "style": "light"
          }
         }
        },
        "xaxis": {
         "title": {
          "text": "lr"
         },
         "range": [
          -4.556345024645335,
          -2.933205232446544
         ],
         "type": "log"
        },
        "yaxis": {
         "title": {
          "text": "optimizer"
         },
         "range": [
          -0.1,
          2.1
         ],
         "type": "category"
        }
       },
       "config": {
        "plotlyServerURL": "https://plot.ly"
       }
      },
      "text/html": "<div>                            <div id=\"4cff8549-b542-4d68-9170-0830fc8ffca5\" class=\"plotly-graph-div\" style=\"height:525px; width:100%;\"></div>            <script type=\"text/javascript\">                require([\"plotly\"], function(Plotly) {                    window.PLOTLYENV=window.PLOTLYENV || {};                                    if (document.getElementById(\"4cff8549-b542-4d68-9170-0830fc8ffca5\")) {                    Plotly.newPlot(                        \"4cff8549-b542-4d68-9170-0830fc8ffca5\",                        [{\"colorbar\":{\"title\":{\"text\":\"Objective Value\"}},\"colorscale\":[[0.0,\"rgb(247,251,255)\"],[0.125,\"rgb(222,235,247)\"],[0.25,\"rgb(198,219,239)\"],[0.375,\"rgb(158,202,225)\"],[0.5,\"rgb(107,174,214)\"],[0.625,\"rgb(66,146,198)\"],[0.75,\"rgb(33,113,181)\"],[0.875,\"rgb(8,81,156)\"],[1.0,\"rgb(8,48,107)\"]],\"connectgaps\":true,\"contours\":{\"coloring\":\"heatmap\"},\"hoverinfo\":\"none\",\"line\":{\"smoothing\":1.3},\"reversescale\":false,\"x\":[2.7775058054050368e-05,3.291804668464681e-05,9.708829162565844e-05,0.00010618663488354277,0.00013544290906150828,0.00013753092749640573,0.00015805001643201216,0.00016784096854379204,0.0001757720017743072,0.0002266641191363001,0.00023020333698241797,0.00034966110179612223,0.00039047299241270366,0.00045566933203405175,0.0008305577880496696,0.0009840466474639173,0.001166258353737755],\"y\":[\"Adam\",\"RMSprop\",\"SGD\"],\"z\":[[null,null,87.92008102384679,89.190682257619,89.87201915109107,null,88.66586870453918,91.41883804437897,90.80195193812725,88.2791639812172,84.8908940244913,89.69708130006445,91.84237178896971,88.44489457692661,null,null,null],[null,80.20440106804162,null,null,null,86.01417917318848,null,null,null,null,null,null,null,null,null,75.1864469201731,null],[null,null,null,null,null,null,null,null,null,null,null,null,null,null,63.769450326857566,null,null]],\"type\":\"contour\"},{\"marker\":{\"color\":\"black\",\"line\":{\"color\":\"Gray\",\"width\":2.0}},\"mode\":\"markers\",\"name\":\"Feasible Trial\",\"showlegend\":false,\"x\":[0.0009840466474639173,0.00010618663488354277,3.291804668464681e-05,0.0008305577880496696,0.00013753092749640573,9.708829162565844e-05,0.00023020333698241797,0.00034966110179612223,0.00045566933203405175,0.00039047299241270366,0.00013544290906150828,0.0002266641191363001,0.00015805001643201216,0.0001757720017743072,0.00016784096854379204],\"y\":[\"RMSprop\",\"Adam\",\"RMSprop\",\"SGD\",\"RMSprop\",\"Adam\",\"Adam\",\"Adam\",\"Adam\",\"Adam\",\"Adam\",\"Adam\",\"Adam\",\"Adam\",\"Adam\"],\"type\":\"scatter\"},{\"marker\":{\"color\":\"#cccccc\",\"line\":{\"color\":\"Gray\",\"width\":2.0}},\"mode\":\"markers\",\"name\":\"Infeasible Trial\",\"showlegend\":false,\"x\":[],\"y\":[],\"type\":\"scatter\"}],                        {\"title\":{\"text\":\"Contour Plot\"},\"template\":{\"data\":{\"histogram2dcontour\":[{\"type\":\"histogram2dcontour\",\"colorbar\":{\"outlinewidth\":0,\"ticks\":\"\"},\"colorscale\":[[0.0,\"#0d0887\"],[0.1111111111111111,\"#46039f\"],[0.2222222222222222,\"#7201a8\"],[0.3333333333333333,\"#9c179e\"],[0.4444444444444444,\"#bd3786\"],[0.5555555555555556,\"#d8576b\"],[0.6666666666666666,\"#ed7953\"],[0.7777777777777778,\"#fb9f3a\"],[0.8888888888888888,\"#fdca26\"],[1.0,\"#f0f921\"]]}],\"choropleth\":[{\"type\":\"choropleth\",\"colorbar\":{\"outlinewidth\":0,\"ticks\":\"\"}}],\"histogram2d\":[{\"type\":\"histogram2d\",\"colorbar\":{\"outlinewidth\":0,\"ticks\":\"\"},\"colorscale\":[[0.0,\"#0d0887\"],[0.1111111111111111,\"#46039f\"],[0.2222222222222222,\"#7201a8\"],[0.3333333333333333,\"#9c179e\"],[0.4444444444444444,\"#bd3786\"],[0.5555555555555556,\"#d8576b\"],[0.6666666666666666,\"#ed7953\"],[0.7777777777777778,\"#fb9f3a\"],[0.8888888888888888,\"#fdca26\"],[1.0,\"#f0f921\"]]}],\"heatmap\":[{\"type\":\"heatmap\",\"colorbar\":{\"outlinewidth\":0,\"ticks\":\"\"},\"colorscale\":[[0.0,\"#0d0887\"],[0.1111111111111111,\"#46039f\"],[0.2222222222222222,\"#7201a8\"],[0.3333333333333333,\"#9c179e\"],[0.4444444444444444,\"#bd3786\"],[0.5555555555555556,\"#d8576b\"],[0.6666666666666666,\"#ed7953\"],[0.7777777777777778,\"#fb9f3a\"],[0.8888888888888888,\"#fdca26\"],[1.0,\"#f0f921\"]]}],\"heatmapgl\":[{\"type\":\"heatmapgl\",\"colorbar\":{\"outlinewidth\":0,\"ticks\":\"\"},\"colorscale\":[[0.0,\"#0d0887\"],[0.1111111111111111,\"#46039f\"],[0.2222222222222222,\"#7201a8\"],[0.3333333333333333,\"#9c179e\"],[0.4444444444444444,\"#bd3786\"],[0.5555555555555556,\"#d8576b\"],[0.6666666666666666,\"#ed7953\"],[0.7777777777777778,\"#fb9f3a\"],[0.8888888888888888,\"#fdca26\"],[1.0,\"#f0f921\"]]}],\"contourcarpet\":[{\"type\":\"contourcarpet\",\"colorbar\":{\"outlinewidth\":0,\"ticks\":\"\"}}],\"contour\":[{\"type\":\"contour\",\"colorbar\":{\"outlinewidth\":0,\"ticks\":\"\"},\"colorscale\":[[0.0,\"#0d0887\"],[0.1111111111111111,\"#46039f\"],[0.2222222222222222,\"#7201a8\"],[0.3333333333333333,\"#9c179e\"],[0.4444444444444444,\"#bd3786\"],[0.5555555555555556,\"#d8576b\"],[0.6666666666666666,\"#ed7953\"],[0.7777777777777778,\"#fb9f3a\"],[0.8888888888888888,\"#fdca26\"],[1.0,\"#f0f921\"]]}],\"surface\":[{\"type\":\"surface\",\"colorbar\":{\"outlinewidth\":0,\"ticks\":\"\"},\"colorscale\":[[0.0,\"#0d0887\"],[0.1111111111111111,\"#46039f\"],[0.2222222222222222,\"#7201a8\"],[0.3333333333333333,\"#9c179e\"],[0.4444444444444444,\"#bd3786\"],[0.5555555555555556,\"#d8576b\"],[0.6666666666666666,\"#ed7953\"],[0.7777777777777778,\"#fb9f3a\"],[0.8888888888888888,\"#fdca26\"],[1.0,\"#f0f921\"]]}],\"mesh3d\":[{\"type\":\"mesh3d\",\"colorbar\":{\"outlinewidth\":0,\"ticks\":\"\"}}],\"scatter\":[{\"fillpattern\":{\"fillmode\":\"overlay\",\"size\":10,\"solidity\":0.2},\"type\":\"scatter\"}],\"parcoords\":[{\"type\":\"parcoords\",\"line\":{\"colorbar\":{\"outlinewidth\":0,\"ticks\":\"\"}}}],\"scatterpolargl\":[{\"type\":\"scatterpolargl\",\"marker\":{\"colorbar\":{\"outlinewidth\":0,\"ticks\":\"\"}}}],\"bar\":[{\"error_x\":{\"color\":\"#2a3f5f\"},\"error_y\":{\"color\":\"#2a3f5f\"},\"marker\":{\"line\":{\"color\":\"#E5ECF6\",\"width\":0.5},\"pattern\":{\"fillmode\":\"overlay\",\"size\":10,\"solidity\":0.2}},\"type\":\"bar\"}],\"scattergeo\":[{\"type\":\"scattergeo\",\"marker\":{\"colorbar\":{\"outlinewidth\":0,\"ticks\":\"\"}}}],\"scatterpolar\":[{\"type\":\"scatterpolar\",\"marker\":{\"colorbar\":{\"outlinewidth\":0,\"ticks\":\"\"}}}],\"histogram\":[{\"marker\":{\"pattern\":{\"fillmode\":\"overlay\",\"size\":10,\"solidity\":0.2}},\"type\":\"histogram\"}],\"scattergl\":[{\"type\":\"scattergl\",\"marker\":{\"colorbar\":{\"outlinewidth\":0,\"ticks\":\"\"}}}],\"scatter3d\":[{\"type\":\"scatter3d\",\"line\":{\"colorbar\":{\"outlinewidth\":0,\"ticks\":\"\"}},\"marker\":{\"colorbar\":{\"outlinewidth\":0,\"ticks\":\"\"}}}],\"scattermapbox\":[{\"type\":\"scattermapbox\",\"marker\":{\"colorbar\":{\"outlinewidth\":0,\"ticks\":\"\"}}}],\"scatterternary\":[{\"type\":\"scatterternary\",\"marker\":{\"colorbar\":{\"outlinewidth\":0,\"ticks\":\"\"}}}],\"scattercarpet\":[{\"type\":\"scattercarpet\",\"marker\":{\"colorbar\":{\"outlinewidth\":0,\"ticks\":\"\"}}}],\"carpet\":[{\"aaxis\":{\"endlinecolor\":\"#2a3f5f\",\"gridcolor\":\"white\",\"linecolor\":\"white\",\"minorgridcolor\":\"white\",\"startlinecolor\":\"#2a3f5f\"},\"baxis\":{\"endlinecolor\":\"#2a3f5f\",\"gridcolor\":\"white\",\"linecolor\":\"white\",\"minorgridcolor\":\"white\",\"startlinecolor\":\"#2a3f5f\"},\"type\":\"carpet\"}],\"table\":[{\"cells\":{\"fill\":{\"color\":\"#EBF0F8\"},\"line\":{\"color\":\"white\"}},\"header\":{\"fill\":{\"color\":\"#C8D4E3\"},\"line\":{\"color\":\"white\"}},\"type\":\"table\"}],\"barpolar\":[{\"marker\":{\"line\":{\"color\":\"#E5ECF6\",\"width\":0.5},\"pattern\":{\"fillmode\":\"overlay\",\"size\":10,\"solidity\":0.2}},\"type\":\"barpolar\"}],\"pie\":[{\"automargin\":true,\"type\":\"pie\"}]},\"layout\":{\"autotypenumbers\":\"strict\",\"colorway\":[\"#636efa\",\"#EF553B\",\"#00cc96\",\"#ab63fa\",\"#FFA15A\",\"#19d3f3\",\"#FF6692\",\"#B6E880\",\"#FF97FF\",\"#FECB52\"],\"font\":{\"color\":\"#2a3f5f\"},\"hovermode\":\"closest\",\"hoverlabel\":{\"align\":\"left\"},\"paper_bgcolor\":\"white\",\"plot_bgcolor\":\"#E5ECF6\",\"polar\":{\"bgcolor\":\"#E5ECF6\",\"angularaxis\":{\"gridcolor\":\"white\",\"linecolor\":\"white\",\"ticks\":\"\"},\"radialaxis\":{\"gridcolor\":\"white\",\"linecolor\":\"white\",\"ticks\":\"\"}},\"ternary\":{\"bgcolor\":\"#E5ECF6\",\"aaxis\":{\"gridcolor\":\"white\",\"linecolor\":\"white\",\"ticks\":\"\"},\"baxis\":{\"gridcolor\":\"white\",\"linecolor\":\"white\",\"ticks\":\"\"},\"caxis\":{\"gridcolor\":\"white\",\"linecolor\":\"white\",\"ticks\":\"\"}},\"coloraxis\":{\"colorbar\":{\"outlinewidth\":0,\"ticks\":\"\"}},\"colorscale\":{\"sequential\":[[0.0,\"#0d0887\"],[0.1111111111111111,\"#46039f\"],[0.2222222222222222,\"#7201a8\"],[0.3333333333333333,\"#9c179e\"],[0.4444444444444444,\"#bd3786\"],[0.5555555555555556,\"#d8576b\"],[0.6666666666666666,\"#ed7953\"],[0.7777777777777778,\"#fb9f3a\"],[0.8888888888888888,\"#fdca26\"],[1.0,\"#f0f921\"]],\"sequentialminus\":[[0.0,\"#0d0887\"],[0.1111111111111111,\"#46039f\"],[0.2222222222222222,\"#7201a8\"],[0.3333333333333333,\"#9c179e\"],[0.4444444444444444,\"#bd3786\"],[0.5555555555555556,\"#d8576b\"],[0.6666666666666666,\"#ed7953\"],[0.7777777777777778,\"#fb9f3a\"],[0.8888888888888888,\"#fdca26\"],[1.0,\"#f0f921\"]],\"diverging\":[[0,\"#8e0152\"],[0.1,\"#c51b7d\"],[0.2,\"#de77ae\"],[0.3,\"#f1b6da\"],[0.4,\"#fde0ef\"],[0.5,\"#f7f7f7\"],[0.6,\"#e6f5d0\"],[0.7,\"#b8e186\"],[0.8,\"#7fbc41\"],[0.9,\"#4d9221\"],[1,\"#276419\"]]},\"xaxis\":{\"gridcolor\":\"white\",\"linecolor\":\"white\",\"ticks\":\"\",\"title\":{\"standoff\":15},\"zerolinecolor\":\"white\",\"automargin\":true,\"zerolinewidth\":2},\"yaxis\":{\"gridcolor\":\"white\",\"linecolor\":\"white\",\"ticks\":\"\",\"title\":{\"standoff\":15},\"zerolinecolor\":\"white\",\"automargin\":true,\"zerolinewidth\":2},\"scene\":{\"xaxis\":{\"backgroundcolor\":\"#E5ECF6\",\"gridcolor\":\"white\",\"linecolor\":\"white\",\"showbackground\":true,\"ticks\":\"\",\"zerolinecolor\":\"white\",\"gridwidth\":2},\"yaxis\":{\"backgroundcolor\":\"#E5ECF6\",\"gridcolor\":\"white\",\"linecolor\":\"white\",\"showbackground\":true,\"ticks\":\"\",\"zerolinecolor\":\"white\",\"gridwidth\":2},\"zaxis\":{\"backgroundcolor\":\"#E5ECF6\",\"gridcolor\":\"white\",\"linecolor\":\"white\",\"showbackground\":true,\"ticks\":\"\",\"zerolinecolor\":\"white\",\"gridwidth\":2}},\"shapedefaults\":{\"line\":{\"color\":\"#2a3f5f\"}},\"annotationdefaults\":{\"arrowcolor\":\"#2a3f5f\",\"arrowhead\":0,\"arrowwidth\":1},\"geo\":{\"bgcolor\":\"white\",\"landcolor\":\"#E5ECF6\",\"subunitcolor\":\"white\",\"showland\":true,\"showlakes\":true,\"lakecolor\":\"white\"},\"title\":{\"x\":0.05},\"mapbox\":{\"style\":\"light\"}}},\"xaxis\":{\"title\":{\"text\":\"lr\"},\"range\":[-4.556345024645335,-2.933205232446544],\"type\":\"log\"},\"yaxis\":{\"title\":{\"text\":\"optimizer\"},\"range\":[-0.1,2.1],\"type\":\"category\"}},                        {\"responsive\": true}                    ).then(function(){\n                            \nvar gd = document.getElementById('4cff8549-b542-4d68-9170-0830fc8ffca5');\nvar x = new MutationObserver(function (mutations, observer) {{\n        var display = window.getComputedStyle(gd).display;\n        if (!display || display === 'none') {{\n            console.log([gd, 'removed!']);\n            Plotly.purge(gd);\n            observer.disconnect();\n        }}\n}});\n\n// Listen for the removal of the full notebook cells\nvar notebookContainer = gd.closest('#notebook-container');\nif (notebookContainer) {{\n    x.observe(notebookContainer, {childList: true});\n}}\n\n// Listen for the clearing of the current output cell\nvar outputEl = gd.closest('.output');\nif (outputEl) {{\n    x.observe(outputEl, {childList: true});\n}}\n\n                        })                };                });            </script>        </div>"
     },
     "metadata": {},
     "output_type": "display_data"
    }
   ],
   "source": [
    "optuna.visualization.plot_contour(study, params=[\"lr\", \"optimizer\"])"
   ],
   "metadata": {
    "collapsed": false,
    "ExecuteTime": {
     "end_time": "2024-03-27T08:08:25.776836Z",
     "start_time": "2024-03-27T08:08:25.766862Z"
    }
   },
   "execution_count": 20
  },
  {
   "cell_type": "markdown",
   "source": [
    "### <img src=\"icons/resized/training.png\" style=\"height:50px;display:inline\"> Train\n",
    "We can see that from Optuna's research summary, the most significant hyperparameters are learning rate and optimizer.\n",
    "Use Optuna suggestion hyperparameters:"
   ],
   "metadata": {
    "collapsed": false
   }
  },
  {
   "cell_type": "code",
   "outputs": [
    {
     "data": {
      "text/plain": "  0%|          | 0/50 [00:00<?, ?it/s]",
      "application/vnd.jupyter.widget-view+json": {
       "version_major": 2,
       "version_minor": 0,
       "model_id": "5cd567bf447f4ac39662cdc1cb8e0259"
      }
     },
     "metadata": {},
     "output_type": "display_data"
    },
    {
     "name": "stdout",
     "output_type": "stream",
     "text": [
      "Epoch: 1 | Loss: 1.4748 | Training accuracy: 74.775% | Epoch Time: 119.74 secs\n",
      "Epoch: 2 | Loss: 0.7608 | Training accuracy: 81.995% | Epoch Time: 116.74 secs\n",
      "Epoch: 3 | Loss: 0.5581 | Training accuracy: 84.526% | Epoch Time: 116.78 secs\n",
      "Epoch: 4 | Loss: 0.4571 | Training accuracy: 85.221% | Epoch Time: 116.63 secs\n",
      "Epoch: 5 | Loss: 0.3917 | Training accuracy: 89.199% | Epoch Time: 117.01 secs\n",
      "Epoch: 6 | Loss: 0.3521 | Training accuracy: 91.735% | Epoch Time: 116.44 secs\n",
      "Epoch: 7 | Loss: 0.3072 | Training accuracy: 92.272% | Epoch Time: 116.68 secs\n",
      "Epoch: 8 | Loss: 0.2849 | Training accuracy: 90.927% | Epoch Time: 116.94 secs\n",
      "Epoch: 9 | Loss: 0.2703 | Training accuracy: 93.483% | Epoch Time: 117.16 secs\n",
      "Epoch: 10 | Loss: 0.2454 | Training accuracy: 94.028% | Epoch Time: 116.75 secs\n",
      "==> Saving model ...\n",
      "Epoch: 11 | Loss: 0.2331 | Training accuracy: 86.686% | Epoch Time: 117.91 secs\n",
      "Epoch: 12 | Loss: 0.2150 | Training accuracy: 94.953% | Epoch Time: 116.49 secs\n",
      "Epoch: 13 | Loss: 0.2037 | Training accuracy: 94.864% | Epoch Time: 116.98 secs\n",
      "Epoch: 14 | Loss: 0.1987 | Training accuracy: 93.893% | Epoch Time: 116.97 secs\n",
      "Epoch: 15 | Loss: 0.1861 | Training accuracy: 93.701% | Epoch Time: 117.24 secs\n",
      "Epoch: 16 | Loss: 0.1815 | Training accuracy: 94.798% | Epoch Time: 117.31 secs\n",
      "Epoch: 17 | Loss: 0.1703 | Training accuracy: 94.317% | Epoch Time: 117.79 secs\n",
      "Epoch: 18 | Loss: 0.1662 | Training accuracy: 95.587% | Epoch Time: 116.76 secs\n",
      "Epoch: 19 | Loss: 0.1633 | Training accuracy: 95.449% | Epoch Time: 116.73 secs\n",
      "Epoch: 20 | Loss: 0.1578 | Training accuracy: 95.582% | Epoch Time: 116.96 secs\n",
      "==> Saving model ...\n",
      "Epoch: 21 | Loss: 0.1510 | Training accuracy: 95.861% | Epoch Time: 117.06 secs\n",
      "Epoch: 22 | Loss: 0.1436 | Training accuracy: 96.390% | Epoch Time: 116.98 secs\n",
      "Epoch: 23 | Loss: 0.1428 | Training accuracy: 95.212% | Epoch Time: 117.05 secs\n",
      "Epoch: 24 | Loss: 0.1365 | Training accuracy: 96.441% | Epoch Time: 116.88 secs\n",
      "Epoch: 25 | Loss: 0.1332 | Training accuracy: 89.235% | Epoch Time: 116.91 secs\n",
      "Epoch: 26 | Loss: 0.1285 | Training accuracy: 97.781% | Epoch Time: 117.83 secs\n",
      "Epoch: 27 | Loss: 0.1262 | Training accuracy: 96.853% | Epoch Time: 115.92 secs\n",
      "Epoch: 28 | Loss: 0.1198 | Training accuracy: 97.814% | Epoch Time: 115.94 secs\n",
      "Epoch: 29 | Loss: 0.1192 | Training accuracy: 96.147% | Epoch Time: 116.36 secs\n",
      "Epoch: 30 | Loss: 0.1215 | Training accuracy: 98.083% | Epoch Time: 117.71 secs\n",
      "==> Saving model ...\n",
      "Epoch: 31 | Loss: 0.1157 | Training accuracy: 96.469% | Epoch Time: 117.52 secs\n",
      "Epoch: 32 | Loss: 0.1099 | Training accuracy: 97.602% | Epoch Time: 118.00 secs\n",
      "Epoch: 33 | Loss: 0.1090 | Training accuracy: 95.564% | Epoch Time: 116.94 secs\n",
      "Epoch: 34 | Loss: 0.1068 | Training accuracy: 97.597% | Epoch Time: 118.05 secs\n",
      "Epoch: 35 | Loss: 0.1002 | Training accuracy: 97.208% | Epoch Time: 116.77 secs\n",
      "Epoch: 36 | Loss: 0.0983 | Training accuracy: 96.030% | Epoch Time: 115.97 secs\n",
      "Epoch: 37 | Loss: 0.1024 | Training accuracy: 93.974% | Epoch Time: 116.12 secs\n",
      "Epoch: 38 | Loss: 0.1003 | Training accuracy: 96.048% | Epoch Time: 116.06 secs\n",
      "Epoch: 39 | Loss: 0.0940 | Training accuracy: 97.249% | Epoch Time: 117.13 secs\n",
      "Epoch: 40 | Loss: 0.0995 | Training accuracy: 97.454% | Epoch Time: 117.04 secs\n",
      "==> Saving model ...\n",
      "Epoch: 41 | Loss: 0.0952 | Training accuracy: 97.730% | Epoch Time: 116.99 secs\n",
      "Epoch: 42 | Loss: 0.0907 | Training accuracy: 98.346% | Epoch Time: 116.70 secs\n",
      "Epoch: 43 | Loss: 0.0906 | Training accuracy: 98.175% | Epoch Time: 116.74 secs\n",
      "Epoch: 44 | Loss: 0.0885 | Training accuracy: 90.316% | Epoch Time: 116.65 secs\n",
      "Epoch: 45 | Loss: 0.0939 | Training accuracy: 97.952% | Epoch Time: 117.76 secs\n",
      "Epoch: 46 | Loss: 0.0846 | Training accuracy: 96.958% | Epoch Time: 116.58 secs\n",
      "Epoch: 47 | Loss: 0.0790 | Training accuracy: 98.392% | Epoch Time: 117.88 secs\n",
      "Epoch: 48 | Loss: 0.0871 | Training accuracy: 98.315% | Epoch Time: 117.85 secs\n",
      "Epoch: 49 | Loss: 0.0822 | Training accuracy: 97.924% | Epoch Time: 116.83 secs\n",
      "Epoch: 50 | Loss: 0.0780 | Training accuracy: 98.407% | Epoch Time: 117.78 secs\n",
      "==> Saving model ...\n",
      "==> Finished Training ...\n"
     ]
    }
   ],
   "source": [
    "optuna_lr = trial.params[\"lr\"]\n",
    "optuna_p = trial.params[\"p\"]\n",
    "optuna_optimizer = \"Adam\"\n",
    "optuna_batch_size = trial.params[\"batch_size\"]\n",
    "optuna_model_loss = []\n",
    "optuna_model_accuracy = []\n",
    "epochs = 50\n",
    "train_loader = torch.utils.data.DataLoader(train_dataset, batch_size=optuna_batch_size, shuffle=True)\n",
    "valid_loader = torch.utils.data.DataLoader(valid_dataset, batch_size=optuna_batch_size, shuffle=False)\n",
    "\n",
    "optuna_model = train_model_for_test(train_loader, epochs, optuna_lr, optuna_p, optuna_model_loss, optuna_model_accuracy, \"CNN_optuna_model\")"
   ],
   "metadata": {
    "collapsed": false,
    "ExecuteTime": {
     "end_time": "2024-03-27T17:50:51.553343Z",
     "start_time": "2024-03-27T16:13:18.998555Z"
    }
   },
   "execution_count": 101
  },
  {
   "cell_type": "markdown",
   "source": [
    "Train models with large number of epochs: "
   ],
   "metadata": {
    "collapsed": false
   }
  },
  {
   "cell_type": "code",
   "outputs": [
    {
     "data": {
      "text/plain": "  0%|          | 0/100 [00:00<?, ?it/s]",
      "application/vnd.jupyter.widget-view+json": {
       "version_major": 2,
       "version_minor": 0,
       "model_id": "66bb0469383e4ce89016ad5d9705ddd7"
      }
     },
     "metadata": {},
     "output_type": "display_data"
    },
    {
     "name": "stdout",
     "output_type": "stream",
     "text": [
      "Epoch: 1 | Loss: 1.4865 | Training accuracy: 76.115% | Epoch Time: 121.04 secs\n",
      "Epoch: 2 | Loss: 0.7697 | Training accuracy: 80.798% | Epoch Time: 119.32 secs\n",
      "Epoch: 3 | Loss: 0.5831 | Training accuracy: 82.048% | Epoch Time: 116.71 secs\n",
      "Epoch: 4 | Loss: 0.4815 | Training accuracy: 86.139% | Epoch Time: 116.58 secs\n",
      "Epoch: 5 | Loss: 0.4153 | Training accuracy: 88.749% | Epoch Time: 117.11 secs\n",
      "Epoch: 6 | Loss: 0.3676 | Training accuracy: 89.222% | Epoch Time: 119.54 secs\n",
      "Epoch: 7 | Loss: 0.3413 | Training accuracy: 91.957% | Epoch Time: 116.90 secs\n",
      "Epoch: 8 | Loss: 0.3001 | Training accuracy: 90.564% | Epoch Time: 116.59 secs\n",
      "Epoch: 9 | Loss: 0.2792 | Training accuracy: 91.201% | Epoch Time: 117.12 secs\n",
      "Epoch: 10 | Loss: 0.2647 | Training accuracy: 93.593% | Epoch Time: 117.52 secs\n",
      "==> Saving model ...\n",
      "Epoch: 11 | Loss: 0.2468 | Training accuracy: 92.796% | Epoch Time: 117.69 secs\n",
      "Epoch: 12 | Loss: 0.2344 | Training accuracy: 94.263% | Epoch Time: 117.50 secs\n",
      "Epoch: 13 | Loss: 0.2203 | Training accuracy: 93.944% | Epoch Time: 117.75 secs\n",
      "Epoch: 14 | Loss: 0.2065 | Training accuracy: 95.350% | Epoch Time: 118.00 secs\n",
      "Epoch: 15 | Loss: 0.2015 | Training accuracy: 95.764% | Epoch Time: 117.71 secs\n",
      "Epoch: 16 | Loss: 0.1867 | Training accuracy: 94.529% | Epoch Time: 117.45 secs\n",
      "Epoch: 17 | Loss: 0.1843 | Training accuracy: 95.869% | Epoch Time: 118.33 secs\n",
      "Epoch: 18 | Loss: 0.1787 | Training accuracy: 95.674% | Epoch Time: 117.48 secs\n",
      "Epoch: 19 | Loss: 0.1701 | Training accuracy: 94.767% | Epoch Time: 118.28 secs\n",
      "Epoch: 20 | Loss: 0.1603 | Training accuracy: 95.874% | Epoch Time: 117.41 secs\n",
      "==> Saving model ...\n",
      "Epoch: 21 | Loss: 0.1568 | Training accuracy: 87.345% | Epoch Time: 117.79 secs\n",
      "Epoch: 22 | Loss: 0.1502 | Training accuracy: 96.237% | Epoch Time: 117.48 secs\n",
      "Epoch: 23 | Loss: 0.1476 | Training accuracy: 92.397% | Epoch Time: 117.49 secs\n",
      "Epoch: 24 | Loss: 0.1468 | Training accuracy: 96.725% | Epoch Time: 117.34 secs\n",
      "Epoch: 25 | Loss: 0.1372 | Training accuracy: 96.357% | Epoch Time: 116.98 secs\n",
      "Epoch: 26 | Loss: 0.1368 | Training accuracy: 97.073% | Epoch Time: 117.34 secs\n",
      "Epoch: 27 | Loss: 0.1314 | Training accuracy: 95.858% | Epoch Time: 117.64 secs\n",
      "Epoch: 28 | Loss: 0.1289 | Training accuracy: 96.262% | Epoch Time: 117.60 secs\n",
      "Epoch: 29 | Loss: 0.1219 | Training accuracy: 97.339% | Epoch Time: 117.29 secs\n",
      "Epoch: 30 | Loss: 0.1218 | Training accuracy: 95.751% | Epoch Time: 117.42 secs\n",
      "==> Saving model ...\n",
      "Epoch: 31 | Loss: 0.1171 | Training accuracy: 96.843% | Epoch Time: 118.03 secs\n",
      "Epoch: 32 | Loss: 0.1158 | Training accuracy: 96.109% | Epoch Time: 117.72 secs\n",
      "Epoch: 33 | Loss: 0.1163 | Training accuracy: 97.408% | Epoch Time: 117.29 secs\n",
      "Epoch: 34 | Loss: 0.1081 | Training accuracy: 96.293% | Epoch Time: 119.26 secs\n",
      "Epoch: 35 | Loss: 0.1162 | Training accuracy: 96.400% | Epoch Time: 117.30 secs\n",
      "Epoch: 36 | Loss: 0.1018 | Training accuracy: 96.983% | Epoch Time: 116.45 secs\n",
      "Epoch: 37 | Loss: 0.1047 | Training accuracy: 96.705% | Epoch Time: 116.71 secs\n",
      "Epoch: 38 | Loss: 0.1004 | Training accuracy: 97.014% | Epoch Time: 117.29 secs\n",
      "Epoch: 39 | Loss: 0.0962 | Training accuracy: 94.752% | Epoch Time: 118.97 secs\n",
      "Epoch: 40 | Loss: 0.0925 | Training accuracy: 94.892% | Epoch Time: 116.57 secs\n",
      "==> Saving model ...\n",
      "Epoch: 41 | Loss: 0.1015 | Training accuracy: 98.397% | Epoch Time: 116.48 secs\n",
      "Epoch: 42 | Loss: 0.0949 | Training accuracy: 95.508% | Epoch Time: 116.53 secs\n",
      "Epoch: 43 | Loss: 0.0887 | Training accuracy: 97.702% | Epoch Time: 117.24 secs\n",
      "Epoch: 44 | Loss: 0.0895 | Training accuracy: 97.142% | Epoch Time: 117.25 secs\n",
      "Epoch: 45 | Loss: 0.0919 | Training accuracy: 97.745% | Epoch Time: 117.62 secs\n",
      "Epoch: 46 | Loss: 0.0921 | Training accuracy: 97.121% | Epoch Time: 119.53 secs\n",
      "Epoch: 47 | Loss: 0.0856 | Training accuracy: 98.047% | Epoch Time: 117.44 secs\n",
      "Epoch: 48 | Loss: 0.0845 | Training accuracy: 96.664% | Epoch Time: 117.59 secs\n",
      "Epoch: 49 | Loss: 0.0868 | Training accuracy: 98.550% | Epoch Time: 117.23 secs\n",
      "Epoch: 50 | Loss: 0.0834 | Training accuracy: 94.314% | Epoch Time: 117.15 secs\n",
      "==> Saving model ...\n",
      "Epoch: 51 | Loss: 0.0761 | Training accuracy: 97.433% | Epoch Time: 117.76 secs\n",
      "Epoch: 52 | Loss: 0.0820 | Training accuracy: 95.069% | Epoch Time: 117.49 secs\n",
      "Epoch: 53 | Loss: 0.0796 | Training accuracy: 96.692% | Epoch Time: 117.27 secs\n",
      "Epoch: 54 | Loss: 0.0821 | Training accuracy: 98.827% | Epoch Time: 118.56 secs\n",
      "Epoch: 55 | Loss: 0.0764 | Training accuracy: 98.545% | Epoch Time: 117.34 secs\n",
      "Epoch: 56 | Loss: 0.0738 | Training accuracy: 98.343% | Epoch Time: 117.45 secs\n",
      "Epoch: 57 | Loss: 0.0698 | Training accuracy: 98.622% | Epoch Time: 117.31 secs\n",
      "Epoch: 58 | Loss: 0.0697 | Training accuracy: 97.034% | Epoch Time: 117.47 secs\n",
      "Epoch: 59 | Loss: 0.0727 | Training accuracy: 98.906% | Epoch Time: 118.34 secs\n",
      "Epoch: 60 | Loss: 0.0737 | Training accuracy: 97.305% | Epoch Time: 117.05 secs\n",
      "==> Saving model ...\n",
      "Epoch: 61 | Loss: 0.0686 | Training accuracy: 94.115% | Epoch Time: 118.17 secs\n",
      "Epoch: 62 | Loss: 0.0674 | Training accuracy: 97.763% | Epoch Time: 117.47 secs\n",
      "Epoch: 63 | Loss: 0.0688 | Training accuracy: 97.957% | Epoch Time: 118.11 secs\n",
      "Epoch: 64 | Loss: 0.0717 | Training accuracy: 98.443% | Epoch Time: 118.25 secs\n",
      "Epoch: 65 | Loss: 0.0668 | Training accuracy: 98.717% | Epoch Time: 118.06 secs\n",
      "Epoch: 66 | Loss: 0.0668 | Training accuracy: 98.637% | Epoch Time: 117.95 secs\n",
      "Epoch: 67 | Loss: 0.0635 | Training accuracy: 97.247% | Epoch Time: 118.31 secs\n",
      "Epoch: 68 | Loss: 0.0654 | Training accuracy: 98.558% | Epoch Time: 118.44 secs\n",
      "Epoch: 69 | Loss: 0.0673 | Training accuracy: 98.870% | Epoch Time: 118.20 secs\n",
      "Epoch: 70 | Loss: 0.0651 | Training accuracy: 98.727% | Epoch Time: 119.12 secs\n",
      "==> Saving model ...\n",
      "Epoch: 71 | Loss: 0.0561 | Training accuracy: 98.883% | Epoch Time: 118.59 secs\n",
      "Epoch: 72 | Loss: 0.0608 | Training accuracy: 98.778% | Epoch Time: 118.37 secs\n",
      "Epoch: 73 | Loss: 0.0628 | Training accuracy: 98.617% | Epoch Time: 117.91 secs\n",
      "Epoch: 74 | Loss: 0.0606 | Training accuracy: 98.837% | Epoch Time: 117.43 secs\n",
      "Epoch: 75 | Loss: 0.0586 | Training accuracy: 98.775% | Epoch Time: 117.46 secs\n",
      "Epoch: 76 | Loss: 0.0560 | Training accuracy: 98.144% | Epoch Time: 117.95 secs\n",
      "Epoch: 77 | Loss: 0.0628 | Training accuracy: 98.579% | Epoch Time: 118.07 secs\n",
      "Epoch: 78 | Loss: 0.0601 | Training accuracy: 98.650% | Epoch Time: 117.80 secs\n",
      "Epoch: 79 | Loss: 0.0591 | Training accuracy: 98.729% | Epoch Time: 117.72 secs\n",
      "Epoch: 80 | Loss: 0.0582 | Training accuracy: 96.879% | Epoch Time: 117.63 secs\n",
      "==> Saving model ...\n",
      "Epoch: 81 | Loss: 0.0528 | Training accuracy: 98.763% | Epoch Time: 117.67 secs\n",
      "Epoch: 82 | Loss: 0.0558 | Training accuracy: 99.218% | Epoch Time: 117.81 secs\n",
      "Epoch: 83 | Loss: 0.0576 | Training accuracy: 98.042% | Epoch Time: 117.62 secs\n",
      "Epoch: 84 | Loss: 0.0537 | Training accuracy: 98.936% | Epoch Time: 117.52 secs\n",
      "Epoch: 85 | Loss: 0.0548 | Training accuracy: 98.499% | Epoch Time: 117.46 secs\n",
      "Epoch: 86 | Loss: 0.0511 | Training accuracy: 97.362% | Epoch Time: 117.45 secs\n",
      "Epoch: 87 | Loss: 0.0529 | Training accuracy: 98.901% | Epoch Time: 117.59 secs\n",
      "Epoch: 88 | Loss: 0.0518 | Training accuracy: 98.722% | Epoch Time: 117.30 secs\n",
      "Epoch: 89 | Loss: 0.0528 | Training accuracy: 97.781% | Epoch Time: 117.61 secs\n",
      "Epoch: 90 | Loss: 0.0511 | Training accuracy: 98.957% | Epoch Time: 117.83 secs\n",
      "==> Saving model ...\n",
      "Epoch: 91 | Loss: 0.0544 | Training accuracy: 99.026% | Epoch Time: 118.90 secs\n",
      "Epoch: 92 | Loss: 0.0520 | Training accuracy: 98.857% | Epoch Time: 117.56 secs\n",
      "Epoch: 93 | Loss: 0.0498 | Training accuracy: 98.256% | Epoch Time: 117.48 secs\n",
      "Epoch: 94 | Loss: 0.0503 | Training accuracy: 99.177% | Epoch Time: 118.08 secs\n",
      "Epoch: 95 | Loss: 0.0539 | Training accuracy: 98.701% | Epoch Time: 118.33 secs\n",
      "Epoch: 96 | Loss: 0.0474 | Training accuracy: 98.972% | Epoch Time: 117.25 secs\n",
      "Epoch: 97 | Loss: 0.0491 | Training accuracy: 98.947% | Epoch Time: 117.54 secs\n",
      "Epoch: 98 | Loss: 0.0510 | Training accuracy: 97.766% | Epoch Time: 117.22 secs\n",
      "Epoch: 99 | Loss: 0.0437 | Training accuracy: 95.761% | Epoch Time: 117.60 secs\n",
      "Epoch: 100 | Loss: 0.0492 | Training accuracy: 98.609% | Epoch Time: 118.16 secs\n",
      "==> Saving model ...\n",
      "==> Finished Training ...\n"
     ]
    },
    {
     "data": {
      "text/plain": "  0%|          | 0/200 [00:00<?, ?it/s]",
      "application/vnd.jupyter.widget-view+json": {
       "version_major": 2,
       "version_minor": 0,
       "model_id": "6bc8b44e7fc14d4e8d65757d21043b20"
      }
     },
     "metadata": {},
     "output_type": "display_data"
    },
    {
     "name": "stdout",
     "output_type": "stream",
     "text": [
      "Epoch: 1 | Loss: 1.5247 | Training accuracy: 71.932% | Epoch Time: 116.80 secs\n",
      "Epoch: 2 | Loss: 0.7542 | Training accuracy: 79.727% | Epoch Time: 117.35 secs\n",
      "Epoch: 3 | Loss: 0.5564 | Training accuracy: 80.704% | Epoch Time: 117.37 secs\n",
      "Epoch: 4 | Loss: 0.4536 | Training accuracy: 86.379% | Epoch Time: 117.44 secs\n",
      "Epoch: 5 | Loss: 0.3846 | Training accuracy: 85.886% | Epoch Time: 117.42 secs\n",
      "Epoch: 6 | Loss: 0.3382 | Training accuracy: 86.062% | Epoch Time: 117.38 secs\n",
      "Epoch: 7 | Loss: 0.3024 | Training accuracy: 92.729% | Epoch Time: 117.09 secs\n",
      "Epoch: 8 | Loss: 0.2736 | Training accuracy: 92.095% | Epoch Time: 117.47 secs\n",
      "Epoch: 9 | Loss: 0.2619 | Training accuracy: 94.110% | Epoch Time: 118.61 secs\n",
      "Epoch: 10 | Loss: 0.2366 | Training accuracy: 86.399% | Epoch Time: 117.86 secs\n",
      "==> Saving model ...\n",
      "Epoch: 11 | Loss: 0.2283 | Training accuracy: 93.821% | Epoch Time: 117.42 secs\n",
      "Epoch: 12 | Loss: 0.2097 | Training accuracy: 94.708% | Epoch Time: 117.42 secs\n",
      "Epoch: 13 | Loss: 0.2021 | Training accuracy: 94.810% | Epoch Time: 117.12 secs\n",
      "Epoch: 14 | Loss: 0.1965 | Training accuracy: 93.535% | Epoch Time: 116.84 secs\n",
      "Epoch: 15 | Loss: 0.1828 | Training accuracy: 95.529% | Epoch Time: 117.45 secs\n",
      "Epoch: 16 | Loss: 0.1717 | Training accuracy: 94.156% | Epoch Time: 117.14 secs\n",
      "Epoch: 17 | Loss: 0.1667 | Training accuracy: 90.779% | Epoch Time: 117.07 secs\n",
      "Epoch: 18 | Loss: 0.1629 | Training accuracy: 95.697% | Epoch Time: 117.01 secs\n",
      "Epoch: 19 | Loss: 0.1595 | Training accuracy: 95.902% | Epoch Time: 117.68 secs\n",
      "Epoch: 20 | Loss: 0.1534 | Training accuracy: 94.087% | Epoch Time: 117.73 secs\n",
      "==> Saving model ...\n",
      "Epoch: 21 | Loss: 0.1465 | Training accuracy: 96.477% | Epoch Time: 117.03 secs\n",
      "Epoch: 22 | Loss: 0.1405 | Training accuracy: 95.490% | Epoch Time: 117.03 secs\n",
      "Epoch: 23 | Loss: 0.1360 | Training accuracy: 93.936% | Epoch Time: 116.78 secs\n",
      "Epoch: 24 | Loss: 0.1389 | Training accuracy: 96.283% | Epoch Time: 117.23 secs\n",
      "Epoch: 25 | Loss: 0.1319 | Training accuracy: 96.411% | Epoch Time: 116.92 secs\n",
      "Epoch: 26 | Loss: 0.1230 | Training accuracy: 97.037% | Epoch Time: 116.91 secs\n",
      "Epoch: 27 | Loss: 0.1246 | Training accuracy: 94.388% | Epoch Time: 117.22 secs\n",
      "Epoch: 28 | Loss: 0.1184 | Training accuracy: 95.997% | Epoch Time: 116.61 secs\n",
      "Epoch: 29 | Loss: 0.1167 | Training accuracy: 97.750% | Epoch Time: 117.57 secs\n",
      "Epoch: 30 | Loss: 0.1168 | Training accuracy: 97.566% | Epoch Time: 117.17 secs\n",
      "==> Saving model ...\n",
      "Epoch: 31 | Loss: 0.1112 | Training accuracy: 95.657% | Epoch Time: 116.62 secs\n",
      "Epoch: 32 | Loss: 0.1102 | Training accuracy: 97.883% | Epoch Time: 117.31 secs\n",
      "Epoch: 33 | Loss: 0.1066 | Training accuracy: 97.190% | Epoch Time: 118.04 secs\n",
      "Epoch: 34 | Loss: 0.1100 | Training accuracy: 97.988% | Epoch Time: 115.66 secs\n",
      "Epoch: 35 | Loss: 0.1009 | Training accuracy: 96.981% | Epoch Time: 115.83 secs\n",
      "Epoch: 36 | Loss: 0.1009 | Training accuracy: 97.262% | Epoch Time: 116.50 secs\n",
      "Epoch: 37 | Loss: 0.0983 | Training accuracy: 98.379% | Epoch Time: 116.81 secs\n",
      "Epoch: 38 | Loss: 0.0990 | Training accuracy: 97.300% | Epoch Time: 117.28 secs\n",
      "Epoch: 39 | Loss: 0.0947 | Training accuracy: 97.939% | Epoch Time: 116.77 secs\n",
      "Epoch: 40 | Loss: 0.0918 | Training accuracy: 96.623% | Epoch Time: 117.58 secs\n",
      "==> Saving model ...\n",
      "Epoch: 41 | Loss: 0.0939 | Training accuracy: 97.244% | Epoch Time: 118.41 secs\n",
      "Epoch: 42 | Loss: 0.0863 | Training accuracy: 96.137% | Epoch Time: 117.39 secs\n",
      "Epoch: 43 | Loss: 0.0872 | Training accuracy: 96.037% | Epoch Time: 117.57 secs\n",
      "Epoch: 44 | Loss: 0.0878 | Training accuracy: 98.239% | Epoch Time: 117.50 secs\n",
      "Epoch: 45 | Loss: 0.0869 | Training accuracy: 97.633% | Epoch Time: 117.28 secs\n",
      "Epoch: 46 | Loss: 0.0840 | Training accuracy: 97.075% | Epoch Time: 117.62 secs\n",
      "Epoch: 47 | Loss: 0.0789 | Training accuracy: 97.784% | Epoch Time: 117.37 secs\n",
      "Epoch: 48 | Loss: 0.0814 | Training accuracy: 97.507% | Epoch Time: 118.04 secs\n",
      "Epoch: 49 | Loss: 0.0787 | Training accuracy: 98.108% | Epoch Time: 116.89 secs\n",
      "Epoch: 50 | Loss: 0.0798 | Training accuracy: 97.111% | Epoch Time: 117.18 secs\n",
      "==> Saving model ...\n",
      "Epoch: 51 | Loss: 0.0772 | Training accuracy: 98.729% | Epoch Time: 117.76 secs\n",
      "Epoch: 52 | Loss: 0.0811 | Training accuracy: 97.980% | Epoch Time: 118.75 secs\n",
      "Epoch: 53 | Loss: 0.0768 | Training accuracy: 98.037% | Epoch Time: 116.00 secs\n",
      "Epoch: 54 | Loss: 0.0666 | Training accuracy: 98.778% | Epoch Time: 116.53 secs\n",
      "Epoch: 55 | Loss: 0.0770 | Training accuracy: 98.377% | Epoch Time: 117.98 secs\n",
      "Epoch: 56 | Loss: 0.0766 | Training accuracy: 98.205% | Epoch Time: 117.04 secs\n",
      "Epoch: 57 | Loss: 0.0708 | Training accuracy: 98.750% | Epoch Time: 118.93 secs\n",
      "Epoch: 58 | Loss: 0.0656 | Training accuracy: 98.062% | Epoch Time: 117.73 secs\n",
      "Epoch: 59 | Loss: 0.0731 | Training accuracy: 98.681% | Epoch Time: 117.96 secs\n",
      "Epoch: 60 | Loss: 0.0660 | Training accuracy: 98.530% | Epoch Time: 118.22 secs\n",
      "==> Saving model ...\n",
      "Epoch: 61 | Loss: 0.0639 | Training accuracy: 97.068% | Epoch Time: 117.71 secs\n",
      "Epoch: 62 | Loss: 0.0687 | Training accuracy: 98.563% | Epoch Time: 118.96 secs\n",
      "Epoch: 63 | Loss: 0.0721 | Training accuracy: 97.748% | Epoch Time: 117.19 secs\n",
      "Epoch: 64 | Loss: 0.0629 | Training accuracy: 98.456% | Epoch Time: 117.06 secs\n",
      "Epoch: 65 | Loss: 0.0593 | Training accuracy: 97.791% | Epoch Time: 116.91 secs\n",
      "Epoch: 66 | Loss: 0.0643 | Training accuracy: 98.254% | Epoch Time: 118.09 secs\n",
      "Epoch: 67 | Loss: 0.0699 | Training accuracy: 98.944% | Epoch Time: 117.83 secs\n",
      "Epoch: 68 | Loss: 0.0654 | Training accuracy: 98.671% | Epoch Time: 117.54 secs\n",
      "Epoch: 69 | Loss: 0.0613 | Training accuracy: 98.354% | Epoch Time: 117.48 secs\n",
      "Epoch: 70 | Loss: 0.0609 | Training accuracy: 99.000% | Epoch Time: 118.00 secs\n",
      "==> Saving model ...\n",
      "Epoch: 71 | Loss: 0.0615 | Training accuracy: 97.804% | Epoch Time: 118.54 secs\n",
      "Epoch: 72 | Loss: 0.0639 | Training accuracy: 98.906% | Epoch Time: 117.95 secs\n",
      "Epoch: 73 | Loss: 0.0610 | Training accuracy: 98.683% | Epoch Time: 119.03 secs\n",
      "Epoch: 74 | Loss: 0.0595 | Training accuracy: 98.865% | Epoch Time: 117.84 secs\n",
      "Epoch: 75 | Loss: 0.0545 | Training accuracy: 98.599% | Epoch Time: 118.58 secs\n",
      "Epoch: 76 | Loss: 0.0580 | Training accuracy: 97.878% | Epoch Time: 118.10 secs\n",
      "Epoch: 77 | Loss: 0.0564 | Training accuracy: 98.768% | Epoch Time: 117.53 secs\n",
      "Epoch: 78 | Loss: 0.0559 | Training accuracy: 99.006% | Epoch Time: 118.23 secs\n",
      "Epoch: 79 | Loss: 0.0590 | Training accuracy: 98.395% | Epoch Time: 117.80 secs\n",
      "Epoch: 80 | Loss: 0.0532 | Training accuracy: 97.111% | Epoch Time: 117.55 secs\n",
      "==> Saving model ...\n",
      "Epoch: 81 | Loss: 0.0561 | Training accuracy: 99.108% | Epoch Time: 117.66 secs\n",
      "Epoch: 82 | Loss: 0.0541 | Training accuracy: 99.006% | Epoch Time: 118.25 secs\n",
      "Epoch: 83 | Loss: 0.0543 | Training accuracy: 99.195% | Epoch Time: 118.01 secs\n",
      "Epoch: 84 | Loss: 0.0543 | Training accuracy: 98.548% | Epoch Time: 118.88 secs\n",
      "Epoch: 85 | Loss: 0.0554 | Training accuracy: 99.348% | Epoch Time: 117.49 secs\n",
      "Epoch: 86 | Loss: 0.0482 | Training accuracy: 98.630% | Epoch Time: 118.35 secs\n",
      "Epoch: 87 | Loss: 0.0537 | Training accuracy: 98.975% | Epoch Time: 117.75 secs\n",
      "Epoch: 88 | Loss: 0.0518 | Training accuracy: 99.023% | Epoch Time: 117.28 secs\n",
      "Epoch: 89 | Loss: 0.0482 | Training accuracy: 99.192% | Epoch Time: 117.49 secs\n",
      "Epoch: 90 | Loss: 0.0510 | Training accuracy: 98.681% | Epoch Time: 117.64 secs\n",
      "==> Saving model ...\n",
      "Epoch: 91 | Loss: 0.0515 | Training accuracy: 98.988% | Epoch Time: 117.08 secs\n",
      "Epoch: 92 | Loss: 0.0527 | Training accuracy: 99.023% | Epoch Time: 117.74 secs\n",
      "Epoch: 93 | Loss: 0.0490 | Training accuracy: 99.277% | Epoch Time: 116.72 secs\n",
      "Epoch: 94 | Loss: 0.0512 | Training accuracy: 99.021% | Epoch Time: 117.23 secs\n",
      "Epoch: 95 | Loss: 0.0470 | Training accuracy: 97.305% | Epoch Time: 117.23 secs\n",
      "Epoch: 96 | Loss: 0.0509 | Training accuracy: 98.896% | Epoch Time: 116.79 secs\n",
      "Epoch: 97 | Loss: 0.0446 | Training accuracy: 99.054% | Epoch Time: 117.39 secs\n",
      "Epoch: 98 | Loss: 0.0499 | Training accuracy: 99.478% | Epoch Time: 117.31 secs\n",
      "Epoch: 99 | Loss: 0.0437 | Training accuracy: 99.154% | Epoch Time: 117.50 secs\n",
      "Epoch: 100 | Loss: 0.0485 | Training accuracy: 98.926% | Epoch Time: 117.57 secs\n",
      "==> Saving model ...\n",
      "Epoch: 101 | Loss: 0.0464 | Training accuracy: 98.875% | Epoch Time: 118.95 secs\n",
      "Epoch: 102 | Loss: 0.0453 | Training accuracy: 98.944% | Epoch Time: 118.17 secs\n",
      "Epoch: 103 | Loss: 0.0454 | Training accuracy: 99.000% | Epoch Time: 118.08 secs\n",
      "Epoch: 104 | Loss: 0.0449 | Training accuracy: 98.456% | Epoch Time: 118.29 secs\n",
      "Epoch: 105 | Loss: 0.0449 | Training accuracy: 98.857% | Epoch Time: 119.06 secs\n",
      "Epoch: 106 | Loss: 0.0431 | Training accuracy: 99.376% | Epoch Time: 118.16 secs\n",
      "Epoch: 107 | Loss: 0.0462 | Training accuracy: 99.210% | Epoch Time: 118.38 secs\n",
      "Epoch: 108 | Loss: 0.0448 | Training accuracy: 99.417% | Epoch Time: 118.00 secs\n",
      "Epoch: 109 | Loss: 0.0441 | Training accuracy: 98.896% | Epoch Time: 119.00 secs\n",
      "Epoch: 110 | Loss: 0.0431 | Training accuracy: 98.852% | Epoch Time: 117.95 secs\n",
      "==> Saving model ...\n",
      "Epoch: 111 | Loss: 0.0403 | Training accuracy: 98.320% | Epoch Time: 116.82 secs\n",
      "Epoch: 112 | Loss: 0.0429 | Training accuracy: 98.942% | Epoch Time: 118.64 secs\n",
      "Epoch: 113 | Loss: 0.0422 | Training accuracy: 98.926% | Epoch Time: 117.64 secs\n",
      "Epoch: 114 | Loss: 0.0409 | Training accuracy: 99.151% | Epoch Time: 118.18 secs\n",
      "Epoch: 115 | Loss: 0.0426 | Training accuracy: 99.450% | Epoch Time: 118.61 secs\n",
      "Epoch: 116 | Loss: 0.0429 | Training accuracy: 98.264% | Epoch Time: 117.63 secs\n",
      "Epoch: 117 | Loss: 0.0426 | Training accuracy: 98.325% | Epoch Time: 117.88 secs\n",
      "Epoch: 118 | Loss: 0.0394 | Training accuracy: 99.215% | Epoch Time: 117.62 secs\n",
      "Epoch: 119 | Loss: 0.0420 | Training accuracy: 98.642% | Epoch Time: 117.79 secs\n",
      "Epoch: 120 | Loss: 0.0420 | Training accuracy: 98.857% | Epoch Time: 117.10 secs\n",
      "==> Saving model ...\n",
      "Epoch: 121 | Loss: 0.0408 | Training accuracy: 99.233% | Epoch Time: 118.08 secs\n",
      "Epoch: 122 | Loss: 0.0376 | Training accuracy: 99.389% | Epoch Time: 118.79 secs\n",
      "Epoch: 123 | Loss: 0.0438 | Training accuracy: 99.407% | Epoch Time: 119.82 secs\n",
      "Epoch: 124 | Loss: 0.0377 | Training accuracy: 99.537% | Epoch Time: 116.44 secs\n",
      "Epoch: 125 | Loss: 0.0367 | Training accuracy: 99.397% | Epoch Time: 117.21 secs\n",
      "Epoch: 126 | Loss: 0.0375 | Training accuracy: 99.432% | Epoch Time: 117.67 secs\n",
      "Epoch: 127 | Loss: 0.0386 | Training accuracy: 99.489% | Epoch Time: 117.85 secs\n",
      "Epoch: 128 | Loss: 0.0412 | Training accuracy: 99.588% | Epoch Time: 117.56 secs\n",
      "Epoch: 129 | Loss: 0.0358 | Training accuracy: 99.435% | Epoch Time: 117.30 secs\n",
      "Epoch: 130 | Loss: 0.0336 | Training accuracy: 99.430% | Epoch Time: 117.00 secs\n",
      "==> Saving model ...\n",
      "Epoch: 131 | Loss: 0.0353 | Training accuracy: 98.855% | Epoch Time: 117.72 secs\n",
      "Epoch: 132 | Loss: 0.0393 | Training accuracy: 99.233% | Epoch Time: 117.49 secs\n",
      "Epoch: 133 | Loss: 0.0347 | Training accuracy: 99.328% | Epoch Time: 117.19 secs\n",
      "Epoch: 134 | Loss: 0.0389 | Training accuracy: 99.386% | Epoch Time: 117.24 secs\n",
      "Epoch: 135 | Loss: 0.0381 | Training accuracy: 99.601% | Epoch Time: 117.16 secs\n",
      "Epoch: 136 | Loss: 0.0347 | Training accuracy: 99.499% | Epoch Time: 117.47 secs\n",
      "Epoch: 137 | Loss: 0.0355 | Training accuracy: 99.501% | Epoch Time: 118.04 secs\n",
      "Epoch: 138 | Loss: 0.0367 | Training accuracy: 99.228% | Epoch Time: 116.70 secs\n",
      "Epoch: 139 | Loss: 0.0340 | Training accuracy: 99.057% | Epoch Time: 116.97 secs\n",
      "Epoch: 140 | Loss: 0.0357 | Training accuracy: 99.409% | Epoch Time: 117.72 secs\n",
      "==> Saving model ...\n",
      "Epoch: 141 | Loss: 0.0335 | Training accuracy: 99.432% | Epoch Time: 117.21 secs\n",
      "Epoch: 142 | Loss: 0.0354 | Training accuracy: 99.351% | Epoch Time: 117.74 secs\n",
      "Epoch: 143 | Loss: 0.0356 | Training accuracy: 99.571% | Epoch Time: 117.32 secs\n",
      "Epoch: 144 | Loss: 0.0329 | Training accuracy: 99.535% | Epoch Time: 117.42 secs\n",
      "Epoch: 145 | Loss: 0.0366 | Training accuracy: 99.305% | Epoch Time: 117.29 secs\n",
      "Epoch: 146 | Loss: 0.0370 | Training accuracy: 99.266% | Epoch Time: 119.26 secs\n",
      "Epoch: 147 | Loss: 0.0322 | Training accuracy: 99.346% | Epoch Time: 118.52 secs\n",
      "Epoch: 148 | Loss: 0.0337 | Training accuracy: 99.547% | Epoch Time: 118.69 secs\n",
      "Epoch: 149 | Loss: 0.0341 | Training accuracy: 99.161% | Epoch Time: 117.43 secs\n",
      "Epoch: 150 | Loss: 0.0336 | Training accuracy: 99.540% | Epoch Time: 117.85 secs\n",
      "==> Saving model ...\n",
      "Epoch: 151 | Loss: 0.0333 | Training accuracy: 99.123% | Epoch Time: 117.86 secs\n",
      "Epoch: 152 | Loss: 0.0304 | Training accuracy: 99.192% | Epoch Time: 117.00 secs\n",
      "Epoch: 153 | Loss: 0.0381 | Training accuracy: 99.568% | Epoch Time: 117.90 secs\n",
      "Epoch: 154 | Loss: 0.0345 | Training accuracy: 98.750% | Epoch Time: 117.06 secs\n",
      "Epoch: 155 | Loss: 0.0302 | Training accuracy: 99.806% | Epoch Time: 116.89 secs\n",
      "Epoch: 156 | Loss: 0.0323 | Training accuracy: 99.609% | Epoch Time: 117.99 secs\n",
      "Epoch: 157 | Loss: 0.0328 | Training accuracy: 99.412% | Epoch Time: 117.20 secs\n",
      "Epoch: 158 | Loss: 0.0282 | Training accuracy: 99.739% | Epoch Time: 117.67 secs\n",
      "Epoch: 159 | Loss: 0.0352 | Training accuracy: 99.399% | Epoch Time: 117.37 secs\n",
      "Epoch: 160 | Loss: 0.0320 | Training accuracy: 99.133% | Epoch Time: 117.38 secs\n",
      "==> Saving model ...\n",
      "Epoch: 161 | Loss: 0.0307 | Training accuracy: 99.430% | Epoch Time: 118.22 secs\n",
      "Epoch: 162 | Loss: 0.0308 | Training accuracy: 99.724% | Epoch Time: 117.29 secs\n",
      "Epoch: 163 | Loss: 0.0313 | Training accuracy: 98.834% | Epoch Time: 117.31 secs\n",
      "Epoch: 164 | Loss: 0.0320 | Training accuracy: 99.581% | Epoch Time: 117.75 secs\n",
      "Epoch: 165 | Loss: 0.0305 | Training accuracy: 99.591% | Epoch Time: 117.55 secs\n",
      "Epoch: 166 | Loss: 0.0304 | Training accuracy: 99.709% | Epoch Time: 117.45 secs\n",
      "Epoch: 167 | Loss: 0.0271 | Training accuracy: 99.663% | Epoch Time: 118.30 secs\n",
      "Epoch: 168 | Loss: 0.0322 | Training accuracy: 99.558% | Epoch Time: 117.49 secs\n",
      "Epoch: 169 | Loss: 0.0273 | Training accuracy: 99.540% | Epoch Time: 118.66 secs\n",
      "Epoch: 170 | Loss: 0.0315 | Training accuracy: 99.238% | Epoch Time: 116.90 secs\n",
      "==> Saving model ...\n",
      "Epoch: 171 | Loss: 0.0337 | Training accuracy: 99.476% | Epoch Time: 117.39 secs\n",
      "Epoch: 172 | Loss: 0.0307 | Training accuracy: 99.279% | Epoch Time: 117.50 secs\n",
      "Epoch: 173 | Loss: 0.0281 | Training accuracy: 99.494% | Epoch Time: 117.61 secs\n",
      "Epoch: 174 | Loss: 0.0266 | Training accuracy: 98.998% | Epoch Time: 117.65 secs\n",
      "Epoch: 175 | Loss: 0.0332 | Training accuracy: 99.632% | Epoch Time: 117.68 secs\n",
      "Epoch: 176 | Loss: 0.0281 | Training accuracy: 99.440% | Epoch Time: 117.42 secs\n",
      "Epoch: 177 | Loss: 0.0293 | Training accuracy: 99.696% | Epoch Time: 117.19 secs\n",
      "Epoch: 178 | Loss: 0.0234 | Training accuracy: 99.652% | Epoch Time: 117.10 secs\n",
      "Epoch: 179 | Loss: 0.0290 | Training accuracy: 99.450% | Epoch Time: 117.35 secs\n",
      "Epoch: 180 | Loss: 0.0297 | Training accuracy: 99.711% | Epoch Time: 117.63 secs\n",
      "==> Saving model ...\n",
      "Epoch: 181 | Loss: 0.0272 | Training accuracy: 99.404% | Epoch Time: 116.73 secs\n",
      "Epoch: 182 | Loss: 0.0286 | Training accuracy: 99.617% | Epoch Time: 117.11 secs\n",
      "Epoch: 183 | Loss: 0.0283 | Training accuracy: 99.601% | Epoch Time: 116.94 secs\n",
      "Epoch: 184 | Loss: 0.0264 | Training accuracy: 99.770% | Epoch Time: 117.42 secs\n",
      "Epoch: 185 | Loss: 0.0298 | Training accuracy: 99.670% | Epoch Time: 117.07 secs\n",
      "Epoch: 186 | Loss: 0.0274 | Training accuracy: 99.407% | Epoch Time: 117.21 secs\n",
      "Epoch: 187 | Loss: 0.0284 | Training accuracy: 99.795% | Epoch Time: 116.95 secs\n",
      "Epoch: 188 | Loss: 0.0293 | Training accuracy: 99.647% | Epoch Time: 117.54 secs\n",
      "Epoch: 189 | Loss: 0.0271 | Training accuracy: 99.673% | Epoch Time: 116.51 secs\n",
      "Epoch: 190 | Loss: 0.0269 | Training accuracy: 99.601% | Epoch Time: 116.92 secs\n",
      "==> Saving model ...\n",
      "Epoch: 191 | Loss: 0.0264 | Training accuracy: 99.555% | Epoch Time: 117.45 secs\n",
      "Epoch: 192 | Loss: 0.0279 | Training accuracy: 99.691% | Epoch Time: 117.05 secs\n",
      "Epoch: 193 | Loss: 0.0296 | Training accuracy: 99.604% | Epoch Time: 116.95 secs\n",
      "Epoch: 194 | Loss: 0.0257 | Training accuracy: 99.384% | Epoch Time: 117.04 secs\n",
      "Epoch: 195 | Loss: 0.0263 | Training accuracy: 99.696% | Epoch Time: 117.32 secs\n",
      "Epoch: 196 | Loss: 0.0240 | Training accuracy: 99.747% | Epoch Time: 112.94 secs\n",
      "Epoch: 197 | Loss: 0.0265 | Training accuracy: 99.737% | Epoch Time: 112.36 secs\n",
      "Epoch: 198 | Loss: 0.0275 | Training accuracy: 99.555% | Epoch Time: 112.99 secs\n",
      "Epoch: 199 | Loss: 0.0275 | Training accuracy: 99.673% | Epoch Time: 112.64 secs\n",
      "Epoch: 200 | Loss: 0.0267 | Training accuracy: 99.645% | Epoch Time: 113.31 secs\n",
      "==> Saving model ...\n",
      "==> Finished Training ...\n"
     ]
    }
   ],
   "source": [
    "epochs = 100\n",
    "optuna_100model_loss = []\n",
    "optuna_100model_accuracy = []\n",
    "optuna_model_100epochs = train_model_for_test(train_loader, epochs, optuna_lr, optuna_p, optuna_100model_loss, optuna_100model_accuracy, \"CNN_optuna_model_100epochs\")\n",
    "\n",
    "epochs = 200\n",
    "optuna_200model_loss = []\n",
    "optuna_200model_accuracy = []\n",
    "optuna_model_200epochs = train_model_for_test(train_loader, epochs, optuna_lr, optuna_p, optuna_200model_loss, optuna_200model_accuracy, \"CNN_optuna_model_200epochs\")"
   ],
   "metadata": {
    "collapsed": false,
    "ExecuteTime": {
     "end_time": "2024-03-28T04:33:04.884764Z",
     "start_time": "2024-03-27T18:45:26.300612Z"
    }
   },
   "execution_count": 110
  },
  {
   "cell_type": "markdown",
   "source": [
    "### <img src=\"icons/resized/results.png\" style=\"height:50px;display:inline\"> Results\n",
    "Let's test Optuna's hyperparameters:"
   ],
   "metadata": {
    "collapsed": false
   }
  },
  {
   "cell_type": "code",
   "outputs": [],
   "source": [
    "optuna_100model_results_files_paths = []\n",
    "optuna_200model_results_files_paths = []\n",
    "optuna_model_results_files_paths = []\n",
    "optuna_model_results_files_paths, _ = create_results_file(\"optuna_model\", optuna_model_loss, optuna_model_accuracy, graph=True, parameters=False)\n",
    "optuna_100model_results_files_paths, _ = create_results_file(\"optuna100_model\", optuna_100model_loss, optuna_100model_accuracy, graph=True, parameters=False)\n",
    "optuna_200model_results_files_paths, _ = create_results_file(\"optuna200_model\", optuna_200model_loss, optuna_200model_accuracy, graph=True, parameters=False)\n"
   ],
   "metadata": {
    "collapsed": false,
    "ExecuteTime": {
     "end_time": "2024-03-28T05:15:20.515393Z",
     "start_time": "2024-03-28T05:15:20.495161Z"
    }
   },
   "execution_count": 111
  },
  {
   "cell_type": "code",
   "outputs": [
    {
     "name": "stdout",
     "output_type": "stream",
     "text": [
      "calculating validation accuracy of trained model with batch_size = 76\n",
      " lr = 0.00039047299241270366\n",
      "val accuracy:97.21020163889145\n",
      "calculating test accuracy of trained model with batch_size = 76\n",
      " lr = 0.00039047299241270366\n",
      "test accuracy:97.34288354898337\n",
      "calculating test accuracy of model optuna_50epochs...\n",
      "test accuracy:97.34288354898337\n",
      "calculating test accuracy of model optuna_100epochs...\n",
      "test accuracy:97.41219963031423\n",
      "calculating test accuracy of model optuna_200epochs...\n",
      "test accuracy:98.42883548983365\n"
     ]
    }
   ],
   "source": [
    "validation_accuracy, _ = calculate_accuracy(optuna_model, valid_loader, device)\n",
    "print(f\"calculating validation accuracy of trained model with batch_size = {optuna_batch_size}\\n lr = {optuna_lr}\")\n",
    "print(f\"val accuracy:{validation_accuracy}\")\n",
    "\n",
    "test_loader = torch.utils.data.DataLoader(test_dataset, batch_size=optuna_batch_size, shuffle=False)\n",
    "test_accuracy, _ = calculate_accuracy(optuna_model, test_loader, device)\n",
    "print(f\"calculating test accuracy of trained model with batch_size = {optuna_batch_size}\\n lr = {optuna_lr}\")\n",
    "print(f\"test accuracy:{test_accuracy}\")\n",
    "\n",
    "models_dict = {\"optuna_50epochs\": optuna_model, \"optuna_100epochs\": optuna_model_100epochs, \"optuna_200epochs\": optuna_model_200epochs}\n",
    "for key in models_dict.keys():\n",
    "    test_accuracy, _ = calculate_accuracy(models_dict[key], test_loader, device)\n",
    "    print(f\"calculating test accuracy of model {key}...\\ntest accuracy:{test_accuracy}\")\n"
   ],
   "metadata": {
    "collapsed": false,
    "ExecuteTime": {
     "end_time": "2024-03-28T05:24:04.547209Z",
     "start_time": "2024-03-28T05:23:22.299358Z"
    }
   },
   "execution_count": 113
  },
  {
   "cell_type": "markdown",
   "source": [
    "### <img src=\"icons/resized/graph.png\" style=\"height:50px;display:inline\"> Graphs:"
   ],
   "metadata": {
    "collapsed": false
   }
  },
  {
   "cell_type": "code",
   "outputs": [
    {
     "data": {
      "text/plain": "<Figure size 640x480 with 1 Axes>",
      "image/png": "[encoded data removed]"
     },
     "metadata": {},
     "output_type": "display_data"
    },
    {
     "data": {
      "text/plain": "<Figure size 640x480 with 1 Axes>",
      "image/png": "[encoded data removed]"
     },
     "metadata": {},
     "output_type": "display_data"
    }
   ],
   "source": [
    "from plotutils import *\n",
    "random_search_loss_results_path = random_search_model_results_files_paths[0]\n",
    "random_search_accuracy_results_path = random_search_model_results_files_paths[1]\n",
    "\n",
    "optuna_loss_results_path = optuna_model_results_files_paths[0]\n",
    "optuna_accuracy_results_path = optuna_model_results_files_paths[1]\n",
    "\n",
    "optuna100_loss_results_path = optuna_100model_results_files_paths[0]\n",
    "optuna100_accuracy_results_path = optuna_100model_results_files_paths[1]\n",
    "\n",
    "optuna200_loss_results_path = optuna_200model_results_files_paths[0]\n",
    "optuna200_accuracy_results_path = optuna_200model_results_files_paths[1]\n",
    "\n",
    "plot_results([random_search_loss_results_path, optuna_loss_results_path, optuna100_loss_results_path, optuna200_loss_results_path], \"loss\")\n",
    "plot_results([random_search_accuracy_results_path, optuna_accuracy_results_path, optuna100_accuracy_results_path, optuna200_accuracy_results_path], \"accuracy\")"
   ],
   "metadata": {
    "collapsed": false,
    "ExecuteTime": {
     "end_time": "2024-03-28T05:17:24.972904Z",
     "start_time": "2024-03-28T05:17:24.748178Z"
    }
   },
   "execution_count": 112
  },
  {
   "cell_type": "markdown",
   "source": [
    "STOPPED HERE!!!!!!!!!!!!!"
   ],
   "metadata": {
    "collapsed": false
   }
  },
  {
   "cell_type": "code",
   "outputs": [],
   "source": [
    "gradcam_model = plantDiseaseCNN()\n",
    "if os.path.isfile('checkpoints/CNN_optuna_model_200epochs.pth'):\n",
    "    checkpoint = torch.load('checkpoints/CNN_optuna_model_200epochs.pth')\n",
    "    gradcam_model.load_state_dict(checkpoint['net'])\n",
    "    epoch = checkpoint['epoch']\n",
    "gradcam_model.to(device)\n",
    "grad_cam_gradients = {}\n",
    "activation_hook_output = None\n",
    "def hook_fn(module, grad_input, grad_output):\n",
    "    grad_cam_gradients['grad'] = grad_output[0]\n",
    "    \n",
    "def activation_hook_fn(module, input, output):\n",
    "    global activation_hook_output\n",
    "    activation_hook_output = output\n"
   ],
   "metadata": {
    "collapsed": false,
    "ExecuteTime": {
     "end_time": "2024-03-28T05:48:50.543753Z",
     "start_time": "2024-03-28T05:48:49.998688Z"
    }
   },
   "execution_count": 142
  },
  {
   "cell_type": "code",
   "outputs": [
    {
     "name": "stdout",
     "output_type": "stream",
     "text": [
      "tensor([[[0.5882, 0.5961, 0.6000,  ..., 0.4824, 0.4784, 0.4667],\n",
      "         [0.5882, 0.5882, 0.5961,  ..., 0.5059, 0.4902, 0.5020],\n",
      "         [0.5922, 0.5843, 0.5961,  ..., 0.5569, 0.5412, 0.5294],\n",
      "         ...,\n",
      "         [0.5686, 0.5529, 0.5529,  ..., 0.6235, 0.6157, 0.6196],\n",
      "         [0.5529, 0.5490, 0.5333,  ..., 0.5961, 0.6000, 0.6000],\n",
      "         [0.5294, 0.5137, 0.5294,  ..., 0.5725, 0.5686, 0.5686]],\n",
      "\n",
      "        [[0.5255, 0.5333, 0.5294,  ..., 0.4275, 0.4196, 0.4118],\n",
      "         [0.5255, 0.5255, 0.5255,  ..., 0.4471, 0.4353, 0.4471],\n",
      "         [0.5216, 0.5176, 0.5333,  ..., 0.4980, 0.4824, 0.4706],\n",
      "         ...,\n",
      "         [0.5294, 0.5137, 0.4980,  ..., 0.5882, 0.5882, 0.5922],\n",
      "         [0.5098, 0.5059, 0.4902,  ..., 0.5686, 0.5765, 0.5765],\n",
      "         [0.4863, 0.4706, 0.4863,  ..., 0.5490, 0.5451, 0.5451]],\n",
      "\n",
      "        [[0.6275, 0.6353, 0.6314,  ..., 0.5176, 0.5098, 0.5020],\n",
      "         [0.6275, 0.6275, 0.6275,  ..., 0.5373, 0.5255, 0.5333],\n",
      "         [0.6235, 0.6196, 0.6275,  ..., 0.5843, 0.5647, 0.5529],\n",
      "         ...,\n",
      "         [0.6392, 0.6235, 0.6196,  ..., 0.6941, 0.6941, 0.6980],\n",
      "         [0.6353, 0.6314, 0.6118,  ..., 0.6706, 0.6784, 0.6784],\n",
      "         [0.6118, 0.5961, 0.6078,  ..., 0.6510, 0.6471, 0.6471]]])\n",
      "Apple___Black_rot\n"
     ]
    }
   ],
   "source": [
    "first_batch = next(iter(test_loader))\n",
    "img = first_batch[0][50]\n",
    "print(img)\n",
    "label = first_batch[1][50]\n",
    "print(test_dataset.classes[label])"
   ],
   "metadata": {
    "collapsed": false,
    "ExecuteTime": {
     "end_time": "2024-03-28T05:48:53.126374Z",
     "start_time": "2024-03-28T05:48:53.044362Z"
    }
   },
   "execution_count": 143
  },
  {
   "cell_type": "code",
   "outputs": [],
   "source": [
    "# helper functions\n",
    "from PIL import Image\n",
    "def to_grayscale(image):\n",
    "    \"\"\"\n",
    "    input is (d,w,h)\n",
    "    converts 3D image tensor to grayscale images corresponding to each channel\n",
    "    \"\"\"\n",
    "    image = torch.sum(image, dim=0)\n",
    "    image = torch.div(image, image.shape[0])\n",
    "    return image\n",
    "\n",
    "def normalize(image, device=torch.device(\"cpu\")):\n",
    "    normalize = transforms.Normalize(\n",
    "    mean=[0.485, 0.456, 0.406],\n",
    "    std=[0.229, 0.224, 0.225]\n",
    "    )\n",
    "    preprocess = transforms.Compose([\n",
    "    transforms.Resize((32, 32)),\n",
    "    transforms.ToTensor(),\n",
    "    normalize])\n",
    "\n",
    "    if isinstance(image, torch.Tensor):\n",
    "        # Convert the tensor to PIL Image\n",
    "        image = transforms.ToPILImage()(image)\n",
    "    image = preprocess(image).unsqueeze(0).to(device)\n",
    "    return image\n",
    "\n",
    "def predict(image, model, labels=None):\n",
    "    _, index = model(image).data[0].max(0)\n",
    "    if labels is not None:\n",
    "        return str(index.item()), labels[str(index.item())][1]\n",
    "    else:\n",
    "        return str(index.item()) \n",
    "    \n",
    "def deprocess(image, device=torch.device(\"cpu\")):\n",
    "    return image * torch.tensor([0.229, 0.224, 0.225]).to(device) + torch.tensor([0.485, 0.456, 0.406]).to(device)\n",
    "\n",
    "def load_image(path):\n",
    "    image = Image.open(path)\n",
    "    plt.imshow(image)\n",
    "    plt.title(\"Image loaded successfully\")\n",
    "    return image"
   ],
   "metadata": {
    "collapsed": false,
    "ExecuteTime": {
     "end_time": "2024-03-28T05:48:57.121378Z",
     "start_time": "2024-03-28T05:48:57.116755Z"
    }
   },
   "execution_count": 144
  },
  {
   "cell_type": "code",
   "outputs": [
    {
     "data": {
      "text/plain": "<Figure size 640x480 with 1 Axes>",
      "image/png": "[encoded data removed]"
     },
     "metadata": {},
     "output_type": "display_data"
    }
   ],
   "source": [
    "img_to_show = normalize(img)\n",
    "\n",
    "\n",
    "img_to_show_np = img_to_show.cpu().numpy().squeeze().transpose(1, 2, 0)\n",
    "img_to_show_normalized = (img_to_show_np - img_to_show_np.min()) / (img_to_show_np.max() - img_to_show_np.min())\n",
    "#gradcam_model.eval()\n",
    "# Display the image using plt.imshow\n",
    "plt.imshow(img_to_show_normalized)\n",
    "plt.axis('off')  # Turn off axis labels\n",
    "plt.show()\n",
    "img = img.unsqueeze(0).to(device)\n",
    "#print(label)\n",
    "#print(gradcam_model(img).argmax())"
   ],
   "metadata": {
    "collapsed": false,
    "ExecuteTime": {
     "end_time": "2024-03-28T05:49:00.529925Z",
     "start_time": "2024-03-28T05:49:00.485677Z"
    }
   },
   "execution_count": 145
  },
  {
   "cell_type": "code",
   "outputs": [],
   "source": [
    "backward_hook = gradcam_model.conv_layer[-1].register_backward_hook(hook_fn)\n",
    "forward_hook = gradcam_model.conv_layer[-1].register_forward_hook(activation_hook_fn)"
   ],
   "metadata": {
    "collapsed": false,
    "ExecuteTime": {
     "end_time": "2024-03-28T05:49:05.140813Z",
     "start_time": "2024-03-28T05:49:05.138599Z"
    }
   },
   "execution_count": 146
  },
  {
   "cell_type": "code",
   "outputs": [
    {
     "name": "stdout",
     "output_type": "stream",
     "text": [
      "tensor([[[[-4.3047e-01,  2.2873e-01,  6.5804e-01, -2.7408e-01],\n",
      "          [-2.5584e-01, -6.7094e-01, -2.0224e+00, -1.4541e+00],\n",
      "          [ 6.4562e-01, -1.5066e+00, -4.8837e-01, -1.0308e+00],\n",
      "          [ 2.3415e-01, -1.6907e+00, -8.2746e-01, -1.0464e+00]],\n",
      "\n",
      "         [[-1.0979e+00, -5.3786e-01, -4.9945e-01, -2.0434e-01],\n",
      "          [-7.6309e-01, -1.0193e+00, -1.9462e+00,  5.5856e-01],\n",
      "          [-1.6758e-01,  6.4161e-01,  1.0757e+00,  9.6643e-01],\n",
      "          [ 1.6762e-01, -7.8158e-01, -1.3351e+00, -1.5170e+00]],\n",
      "\n",
      "         [[-5.3404e-01, -5.9694e-01, -1.8938e-01,  3.2734e-01],\n",
      "          [ 2.7262e-01,  4.1915e-01,  1.1054e+00, -6.1216e-01],\n",
      "          [ 1.8169e-01, -3.5839e-01,  8.6731e-01,  4.4678e-01],\n",
      "          [-1.1387e-01,  3.1408e-02,  9.5732e-02,  3.0434e-01]],\n",
      "\n",
      "         [[ 4.4289e-01,  2.9601e-01,  3.8400e-01, -6.5983e-01],\n",
      "          [-1.5946e+00, -2.9158e+00, -1.9425e+00, -1.5076e+00],\n",
      "          [ 1.6538e+00,  5.7674e-01,  2.1482e+00,  1.1969e-01],\n",
      "          [ 5.8745e-01,  1.0762e+00,  2.0300e+00,  2.9364e-01]],\n",
      "\n",
      "         [[ 5.8744e-01, -1.7780e+00,  2.8473e-01,  1.4492e-01],\n",
      "          [-1.2751e-01, -1.4311e+00, -5.6024e-01, -9.3791e-01],\n",
      "          [ 1.4082e+00,  1.8151e+00, -4.2501e-01, -7.7744e-01],\n",
      "          [-3.2206e-01,  4.2277e-01, -3.2322e-01,  5.1219e-01]],\n",
      "\n",
      "         [[ 1.8245e-01,  5.8149e-01,  2.9014e-02, -3.0147e-03],\n",
      "          [ 6.8779e-01,  1.3208e+00,  1.6870e+00,  8.6628e-01],\n",
      "          [-1.3806e+00, -2.1965e+00,  1.7522e-01,  1.3091e-01],\n",
      "          [-5.5426e-01, -7.0738e-01, -6.0185e-01, -4.3706e-01]],\n",
      "\n",
      "         [[-1.3971e+00, -2.4266e+00, -3.4708e+00, -1.8841e+00],\n",
      "          [-7.8523e-01,  3.6388e-01,  1.0014e+00,  1.2724e+00],\n",
      "          [ 2.7521e-01,  3.2728e-02,  6.1909e-01,  6.3908e-01],\n",
      "          [ 4.7249e-01,  3.5000e-01,  1.7266e-01,  7.1623e-01]],\n",
      "\n",
      "         [[-8.9341e-01, -2.0920e+00, -1.5630e+00, -1.4255e+00],\n",
      "          [-1.3435e+00, -1.3744e+00,  8.0169e-01,  9.4221e-01],\n",
      "          [-1.7232e+00, -2.0303e+00,  1.1482e+00,  1.4311e+00],\n",
      "          [ 5.4461e-01,  4.2819e-02,  1.6140e+00,  7.9958e-01]],\n",
      "\n",
      "         [[-2.6789e-01, -4.0746e-01, -1.3123e-01, -1.4201e+00],\n",
      "          [-1.2018e+00, -2.8724e+00, -9.8420e-01, -1.3279e-01],\n",
      "          [-1.3331e+00, -6.6595e-01,  1.8397e+00,  1.8610e+00],\n",
      "          [-3.3987e-01,  4.1564e-01,  1.2825e+00,  7.0591e-01]],\n",
      "\n",
      "         [[-8.0753e-01, -2.2078e+00, -1.3332e-02,  2.2044e-01],\n",
      "          [-1.0061e+00, -4.1745e-01,  1.3757e-01,  2.1806e+00],\n",
      "          [-2.0422e-01,  1.3443e+00,  9.6490e-01,  2.0972e+00],\n",
      "          [ 3.1126e-01,  1.8942e+00, -1.6064e-01,  2.5389e-01]],\n",
      "\n",
      "         [[ 1.2472e-01, -1.0906e-01,  9.8610e-01,  6.6478e-01],\n",
      "          [-1.8218e+00, -1.6819e+00,  7.0128e-01,  3.4463e-01],\n",
      "          [-1.7017e+00,  2.6645e-02,  3.3492e-01,  1.5911e-01],\n",
      "          [ 5.7462e-01,  2.9901e+00,  2.6993e+00,  1.3395e+00]],\n",
      "\n",
      "         [[-6.0789e-01, -7.7694e-01, -1.3130e+00,  2.4979e-01],\n",
      "          [ 1.5882e+00,  3.3319e+00, -3.2719e-01,  1.4056e+00],\n",
      "          [ 1.3552e+00,  1.0382e+00, -1.1374e+00, -2.4663e-02],\n",
      "          [ 7.9435e-01, -1.1223e+00, -5.3568e-02, -4.6073e-01]],\n",
      "\n",
      "         [[ 3.0104e-01,  1.4819e+00,  1.0883e+00,  1.8778e+00],\n",
      "          [-4.0674e-01, -9.5029e-01, -7.6621e-01,  5.0009e-01],\n",
      "          [-9.9727e-01, -3.4871e+00, -2.3089e+00, -2.6161e+00],\n",
      "          [-2.8667e-01, -4.8323e-01, -1.5096e+00, -8.3196e-01]],\n",
      "\n",
      "         [[ 1.8510e+00,  1.1166e+00,  1.5637e+00, -2.2049e-01],\n",
      "          [ 6.8717e-01,  1.5006e+00,  2.2474e+00,  2.4676e-02],\n",
      "          [-2.9212e-01, -1.0103e-01, -1.2579e+00, -1.9528e-01],\n",
      "          [-4.2506e-01, -3.4002e-01, -1.0589e+00, -5.9116e-01]],\n",
      "\n",
      "         [[ 1.3400e-01, -1.3241e+00, -3.0947e-01, -1.2559e+00],\n",
      "          [ 1.2000e+00,  3.9476e-01, -1.2645e+00, -8.1366e-01],\n",
      "          [ 1.1945e-01,  3.4974e-01, -1.7702e+00, -5.8962e-02],\n",
      "          [-7.6206e-02, -1.3083e+00, -2.0801e+00, -1.4338e+00]],\n",
      "\n",
      "         [[ 9.1986e-01,  8.0168e-01,  1.8673e+00,  1.9118e+00],\n",
      "          [-2.1423e+00, -2.1764e+00, -3.8127e-01,  1.0635e+00],\n",
      "          [-3.6361e-01,  1.2401e+00,  7.8969e-01,  1.7384e+00],\n",
      "          [ 1.4673e-01,  1.6422e+00, -6.3417e-01,  2.0058e-01]]]],\n",
      "       device='mps:0')\n",
      "tensor(1, device='mps:0')\n",
      "{'grad': tensor([[[[-1.3045e-01,  1.4634e-02,  1.5203e-02, -1.3239e-01],\n",
      "          [ 1.4801e-01, -7.5249e-02,  1.6229e-02, -5.8492e-02],\n",
      "          [-9.3531e-03, -1.8882e-01, -1.2317e-01, -2.3579e-01],\n",
      "          [-7.2180e-02, -1.8983e-01, -1.1937e-01, -2.5816e-01]],\n",
      "\n",
      "         [[-1.7777e-01, -1.8780e-01,  2.3274e-02, -6.4453e-02],\n",
      "          [-1.3590e-01, -1.1128e-01, -1.4537e-01, -1.1183e-02],\n",
      "          [-9.0351e-02, -9.1910e-02, -1.3069e-02,  6.5719e-03],\n",
      "          [ 2.0678e-01,  2.3875e-02, -1.7286e-01, -2.5918e-02]],\n",
      "\n",
      "         [[-2.0273e-01,  1.9956e-02,  8.5668e-03, -9.1832e-02],\n",
      "          [ 5.5037e-02, -1.6629e-02,  4.2264e-02, -7.7439e-02],\n",
      "          [ 1.6810e-01,  1.5451e-01,  2.0267e-01,  1.1197e-01],\n",
      "          [-6.3372e-03,  1.3159e-02,  9.1628e-02,  1.2595e-01]],\n",
      "\n",
      "         [[-4.1618e-02, -4.8330e-02, -1.5463e-01, -2.6514e-01],\n",
      "          [ 3.5048e-02, -8.9960e-02, -2.4817e-01, -3.1318e-01],\n",
      "          [ 1.9163e-01,  2.9431e-02,  4.0797e-02, -1.7064e-01],\n",
      "          [-3.5239e-02, -6.6338e-03, -7.1111e-02, -2.0351e-01]],\n",
      "\n",
      "         [[ 5.9013e-02, -2.9196e-01,  1.1221e-01, -1.3322e-01],\n",
      "          [-8.2188e-02,  5.4786e-02, -2.0439e-02, -1.6837e-01],\n",
      "          [-1.8273e-01, -2.3161e-02, -2.1853e-01, -1.5549e-01],\n",
      "          [-2.6013e-02,  3.0013e-02, -1.0051e-01, -3.9443e-03]],\n",
      "\n",
      "         [[-1.1531e-01,  2.5471e-02, -2.7315e-01, -2.2332e-01],\n",
      "          [-1.3656e-01, -1.4911e-01,  3.8060e-02, -6.5723e-02],\n",
      "          [-1.0235e-01, -1.0805e-01,  1.3365e-01,  4.3279e-03],\n",
      "          [-1.2713e-01, -9.8889e-03,  1.4180e-01,  7.1624e-02]],\n",
      "\n",
      "         [[-1.8922e-01, -7.7163e-02, -1.9592e-01, -1.9806e-01],\n",
      "          [-8.5167e-02,  1.2635e-01,  1.0887e-01,  4.1020e-02],\n",
      "          [ 4.1397e-03, -8.6864e-02,  2.9669e-03, -7.8426e-02],\n",
      "          [ 2.0792e-01,  1.7004e-01,  1.9501e-02,  8.7991e-02]],\n",
      "\n",
      "         [[-1.3648e-01, -1.1765e-01, -1.2919e-01, -3.1657e-01],\n",
      "          [-9.5434e-02, -6.0906e-02, -1.4674e-01, -1.9474e-01],\n",
      "          [ 1.0935e-01, -6.3176e-02, -1.1506e-01, -8.1123e-02],\n",
      "          [ 1.2420e-01, -9.5291e-02,  4.4429e-02,  5.8405e-03]],\n",
      "\n",
      "         [[-2.3639e-01, -9.6326e-02, -3.1163e-02, -1.1324e-01],\n",
      "          [-1.5420e-01, -8.9061e-02, -4.4056e-02,  4.3425e-02],\n",
      "          [-2.4493e-01, -9.4080e-02,  1.4230e-02,  2.2035e-02],\n",
      "          [-8.2681e-02, -1.0291e-02,  1.0726e-01,  1.5168e-02]],\n",
      "\n",
      "         [[-5.4725e-02, -5.9987e-02,  1.8148e-01,  1.2368e-01],\n",
      "          [ 1.0259e-02,  7.9873e-03, -2.0507e-02,  8.6492e-02],\n",
      "          [-8.3920e-02,  4.5594e-02,  4.7098e-02,  5.0840e-02],\n",
      "          [-1.8791e-01, -2.4852e-02, -1.3786e-01, -5.6489e-02]],\n",
      "\n",
      "         [[ 1.3851e-01,  3.4390e-01,  2.5772e-01,  2.9991e-01],\n",
      "          [-1.6990e-01, -1.1243e-01, -3.6063e-02, -2.6120e-02],\n",
      "          [-2.0499e-01, -3.7578e-03,  9.4293e-02,  1.3904e-02],\n",
      "          [ 2.7315e-01,  8.9166e-02,  1.6054e-01,  9.8548e-02]],\n",
      "\n",
      "         [[-1.0519e-01, -8.5718e-04, -1.6179e-01, -2.0381e-01],\n",
      "          [ 2.6234e-02,  1.3224e-01, -3.6598e-04,  6.2268e-02],\n",
      "          [ 3.6729e-02,  4.1421e-02,  7.9793e-02,  1.8126e-01],\n",
      "          [-8.9263e-02, -1.8815e-01,  1.1113e-01, -6.3077e-02]],\n",
      "\n",
      "         [[-6.1034e-02,  1.2483e-01,  1.5695e-01,  2.7334e-01],\n",
      "          [-1.8374e-01, -3.6014e-02,  3.3354e-02,  1.9403e-01],\n",
      "          [-1.8359e-01, -5.1179e-02,  5.8249e-02, -6.8867e-02],\n",
      "          [-8.9697e-02, -2.3137e-03,  4.0808e-02, -1.0495e-01]],\n",
      "\n",
      "         [[ 2.8094e-01,  8.5491e-02,  8.9884e-02, -1.8746e-01],\n",
      "          [ 1.0542e-01,  1.7182e-01,  1.1054e-01, -3.3379e-02],\n",
      "          [ 3.6023e-03,  4.7991e-02, -5.8762e-02,  7.4953e-02],\n",
      "          [-1.5086e-01, -2.1375e-01, -2.5007e-01, -1.5572e-01]],\n",
      "\n",
      "         [[ 8.9880e-02, -5.6040e-02,  7.6961e-02, -1.5431e-01],\n",
      "          [ 1.7206e-01,  8.9866e-02,  3.7577e-03,  2.0770e-04],\n",
      "          [-5.4698e-02, -7.8114e-02, -8.3905e-03,  2.1132e-02],\n",
      "          [-1.0838e-01, -1.6578e-01, -1.3138e-01, -1.3844e-01]],\n",
      "\n",
      "         [[-6.9899e-02, -6.1282e-02,  7.7997e-02,  5.5435e-02],\n",
      "          [-3.4549e-01, -1.9624e-01, -9.3737e-02, -9.7100e-02],\n",
      "          [-2.3608e-01, -2.0334e-02,  7.4422e-02,  5.9687e-02],\n",
      "          [-4.0082e-02,  6.3242e-02, -3.9437e-02,  9.6771e-02]]]],\n",
      "       device='mps:0')}\n"
     ]
    }
   ],
   "source": [
    "gradcam_model.eval()\n",
    "with torch.no_grad():\n",
    "    gradcam_model(img)\n",
    "\n",
    "print(activation_hook_output)\n",
    "forward_hook.remove()\n",
    "output = gradcam_model(img)\n",
    "print(output.argmax())\n",
    "output[:, label].backward()\n",
    "print(grad_cam_gradients)\n",
    "pooled_gradients = grad_cam_gradients['grad']\n",
    "gradients = pooled_gradients"
   ],
   "metadata": {
    "collapsed": false,
    "ExecuteTime": {
     "end_time": "2024-03-28T05:49:09.883894Z",
     "start_time": "2024-03-28T05:49:08.307668Z"
    }
   },
   "execution_count": 147
  },
  {
   "cell_type": "code",
   "outputs": [
    {
     "name": "stdout",
     "output_type": "stream",
     "text": [
      "(4, 4)\n",
      "<class 'numpy.ndarray'>\n",
      "(4, 4)\n"
     ]
    },
    {
     "data": {
      "text/plain": "<Figure size 640x480 with 2 Axes>",
      "image/png": "[encoded data removed]"
     },
     "metadata": {},
     "output_type": "display_data"
    }
   ],
   "source": [
    "pooled_gradients = torch.mean(gradients, dim=[0, 2, 3])\n",
    "\n",
    "# Get the activations of the last convolutional layer\n",
    "activations = activation_hook_output\n",
    "\n",
    "# Weight the channels by the pooled gradients and compute the heatmap\n",
    "for i in range(activations.shape[1]):\n",
    "    activations[:, i, :, :] *= pooled_gradients[i]\n",
    "\n",
    "# Average the weighted activations along the channels\n",
    "heatmap = torch.mean(activations, dim=1).squeeze().cpu().numpy()\n",
    "heatmap = np.maximum(heatmap, 0)  # ReLU to remove negative values\n",
    "\n",
    "# Check if the maximum value in the heatmap is non-zero before normalization\n",
    "max_value = np.max(heatmap)\n",
    "if max_value != 0:\n",
    "    heatmap /= max_value  # Normalize only if the maximum value is non-zero\n",
    "# Show the original image and heatmap\n",
    "plt.imshow(heatmap, alpha=0.6, cmap='jet')\n",
    "plt.colorbar()\n",
    "plt.show()"
   ],
   "metadata": {
    "collapsed": false,
    "ExecuteTime": {
     "end_time": "2024-03-28T05:49:23.500447Z",
     "start_time": "2024-03-28T05:49:23.281352Z"
    }
   },
   "execution_count": 148
  },
  {
   "cell_type": "code",
   "outputs": [
    {
     "data": {
      "text/plain": "True"
     },
     "execution_count": 149,
     "metadata": {},
     "output_type": "execute_result"
    }
   ],
   "source": [
    "img = cv2.imread(local_root_dir + '/test/Apple___Black_rot/0b37761a-de32-47ee-a3a4-e138b97ef542___JR_FrgE.S 2908.JPG')\n",
    "heatmap = cv2.resize(heatmap, (img.shape[1], img.shape[0]))\n",
    "heatmap = np.uint8(255 * heatmap)\n",
    "heatmap = cv2.applyColorMap(heatmap, cv2.COLORMAP_JET)\n",
    "superimposed_img = heatmap * 0.4 + img\n",
    "cv2.imwrite('./map.jpg', superimposed_img)"
   ],
   "metadata": {
    "collapsed": false,
    "ExecuteTime": {
     "end_time": "2024-03-28T05:49:54.493307Z",
     "start_time": "2024-03-28T05:49:54.335677Z"
    }
   },
   "execution_count": 149
  },
  {
   "cell_type": "markdown",
   "source": [
    "### <img src=\"map.jpg\" style=\"height:50px;display:inline\"> "
   ],
   "metadata": {
    "collapsed": false
   }
  },
  {
   "cell_type": "code",
   "outputs": [],
   "source": [
    "backward_hook.remove()"
   ],
   "metadata": {
    "collapsed": false,
    "ExecuteTime": {
     "end_time": "2024-03-28T05:49:57.528571Z",
     "start_time": "2024-03-28T05:49:57.524816Z"
    }
   },
   "execution_count": 150
  },
  {
   "cell_type": "code",
   "execution_count": null,
   "metadata": {
    "collapsed": false
   },
   "outputs": [],
   "source": [
    "Peach_Bacterial_spot = load_image(\"Dataset/Plant_Diseases/New Plant Diseases Dataset(Augmented)/New Plant Diseases Dataset(Augmented)/train/Peach___Bacterial_spot/0bb77fcc-27ca-474f-beae-6b3519727cf9___Rutg._Bact.S 1901.JPG\")\n",
    "prep_img = normalize(Peach_Bacterial_spot, device)\n",
    "print(\"predicted class:\", predict(prep_img, best_trained_model))"
   ]
  },
  {
   "cell_type": "code",
   "execution_count": null,
   "metadata": {
    "collapsed": false
   },
   "outputs": [],
   "source": [
    "def normalize_for_layers_view(image, device=torch.device(\"cpu\")):\n",
    "    normalize = transforms.Normalize(\n",
    "    mean=[0.485, 0.456, 0.406],\n",
    "    std=[0.229, 0.224, 0.225]\n",
    "    )\n",
    "    preprocess = transforms.Compose([\n",
    "    transforms.Resize((224, 224)),\n",
    "    transforms.ToTensor(),\n",
    "    ])\n",
    "    image = preprocess(image).unsqueeze(0).to(device)\n",
    "    return image\n",
    "prep_img = normalize_for_layers_view(Peach_Bacterial_spot, device)"
   ]
  },
  {
   "cell_type": "code",
   "execution_count": null,
   "metadata": {
    "collapsed": false
   },
   "outputs": [],
   "source": [
    "def layer_outputs(image, model):\n",
    "\n",
    "    outputs = []\n",
    "    names = []\n",
    "        \n",
    "    for layer in model.conv_layer:\n",
    "    \n",
    "        image = layer(image)\n",
    "        outputs.append(image)\n",
    "        names.append(str(layer))\n",
    "    \n",
    "    output_im = []\n",
    "    for i in outputs:\n",
    "        i = i.squeeze(0)\n",
    "        temp = to_grayscale(i)  # take the mean\n",
    "        output_im.append(temp.data.cpu().numpy())\n",
    "        \n",
    "    fig = plt.figure(figsize=(30, 50))\n",
    "\n",
    "    for i in range(len(output_im)):\n",
    "        a = fig.add_subplot(8, 4, i+1)\n",
    "        imgplot = plt.imshow(output_im[i])\n",
    "        a.set_axis_off()\n",
    "        a.set_title(names[i].partition('(')[0], fontsize=30)\n",
    "    plt.tight_layout()"
   ]
  },
  {
   "cell_type": "code",
   "execution_count": null,
   "metadata": {
    "collapsed": false
   },
   "outputs": [],
   "source": [
    "layer_outputs(prep_img, best_trained_model)"
   ]
  },
  {
   "cell_type": "code",
   "outputs": [
    {
     "data": {
      "text/plain": "'model_graph.pdf'"
     },
     "execution_count": 65,
     "metadata": {},
     "output_type": "execute_result"
    }
   ],
   "source": [
    "from torchviz import make_dot\n",
    "model = plantDiseaseCNN()\n",
    "x = torch.randn(1, 3, 32, 32)  # Example input shape\n",
    "output = model(x)\n",
    "dot = make_dot(output, params=dict(model.named_parameters()))\n",
    "dot.render(\"model_graph\", format=\"png\")  # Save the graph as a PNG file\n",
    "dot.view()  # Display the graph in your default image viewer"
   ],
   "metadata": {
    "collapsed": false,
    "ExecuteTime": {
     "end_time": "2024-03-27T11:03:06.373239Z",
     "start_time": "2024-03-27T11:03:04.053980Z"
    }
   },
   "execution_count": 65
  }
 ],
 "metadata": {
  "accelerator": "GPU",
  "colab": {
   "gpuType": "T4",
   "provenance": []
  },
  "kernelspec": {
   "display_name": "Python 3 (ipykernel)",
   "language": "python",
   "name": "python3"
  },
  "language_info": {
   "name": "python"
  }
 },
 "nbformat": 4,
 "nbformat_minor": 0
}
